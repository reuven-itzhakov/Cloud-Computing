{
  "nbformat": 4,
  "nbformat_minor": 0,
  "metadata": {
    "colab": {
      "provenance": [],
      "mount_file_id": "1KyN7FlL4MdVFNO4At6NjCY1pcAkdYpGC",
      "authorship_tag": "ABX9TyMEXR6jmHLzvf81Ybtx/t3Z",
      "include_colab_link": true
    },
    "kernelspec": {
      "name": "python3",
      "display_name": "Python 3"
    },
    "language_info": {
      "name": "python"
    }
  },
  "cells": [
    {
      "cell_type": "markdown",
      "metadata": {
        "id": "view-in-github",
        "colab_type": "text"
      },
      "source": [
        "<a href=\"https://colab.research.google.com/github/reuven-itzhakov/Cloud-Computing/blob/main/Cloud_Lab2.ipynb\" target=\"_parent\"><img src=\"https://colab.research.google.com/assets/colab-badge.svg\" alt=\"Open In Colab\"/></a>"
      ]
    },
    {
      "cell_type": "code",
      "execution_count": 8,
      "metadata": {
        "colab": {
          "base_uri": "https://localhost:8080/"
        },
        "id": "AUkuF8A5_FJ4",
        "outputId": "7f988b17-924f-4c57-afd2-835e1b875690"
      },
      "outputs": [
        {
          "output_type": "stream",
          "name": "stdout",
          "text": [
            "Drive already mounted at /content/drive; to attempt to forcibly remount, call drive.mount(\"/content/drive\", force_remount=True).\n"
          ]
        }
      ],
      "source": [
        "import json\n",
        "from google.colab import drive\n",
        "drive.mount('/content/drive')"
      ]
    },
    {
      "cell_type": "code",
      "source": [
        "from ctypes import Array\n",
        "from array import array\n",
        "from os import close\n",
        "\n",
        "\n",
        "id = 2 #@param {type:\"integer\", placeholder:\"123456789\"}\n",
        "fname = \"2\" #@param {type:\"string\", placeholder:\"Name\"}\n",
        "lname = \"2\" #@param {type:\"string\", placeholder:\"Last Name\"}\n",
        "email = \"2\" #@param {type:\"string\", placeholder:\"Email\"}\n",
        "fav = \"2\" #@param {type:\"string\", placeholder:\"Favorite Show\"}\n",
        "\n",
        "dic = {\n",
        "    \"id\": id,\n",
        "    \"fname\": fname,\n",
        "    \"lname\": lname,\n",
        "    \"email\": email,\n",
        "    \"fav\": fav\n",
        "}\n",
        "\n",
        "arr = []\n",
        "flag = True\n",
        "\n",
        "try:\n",
        "  with open(\"/content/drive/MyDrive/Colab Notebooks/students.json\", \"r\") as file:\n",
        "    arr = json.load(file)\n",
        "except json.JSONDecodeError:\n",
        "  arr = {\"students\": []}\n",
        "\n",
        "for i in range(0, len(arr[\"students\"])):\n",
        "  if(arr[\"students\"][i][\"id\"] == id):\n",
        "    arr[\"students\"][i][\"id\"] = id\n",
        "    arr[\"students\"][i][\"fname\"] = fname\n",
        "    arr[\"students\"][i][\"lname\"] = lname\n",
        "    arr[\"students\"][i][\"email\"] = email\n",
        "    arr[\"students\"][i][\"fav\"] = fav\n",
        "    flag = False\n",
        "\n",
        "if(flag):\n",
        "  arr[\"students\"].append(dic)\n",
        "\n",
        "with open(\"/content/drive/MyDrive/Colab Notebooks/students.json\", \"w\") as file:\n",
        "  json.dump(arr, file, indent=4)"
      ],
      "metadata": {
        "id": "kUHwjsawBKsI"
      },
      "execution_count": 36,
      "outputs": []
    },
    {
      "cell_type": "code",
      "source": [
        "from google.colab import drive\n",
        "drive.mount('/content/drive')"
      ],
      "metadata": {
        "id": "5e2UxxUjkjWS"
      },
      "execution_count": null,
      "outputs": []
    },
    {
      "cell_type": "code",
      "source": [],
      "metadata": {
        "id": "WlQ5A-C3BJ-a"
      },
      "execution_count": null,
      "outputs": []
    }
  ]
}