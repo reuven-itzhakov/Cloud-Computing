{
 "cells": [
  {
   "cell_type": "code",
   "execution_count": null,
   "metadata": {
    "colab": {
     "base_uri": "https://localhost:8080/"
    },
    "id": "voQt1cu0ce-h",
    "outputId": "cc2e82b2-3c1c-450c-9775-9a1f5bcd6488"
   },
   "outputs": [],
   "source": [
    "!pip install requests beautifulsoup4 firebase\n",
    "import requests\n",
    "from bs4 import BeautifulSoup\n",
    "\n",
    "def fetch_page(url):\n",
    " response = requests.get(url)\n",
    " if response.status_code == 200:\n",
    "  soup = BeautifulSoup(response.text, 'html.parser')\n",
    "  return soup\n",
    " else:\n",
    "  return None\n"
   ]
  },
  {
   "cell_type": "code",
   "execution_count": null,
   "metadata": {
    "id": "z_oG5HYzc0dm"
   },
   "outputs": [],
   "source": [
    "import re\n",
    "def index_words(soup):\n",
    "  index = {}\n",
    "  words = re.findall(r'\\w+', soup.get_text())\n",
    "  for word in words:\n",
    "    word = word.lower()\n",
    "    if word in index:\n",
    "      index[word] += 1\n",
    "    else:\n",
    "      index[word] = 1\n",
    "  return index"
   ]
  },
  {
   "cell_type": "code",
   "execution_count": null,
   "metadata": {
    "id": "6Qb9vL0rdPyU"
   },
   "outputs": [],
   "source": [
    "def remove_stop_words(index):\n",
    "  stop_words = {'a', 'an', 'the', 'and', 'or',     \t\t\t\t'in', 'on', 'at'}\n",
    "  for stop_word in stop_words:\n",
    "    if stop_word in index:\n",
    "      del index[stop_word]\n",
    "  return index"
   ]
  },
  {
   "cell_type": "code",
   "execution_count": null,
   "metadata": {
    "id": "hKG3m2TOdYTZ"
   },
   "outputs": [],
   "source": [
    "from nltk.stem import PorterStemmer\n",
    "def apply_stemming(index):\n",
    "  stemmer = PorterStemmer()\n",
    "  stemmed_index = {}\n",
    "  for word, count in index.items():\n",
    "    stemmed_word = stemmer.stem(word)\n",
    "    if stemmed_word in stemmed_index:\n",
    "      stemmed_index[stemmed_word] += count\n",
    "    else:\n",
    "      stemmed_index[stemmed_word] = count\n",
    "  return stemmed_index"
   ]
  },
  {
   "cell_type": "code",
   "execution_count": null,
   "metadata": {
    "id": "qYFBlAu5dpQS"
   },
   "outputs": [],
   "source": [
    "def search(query, index):\n",
    "  query_words = re.findall(r'\\w+', query.lower())\n",
    "  results = {}\n",
    "  for word in query_words:\n",
    "    if word in index:\n",
    "      results[word] = index[word]\n",
    "  return results"
   ]
  },
  {
   "cell_type": "code",
   "execution_count": null,
   "metadata": {
    "id": "UJ7bA3_bd302"
   },
   "outputs": [],
   "source": [
    "def search_engine(url, query):\n",
    "  soup = fetch_page(url)\n",
    "  if soup is None:\n",
    "     return None\n",
    "  index = index_words(soup)\n",
    "  index = remove_stop_words(index)\n",
    "  index = apply_stemming(index)\n",
    "  results = search(query, index)\n",
    "  return results"
   ]
  },
  {
   "cell_type": "code",
   "execution_count": null,
   "metadata": {
    "colab": {
     "base_uri": "https://localhost:8080/"
    },
    "id": "7cm584qoeFlz",
    "outputId": "887d7d74-91ef-4ced-f6c4-52856b59af43"
   },
   "outputs": [],
   "source": [
    "url = 'https://en.wikipedia.org/wiki/Bird'\n",
    "query = 'bird'\n",
    "results = search_engine(url, query)\n",
    "print(results)"
   ]
  },
  {
   "cell_type": "code",
   "execution_count": null,
   "metadata": {
    "colab": {
     "base_uri": "https://localhost:8080/"
    },
    "id": "8E3z42zqeZSQ",
    "outputId": "a8ae1b07-9d76-4dd0-b4f0-c8fd32a51529"
   },
   "outputs": [],
   "source": [
    "url = 'https://en.wikipedia.org/wiki/Bird'\n",
    "query = 'birds wings'\n",
    "results = search_engine(url, query)\n",
    "print(results)"
   ]
  },
  {
   "cell_type": "code",
   "execution_count": null,
   "metadata": {
    "id": "lK_fHt8Aebwj"
   },
   "outputs": [],
   "source": [
    "def search(query, index):\n",
    "  stemmer = PorterStemmer()\n",
    "  query_words = re.findall(r'\\w+', query.lower())\n",
    "  results = {}\n",
    "  for word in query_words:\n",
    "    word = stemmer.stem(word)\n",
    "    if word in index:\n",
    "      results[word] = index[word]\n",
    "  return results"
   ]
  },
  {
   "cell_type": "code",
   "execution_count": null,
   "metadata": {
    "colab": {
     "base_uri": "https://localhost:8080/"
    },
    "id": "wUBSB66JfHQM",
    "outputId": "aded1701-7952-490b-defc-7ea445e338b3"
   },
   "outputs": [],
   "source": [
    "url = 'https://en.wikipedia.org/wiki/Bird'\n",
    "query = 'birds wings'\n",
    "results = search_engine(url, query)\n",
    "print(results)"
   ]
  },
  {
   "cell_type": "code",
   "execution_count": null,
   "metadata": {
    "id": "izmK0W0TfT2s"
   },
   "outputs": [],
   "source": [
    "rank=1\n",
    "for word, count in results.items():\n",
    " rank = rank*1/count\n",
    "rank = 1-rank\n"
   ]
  },
  {
   "cell_type": "code",
   "execution_count": null,
   "metadata": {
    "colab": {
     "base_uri": "https://localhost:8080/"
    },
    "id": "OrF-H-FCfcB2",
    "outputId": "6b94bcb9-254b-4c91-a96f-368efcff6682"
   },
   "outputs": [],
   "source": [
    "url = 'https://en.wikipedia.org/wiki/Bird'\n",
    "query = 'birds wings'\n",
    "results = search_engine(url, query)\n",
    "print(results)\n",
    "rank=1\n",
    "for word, count in results.items():\n",
    "   rank = rank*1/count\n",
    "rank = 1-rank\n",
    "print(rank)"
   ]
  },
  {
   "cell_type": "code",
   "execution_count": null,
   "metadata": {
    "colab": {
     "base_uri": "https://localhost:8080/"
    },
    "id": "5gCceVI1fhVt",
    "outputId": "2f2269fd-3649-497d-ea77-463f0174707b"
   },
   "outputs": [],
   "source": [
    "url = 'https://en.wikipedia.org/wiki/Bird'\n",
    "query = 'collage students'\n",
    "results = search_engine(url, query)\n",
    "print(results)\n",
    "rank=1\n",
    "for word, count in results.items():\n",
    " rank = rank*1/count\n",
    "rank = 1-rank\n",
    "print(rank)\n"
   ]
  },
  {
   "cell_type": "code",
   "execution_count": null,
   "metadata": {
    "colab": {
     "base_uri": "https://localhost:8080/"
    },
    "id": "1NGHh_Trfz1y",
    "outputId": "0a7f2f16-0a4d-4b55-b571-04919753afad"
   },
   "outputs": [],
   "source": [
    "url = 'https://en.wikipedia.org/wiki/Bird'\n",
    "query = 'owls'\n",
    "results = search_engine(url, query)\n",
    "print(results)\n",
    "rank=1\n",
    "for word, count in results.items():\n",
    " rank = rank*1/count\n",
    "rank = 1-rank\n",
    "print(rank)"
   ]
  },
  {
   "cell_type": "code",
   "execution_count": null,
   "metadata": {
    "colab": {
     "base_uri": "https://localhost:8080/",
     "height": 561
    },
    "id": "3AzhTcwKnuZI",
    "outputId": "e7e7908e-abcf-4c44-d905-41350ca4dbfa"
   },
   "outputs": [],
   "source": [
    "url = 'https://w3.braude.ac.il/?lang=en'\n",
    "query = 'Industry'\n",
    "results = search_engine(url, query)\n",
    "print(results)\n",
    "rank=1\n",
    "for word, count in results.items():\n",
    " rank = rank*1/count\n",
    "rank = 1-rank\n",
    "print(rank)"
   ]
  },
  {
   "cell_type": "markdown",
   "metadata": {
    "id": "NNHQfDngf-QP"
   },
   "source": [
    "**מנוע המיועד למספר דפים**"
   ]
  },
  {
   "cell_type": "code",
   "execution_count": null,
   "metadata": {
    "id": "gK6qrTDSf91I"
   },
   "outputs": [],
   "source": [
    "import requests\n",
    "from bs4 import BeautifulSoup\n",
    "import re\n",
    "from collections import defaultdict\n",
    "class WikiSearchEngine:\n",
    "  def __init__(self):\n",
    "   \"\"\"Initialize the search engine\"\"\"\n",
    "   self.base_url = \"https://en.wikipedia.org/w/api.php\"\n",
    "   self.pages = []\n",
    "   self.word_locations = defaultdict(list) # word -> [(page_id, frequency), ...]\n",
    "   self.stop_words = {'a', 'an', 'the', 'and', 'or', 'in', 'on', 'at', 'to', 'for', 'of', 'with'}\n",
    "   return False"
   ]
  },
  {
   "cell_type": "code",
   "execution_count": null,
   "metadata": {
    "id": "XvdwliQ7hEhp"
   },
   "outputs": [],
   "source": [
    "def fetch_wiki_pages(self, topic, num_pages=5):\n",
    "  \"\"\"Fetch Wikipedia pages for given topic\"\"\"\n",
    "  search_params = {\n",
    "  \"action\": \"query\",\n",
    "  \"format\": \"json\",\n",
    "  \"list\": \"search\",\n",
    "  \"srsearch\": topic,\n",
    "  \"srlimit\": num_pages\n",
    "  }\n",
    "  try:\n",
    "      response = requests.get(self.base_url, params=search_params)\n",
    "      search_results = response.json()['query']['search']\n",
    "\n",
    "      for result in search_results:\n",
    "        content_params = {\n",
    "            \"action\": \"query\",\n",
    "            \"format\": \"json\",\n",
    "            \"prop\": \"extracts|info\",\n",
    "            \"pageids\": result['pageid'],\n",
    "            \"inprop\": \"url\",\n",
    "            \"explaintext\": True\n",
    "      }\n",
    "      content_response = requests.get(self.base_url, params=content_params)\n",
    "      page_data = content_response.json()['query']['pages'][str(result['pageid'])]\n",
    "      self.pages.append({\n",
    "      'id': result['pageid'],\n",
    "      'title': page_data['title'],\n",
    "      'url': page_data.get('fullurl', f\"https://en.wikipedia.org/?curid={result['pageid']}\"),\n",
    "      'content': page_data['extract']\n",
    "    })\n",
    "      print(f\"Retrieved: {page_data['title']}\")\n",
    "      return True\n",
    "\n",
    "  except Exception as e:\n",
    "    print(f\"Error fetching pages: {str(e)}\")\n"
   ]
  },
  {
   "cell_type": "code",
   "execution_count": null,
   "metadata": {
    "id": "F-5SwSt6jv3T"
   },
   "outputs": [],
   "source": [
    "    def build_index(self):\n",
    "        \"\"\"Build a simple word location index\"\"\"\n",
    "        self.word_locations.clear()\n",
    "\n",
    "        # Process each page\n",
    "        for page in self.pages:\n",
    "            # Get all words from content\n",
    "            words = re.findall(r'\\w+', page['content'].lower())\n",
    "\n",
    "            # Count word frequencies\n",
    "            word_counts = defaultdict(int)\n",
    "            for word in words:\n",
    "                if word not in self.stop_words:\n",
    "                    word_counts[word] += 1\n",
    "\n",
    "            # Add to index with page information\n",
    "            for word, count in word_counts.items():\n",
    "                self.word_locations[word].append((page['id'], count))\n",
    "\n",
    "    def search(self, query, num_results=5):\n",
    "        \"\"\"Search pages using simple word frequency ranking.\n",
    "        Ranks pages based on:1. Number of query words found in the page\n",
    "        2. Total frequency of query words  \"\"\"\n",
    "        # Get query words\n",
    "        query_words = [word.lower() for word in re.findall(r'\\w+', query)\n",
    "                      if word.lower() not in self.stop_words]\n",
    "        if not query_words:\n",
    "            return []\n",
    "\n",
    "        # Calculate scores for each page\n",
    "        page_scores = defaultdict(lambda: {'matches': 0, 'total_freq': 0})\n",
    "\n",
    "        # For each query word\n",
    "        for word in query_words:\n",
    "            # Find pages containing this word\n",
    "            for page_id, freq in self.word_locations.get(word, []):\n",
    "                page_scores[page_id]['matches'] += 1\n",
    "                page_scores[page_id]['total_freq'] += freq\n",
    "\n",
    "\n",
    "# Convert to list and sort\n",
    "        ranked_results = [\n",
    "            (page_id, scores['matches'], scores['total_freq'])\n",
    "            for page_id, scores in page_scores.items()\n",
    "        ]\n",
    "    # Sort by number of matching words first, then by total frequency\n",
    "        ranked_results.sort(key=lambda x: (x[1], x[2]), reverse=True)\n",
    "        # Format results\n",
    "        results = []\n",
    "        for page_id, matches, total_freq in ranked_results[:num_results]:\n",
    "            page = next(p for p in self.pages if p['id'] == page_id)\n",
    "            # Find the first matching word context\n",
    "            context = self.get_context(page['content'], query_words)\n",
    "            results.append({\n",
    "                'title': page['title'],\n",
    "                'url': page['url'],\n",
    "                'matching_words': matches,\n",
    "                'total_frequency': total_freq,\n",
    "                'context': context\n",
    "            })\n",
    "            return results"
   ]
  },
  {
   "cell_type": "code",
   "execution_count": null,
   "metadata": {
    "id": "cX992zu4CUgo"
   },
   "outputs": [],
   "source": [
    "url='https://en.wikipedia.org/wiki/Apt._(song)'\n",
    "relevant_words = {'apt','bruno','rose','song','billboard','pop','game','korean','single','stream'}"
   ]
  },
  {
   "cell_type": "code",
   "execution_count": null,
   "metadata": {
    "id": "_vCg8bQqEZR1"
   },
   "outputs": [],
   "source": [
    "from google.colab import files"
   ]
  },
  {
   "cell_type": "code",
   "execution_count": null,
   "metadata": {
    "colab": {
     "base_uri": "https://localhost:8080/",
     "height": 73
    },
    "id": "pl90O8uuEeQu",
    "outputId": "839cba34-af21-431c-c5c6-a0fdff73d664"
   },
   "outputs": [],
   "source": [
    "token = files.upload()"
   ]
  },
  {
   "cell_type": "code",
   "execution_count": null,
   "metadata": {
    "id": "YocjmEHbFN7x"
   },
   "outputs": [],
   "source": [
    "from firebase import firebase\n",
    "key = token['TOKEN.txt'].decode('utf-8')\n",
    "FBconn = firebase.FirebaseApplication('https://cloud-comp-sloth-default-rtdb.europe-west1.firebasedatabase.app/%s/'%key)"
   ]
  },
  {
   "cell_type": "code",
   "execution_count": null,
   "metadata": {
    "id": "QFs-lodaFgRT"
   },
   "outputs": [],
   "source": [
    "for word in relevant_words:\n",
    "  FBconn.put(\"search/\",word,0)"
   ]
  },
  {
   "cell_type": "code",
   "execution_count": null,
   "metadata": {
    "id": "thYixQ-LGozO"
   },
   "outputs": [],
   "source": [
    "from bs4 import BeautifulSoup as bs\n",
    "import requests\n",
    "res = search_engine(url,' '.join(relevant_words))\n",
    "for word, count in res.items():\n",
    "  FBconn.put(\"search/\",word,count)"
   ]
  },
  {
   "cell_type": "code",
   "execution_count": null,
   "metadata": {
    "colab": {
     "base_uri": "https://localhost:8080/",
     "height": 448
    },
    "id": "3xih4NKhKg2a",
    "outputId": "59881fd8-3ea7-46a1-b26e-438fba941915"
   },
   "outputs": [],
   "source": [
    "import matplotlib.pyplot as plt\n",
    "res = FBconn.get(\"search/\",\"\")\n",
    "plt.bar(res.keys(),res.values())"
   ]
  },
  {
   "cell_type": "code",
   "execution_count": null,
   "metadata": {
    "id": "jT45EkZrLaHz"
   },
   "outputs": [],
   "source": []
  }
 ],
 "metadata": {
  "colab": {
   "provenance": []
  },
  "kernelspec": {
   "display_name": "Python 3 (ipykernel)",
   "language": "python",
   "name": "python3"
  },
  "language_info": {
   "codemirror_mode": {
    "name": "ipython",
    "version": 3
   },
   "file_extension": ".py",
   "mimetype": "text/x-python",
   "name": "python",
   "nbconvert_exporter": "python",
   "pygments_lexer": "ipython3",
   "version": "3.12.7"
  }
 },
 "nbformat": 4,
 "nbformat_minor": 4
}
