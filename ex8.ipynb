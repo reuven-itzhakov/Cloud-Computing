{
  "nbformat": 4,
  "nbformat_minor": 0,
  "metadata": {
    "colab": {
      "provenance": []
    },
    "kernelspec": {
      "name": "python3",
      "display_name": "Python 3"
    },
    "language_info": {
      "name": "python"
    }
  },
  "cells": [
    {
      "cell_type": "markdown",
      "source": [
        "Gemini: Creating a prompt\n",
        "This rich example shows how you can create and configure complex prompts for Gemini. It assumes that you've already created an API key at https://aistudio.google.com/app/apikey and added it to your Colab secrets as GOOGLE_API_KEY (see the \"Connecting to Gemini\" snippet)."
      ],
      "metadata": {
        "id": "8eE5qx364mH8"
      }
    },
    {
      "cell_type": "code",
      "source": [
        "import google.generativeai as genai\n",
        "\n",
        "model = genai.GenerativeModel(\"gemini-2.0-flash\")\n",
        "# response = model.generate_content(\"write questions for journalism interview on sports in USA\")\n",
        "# print(response.text)"
      ],
      "metadata": {
        "id": "j1jLlQiBDhwL"
      },
      "execution_count": 40,
      "outputs": []
    },
    {
      "cell_type": "code",
      "source": [
        "# before running set an environment variable \"GOOGLE_API_KEY\" with your key"
      ],
      "metadata": {
        "id": "b6bukC8WMF0v"
      },
      "execution_count": 41,
      "outputs": []
    },
    {
      "cell_type": "code",
      "source": [],
      "metadata": {
        "id": "wod3WMBuM9Hm"
      },
      "execution_count": 41,
      "outputs": []
    },
    {
      "cell_type": "code",
      "source": [
        "prompt = \"\"\n",
        "while prompt.lower() != \"bye\":\n",
        "    prompt = input()\n",
        "    resp = model.generate_content(prompt)\n",
        "    for part in resp.candidates[0].content.parts:\n",
        "        print(part.text)\n"
      ],
      "metadata": {
        "id": "bKNo7QH0HuEy"
      },
      "execution_count": null,
      "outputs": []
    },
    {
      "cell_type": "code",
      "execution_count": null,
      "metadata": {
        "id": "koF-7Q2FFgAo"
      },
      "outputs": [],
      "source": [
        "import pathlib\n",
        "import textwrap\n",
        "# import google.generativeai as genai\n",
        "from IPython.display import display\n",
        "from IPython.display import Markdown\n",
        "\n",
        "#Returns a Markdown object that can be used to render markdown from the modified text.\n",
        "def  to_markdown(text):\n",
        "  text = text.replace('•', ' *')\n",
        "  return Markdown(textwrap.indent(text, '> ', predicate=lambda _: True))\n",
        "# genai.configure(api_key='')\n",
        "# model = genai.GenerativeModel('gemini-1.5-flash')\n",
        "\n",
        "# Display formatted Markdown response\n",
        "response = model.generate_content(\"Calculate avaerage temperature in Barcelona in the winter\")\n",
        "to_markdown(response.text)"
      ]
    },
    {
      "cell_type": "markdown",
      "source": [],
      "metadata": {
        "id": "lD-Zb3uV4lRL"
      }
    }
  ]
}