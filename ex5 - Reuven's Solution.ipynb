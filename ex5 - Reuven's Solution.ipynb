{
  "cells": [
    {
      "cell_type": "markdown",
      "metadata": {
        "id": "view-in-github",
        "colab_type": "text"
      },
      "source": [
        "<a href=\"https://colab.research.google.com/github/reuven-itzhakov/Cloud-Computing/blob/main/ex5%20-%20Reuven's%20Solution.ipynb\" target=\"_parent\"><img src=\"https://colab.research.google.com/assets/colab-badge.svg\" alt=\"Open In Colab\"/></a>"
      ]
    },
    {
      "cell_type": "code",
      "execution_count": 1,
      "metadata": {
        "colab": {
          "base_uri": "https://localhost:8080/"
        },
        "id": "BRwwE0iP8CbY",
        "outputId": "d605a543-f2f1-46e3-e9aa-397302349308"
      },
      "outputs": [
        {
          "output_type": "stream",
          "name": "stdout",
          "text": [
            "Collecting firebase\n",
            "  Downloading firebase-4.0.1-py3-none-any.whl.metadata (6.5 kB)\n",
            "Requirement already satisfied: requests in /usr/local/lib/python3.11/dist-packages (from firebase) (2.32.3)\n",
            "Requirement already satisfied: charset-normalizer<4,>=2 in /usr/local/lib/python3.11/dist-packages (from requests->firebase) (3.4.1)\n",
            "Requirement already satisfied: idna<4,>=2.5 in /usr/local/lib/python3.11/dist-packages (from requests->firebase) (3.10)\n",
            "Requirement already satisfied: urllib3<3,>=1.21.1 in /usr/local/lib/python3.11/dist-packages (from requests->firebase) (2.3.0)\n",
            "Requirement already satisfied: certifi>=2017.4.17 in /usr/local/lib/python3.11/dist-packages (from requests->firebase) (2025.1.31)\n",
            "Downloading firebase-4.0.1-py3-none-any.whl (12 kB)\n",
            "Installing collected packages: firebase\n",
            "Successfully installed firebase-4.0.1\n"
          ]
        }
      ],
      "source": [
        "!pip install firebase\n"
      ]
    },
    {
      "cell_type": "code",
      "execution_count": 6,
      "metadata": {
        "colab": {
          "base_uri": "https://localhost:8080/",
          "height": 332
        },
        "id": "IGADLGVm743R",
        "outputId": "5c599928-89b4-461b-8bfb-c38c224f519c"
      },
      "outputs": [
        {
          "name": "stdout",
          "output_type": "stream",
          "text": [
            "what is the temperature?1\n"
          ]
        },
        {
          "output_type": "error",
          "ename": "TypeError",
          "evalue": "FirebaseApplication.put() got multiple values for argument 'connection'",
          "traceback": [
            "\u001b[0;31m---------------------------------------------------------------------------\u001b[0m",
            "\u001b[0;31mTypeError\u001b[0m                                 Traceback (most recent call last)",
            "\u001b[0;32m<ipython-input-6-25561b58d6eb>\u001b[0m in \u001b[0;36m<cell line: 0>\u001b[0;34m()\u001b[0m\n\u001b[1;32m      6\u001b[0m       \u001b[0;34m'Temp'\u001b[0m \u001b[0;34m:\u001b[0m \u001b[0mtemperature\u001b[0m\u001b[0;34m\u001b[0m\u001b[0;34m\u001b[0m\u001b[0m\n\u001b[1;32m      7\u001b[0m   }\n\u001b[0;32m----> 8\u001b[0;31m   \u001b[0mresult\u001b[0m \u001b[0;34m=\u001b[0m \u001b[0mFBconn\u001b[0m\u001b[0;34m.\u001b[0m\u001b[0mput\u001b[0m\u001b[0;34m(\u001b[0m\u001b[0;34m'/Reuven/'\u001b[0m\u001b[0;34m,\u001b[0m \u001b[0;34m\"w\"\u001b[0m\u001b[0;34m,\u001b[0m \u001b[0;36m1\u001b[0m\u001b[0;34m,\u001b[0m \u001b[0;36m2\u001b[0m\u001b[0;34m)\u001b[0m\u001b[0;34m\u001b[0m\u001b[0;34m\u001b[0m\u001b[0m\n\u001b[0m\u001b[1;32m      9\u001b[0m   \u001b[0mprint\u001b[0m\u001b[0;34m(\u001b[0m\u001b[0mresult\u001b[0m\u001b[0;34m)\u001b[0m\u001b[0;34m\u001b[0m\u001b[0;34m\u001b[0m\u001b[0m\n",
            "\u001b[0;32m/usr/local/lib/python3.11/dist-packages/firebase/decorators.py\u001b[0m in \u001b[0;36mwrapped\u001b[0;34m(*args, **kwargs)\u001b[0m\n\u001b[1;32m     18\u001b[0m             \u001b[0mconnection\u001b[0m\u001b[0;34m.\u001b[0m\u001b[0mtimeout\u001b[0m \u001b[0;34m=\u001b[0m \u001b[0mtimeout\u001b[0m\u001b[0;34m\u001b[0m\u001b[0;34m\u001b[0m\u001b[0m\n\u001b[1;32m     19\u001b[0m             \u001b[0mconnection\u001b[0m\u001b[0;34m.\u001b[0m\u001b[0mheaders\u001b[0m\u001b[0;34m.\u001b[0m\u001b[0mupdate\u001b[0m\u001b[0;34m(\u001b[0m\u001b[0;34m{\u001b[0m\u001b[0;34m'Content-type'\u001b[0m\u001b[0;34m:\u001b[0m \u001b[0;34m'application/json'\u001b[0m\u001b[0;34m}\u001b[0m\u001b[0;34m)\u001b[0m\u001b[0;34m\u001b[0m\u001b[0;34m\u001b[0m\u001b[0m\n\u001b[0;32m---> 20\u001b[0;31m             \u001b[0;32mreturn\u001b[0m \u001b[0mf\u001b[0m\u001b[0;34m(\u001b[0m\u001b[0;34m*\u001b[0m\u001b[0margs\u001b[0m\u001b[0;34m,\u001b[0m \u001b[0;34m**\u001b[0m\u001b[0mkwargs\u001b[0m\u001b[0;34m)\u001b[0m\u001b[0;34m\u001b[0m\u001b[0;34m\u001b[0m\u001b[0m\n\u001b[0m\u001b[1;32m     21\u001b[0m         \u001b[0;32mreturn\u001b[0m \u001b[0mwraps\u001b[0m\u001b[0;34m(\u001b[0m\u001b[0mf\u001b[0m\u001b[0;34m)\u001b[0m\u001b[0;34m(\u001b[0m\u001b[0mwrapped\u001b[0m\u001b[0;34m)\u001b[0m\u001b[0;34m\u001b[0m\u001b[0;34m\u001b[0m\u001b[0m\n\u001b[1;32m     22\u001b[0m     \u001b[0;32mreturn\u001b[0m \u001b[0mwrapper\u001b[0m\u001b[0;34m\u001b[0m\u001b[0;34m\u001b[0m\u001b[0m\n",
            "\u001b[0;31mTypeError\u001b[0m: FirebaseApplication.put() got multiple values for argument 'connection'"
          ]
        }
      ],
      "source": [
        "from firebase import firebase\n",
        "FBconn = firebase.FirebaseApplication('https://cloudsloth-17bfb-default-rtdb.europe-west1.firebasedatabase.app',None)\n",
        "while True:\n",
        "  temperature = int (input (\"what is the temperature?\"))\n",
        "  data_to_upload = {\n",
        "      'Temp' : temperature\n",
        "  }\n",
        "  result = FBconn.put('/Reuven/', \"w\", 1, 2)\n",
        "  print(result)\n"
      ]
    },
    {
      "cell_type": "code",
      "source": [
        "from firebase import firebase\n",
        "\n",
        "firebase = firebase.FirebaseApplication('https://cloudsloth-17bfb-default-rtdb.europe-west1.firebasedatabase.app', None)\n",
        "result = firebase.get('/Reuven/', None)\n",
        "print(result)"
      ],
      "metadata": {
        "colab": {
          "base_uri": "https://localhost:8080/"
        },
        "id": "2dOhLueONoCI",
        "outputId": "fc0b70a7-f89b-4d0c-b699-5a0350b9b37d"
      },
      "execution_count": null,
      "outputs": [
        {
          "output_type": "stream",
          "name": "stdout",
          "text": [
            "{'-OOP4k56RKhGrOLqcaX3': {'Temp': 22}, '-OOP4kiK3X3SWHz_eaaC': {'Temp': 44}, '-OOPAkrur1mE7-oAJ492': {'Temp': 60, 'timestamp': 1745269755.2759795}, '-OORVtdnOWeNowdv9ICv': {'Temp': 35}, '-OORWIjzpeVVn2vXI3ro': {'Temp': 40}, '-OORWzhXmw20tDuptkdY': {'Temp': 89}, '-OORYsqnQbrcDYvc7fmK': {'Temp': 55}, '-OOWe0Rz0OdJcDC6075r': {'Temp': 36}, '-OOWezcSaT6yoXahhrSv': {'Temp': 11}, '-OOWgN78IkRWAxaNjZNn': {'Temp': 11}, '-OOWgT_LE0GOz_IuNlPr': {'Temp': 12}, '-OOWgzUYSVdmFIFnT_NE': {'Temp': 13}, '-OOWh0Pt5u_aGBsr29jV': {'Temp': 2}, '-OOWh7T30Wtyf-ucSNQd': {'Temp': 14}, '-OOWiEdIUOaA92Kt9mBJ': {'Temp': 37}, '-OOWiFOlwm5_M36opv2g': {'Temp': 12}}\n"
          ]
        }
      ]
    },
    {
      "cell_type": "code",
      "execution_count": null,
      "metadata": {
        "colab": {
          "base_uri": "https://localhost:8080/"
        },
        "id": "c4WV7eOK6u8N",
        "outputId": "e89ae015-4db6-42bd-c6c1-b8f53f018767"
      },
      "outputs": [
        {
          "output_type": "stream",
          "name": "stdout",
          "text": [
            "-OOP4k56RKhGrOLqcaX3:\t {'Temp': 22}\n",
            "-OOP4kiK3X3SWHz_eaaC:\t {'Temp': 5}\n",
            "-OOPAkrur1mE7-oAJ492:\t {'Temp': 60, 'timestamp': 1745269755.2759795}\n",
            "-OORVtdnOWeNowdv9ICv:\t {'Temp': 35}\n",
            "-OORWIjzpeVVn2vXI3ro:\t {'Temp': 40}\n",
            "-OORWzhXmw20tDuptkdY:\t {'Temp': 89}\n"
          ]
        }
      ],
      "source": [
        "import json\n",
        "from firebase import firebase\n",
        "FBconn = firebase.FirebaseApplication('https://cloudsloth-17bfb-default-rtdb.europe-west1.firebasedatabase.app',None)\n",
        "res=FBconn.get('/Reuven/',None)\n",
        "\n",
        "for key in res:\n",
        "    print(key+\":\\t\", res[key])\n"
      ]
    },
    {
      "cell_type": "code",
      "execution_count": 16,
      "metadata": {
        "colab": {
          "base_uri": "https://localhost:8080/"
        },
        "id": "3p83gtmTmxjY",
        "outputId": "9c248697-47e8-4458-e78c-801eb58b8b32"
      },
      "outputs": [
        {
          "output_type": "stream",
          "name": "stdout",
          "text": [
            "\n",
            "Common Words Counter Menu:\n",
            "1. Add single word\n",
            "2. Add text for analysis\n",
            "3. Update word count\n",
            "4. Delete word\n",
            "5. View all words\n",
            "6. Exit\n",
            "\n",
            "Enter your choice (1-6): 4\n",
            "\n",
            "Current Words:\n",
            "Word: \"a\" - Value: 2\n",
            "Word: \"ok\" - Value: 10\n",
            "\n",
            "Enter the word to delete: a\n",
            "Word deleted successfully!\n",
            "\n",
            "Common Words Counter Menu:\n",
            "1. Add single word\n",
            "2. Add text for analysis\n",
            "3. Update word count\n",
            "4. Delete word\n",
            "5. View all words\n",
            "6. Exit\n",
            "\n",
            "Enter your choice (1-6): 4\n",
            "\n",
            "Current Words:\n",
            "Word: \"ok\" - Value: 10\n",
            "\n",
            "Enter the word to delete: ok\n",
            "Word deleted successfully!\n",
            "\n",
            "Common Words Counter Menu:\n",
            "1. Add single word\n",
            "2. Add text for analysis\n",
            "3. Update word count\n",
            "4. Delete word\n",
            "5. View all words\n",
            "6. Exit\n",
            "\n",
            "Enter your choice (1-6): 6\n",
            "Exiting program...\n"
          ]
        }
      ],
      "source": [
        "from firebase import firebase\n",
        "import time\n",
        "\n",
        "# Initialize Firebase connection\n",
        "FBconn = firebase.FirebaseApplication('https://cloudsloth-17bfb-default-rtdb.europe-west1.firebasedatabase.app', None)\n",
        "\n",
        "def get_all_words():\n",
        "    return FBconn.get('/Reuven/', None)\n",
        "\n",
        "def add_word(word): # 1\n",
        "    all_words = get_all_words()\n",
        "    if all_words:\n",
        "        if word in all_words:\n",
        "            return FBconn.put('/Reuven/', word, all_words[word] + 1)\n",
        "    return FBconn.put('/Reuven/', word, 1)\n",
        "\n",
        "def add_sentence(sentece): # 2\n",
        "    words = sentence.split(\" \")\n",
        "    all_words = get_all_words()\n",
        "    for word in words:\n",
        "        add_word(word)\n",
        "    return\n",
        "\n",
        "def update_word(word, num): # 3\n",
        "    all_words = get_all_words()\n",
        "    if word in all_words:\n",
        "        return FBconn.put('/Reuven/', word, num)\n",
        "    return None\n",
        "\n",
        "def delete_word(word): #\n",
        "    return FBconn.delete('/Reuven/', word)\n",
        "\n",
        "def display_words():\n",
        "    words = get_all_words()\n",
        "    if words:\n",
        "        print(\"\\nCurrent Words:\")\n",
        "        for word, num in words.items():\n",
        "            print(f\"Word: \\\"{word}\\\" - Value: {num}\")\n",
        "    else:\n",
        "        print(\"\\nNo words found\")\n",
        "\n",
        "while True:\n",
        "    print(\"\\nCommon Words Counter Menu:\")\n",
        "    print(\"1. Add single word\")\n",
        "    print(\"2. Add text for analysis\")\n",
        "    print(\"3. Update word count\")\n",
        "    print(\"4. Delete word\")\n",
        "    print(\"5. View all words\")\n",
        "    print(\"6. Exit\")\n",
        "\n",
        "    choice = input(\"\\nEnter your choice (1-6): \")\n",
        "\n",
        "    if choice == '1':\n",
        "        try:\n",
        "            word = input(\"What is the word? \")\n",
        "            result = add_word(word)\n",
        "            print(f\"Word added successfully! new value: {result}\")\n",
        "        except ValueError:\n",
        "            print(\"Please enter a valid word\")\n",
        "\n",
        "    elif choice == '2':\n",
        "        try:\n",
        "            sentence = input(\"What is the sentence? \")\n",
        "            result = add_sentence(sentence)\n",
        "            print(\"Sentence added successfully!\")\n",
        "        except ValueError:\n",
        "            print(\"Please enter a valid sentence\")\n",
        "\n",
        "    elif choice == '3':\n",
        "        display_words()\n",
        "        word = input(\"\\nEnter the word to update: \")\n",
        "        try:\n",
        "            new_value = int(input(\"Enter the new value: \"))\n",
        "            result = update_word(word, new_value)\n",
        "            if result:\n",
        "                print(\"Word updated successfully!\")\n",
        "            else:\n",
        "                print(\"Failed to update word. Check if the word exists.\")\n",
        "        except ValueError:\n",
        "            print(\"Please enter a valid number for word\")\n",
        "\n",
        "    elif choice == '4':\n",
        "        display_words()\n",
        "        word = input(\"\\nEnter the word to delete: \")\n",
        "        result = delete_word(word)\n",
        "        if result is None:\n",
        "            print(\"Word deleted successfully!\")\n",
        "        else:\n",
        "            print(\"Failed to delete word. Check if the word exists.\")\n",
        "\n",
        "    elif choice == '5':\n",
        "        display_words()\n",
        "\n",
        "    elif choice == '6':\n",
        "        print(\"Exiting program...\")\n",
        "        break\n",
        "\n",
        "    else:\n",
        "        print(\"Invalid choice. Please try again.\")\n"
      ]
    },
    {
      "cell_type": "code",
      "execution_count": null,
      "metadata": {
        "id": "-nvlyPJX0p05",
        "colab": {
          "base_uri": "https://localhost:8080/",
          "height": 34
        },
        "outputId": "bb484268-84a0-4d98-83d0-50c6bf2557a6"
      },
      "outputs": [
        {
          "output_type": "display_data",
          "data": {
            "text/plain": [
              "<IPython.core.display.HTML object>"
            ],
            "text/html": [
              "<style>b {color: blue}</style>"
            ]
          },
          "metadata": {}
        },
        {
          "output_type": "execute_result",
          "data": {
            "text/plain": [
              "<IPython.core.display.HTML object>"
            ],
            "text/html": [
              "Now <b>bold</b> and <b>blue</b> too."
            ]
          },
          "metadata": {},
          "execution_count": 9
        }
      ],
      "source": [
        "from IPython.display import HTML\n",
        "from google.colab.output import _publish as publish\n",
        "publish.css(\"b {color: blue}\")\n",
        "HTML(\"Now <b>bold</b> and <b>blue</b> too.\")\n",
        "\n"
      ]
    },
    {
      "cell_type": "code",
      "execution_count": null,
      "metadata": {
        "colab": {
          "base_uri": "https://localhost:8080/",
          "height": 819
        },
        "id": "1TVbCuwL09Tj",
        "outputId": "0d54e61e-bb3b-4ea3-d5a1-0fe82b0c136c"
      },
      "outputs": [
        {
          "output_type": "display_data",
          "data": {
            "text/plain": [
              "<IPython.core.display.HTML object>"
            ],
            "text/html": [
              "\n",
              "<p>Now this is <i>really</i> awesome!</p>\n",
              "<img src='https://upload.wikimedia.org/wikipedia/commons/thumb/0/0a/Python.svg/768px-Python.svg.png'></img>\n"
            ]
          },
          "metadata": {}
        }
      ],
      "source": [
        "import IPython\n",
        "\n",
        "html_code = \\\n",
        "'''\n",
        "<p>Now this is <i>really</i> awesome!</p>\n",
        "<img src='https://upload.wikimedia.org/wikipedia/commons/thumb/0/0a/Python.svg/768px-Python.svg.png'></img>\n",
        "'''\n",
        "\n",
        "\n",
        "display(IPython.display.HTML(html_code))\n",
        "\n"
      ]
    },
    {
      "cell_type": "code",
      "execution_count": null,
      "metadata": {
        "id": "w52NFF5a1VIr",
        "colab": {
          "base_uri": "https://localhost:8080/",
          "height": 461,
          "referenced_widgets": [
            "d1df799a5aa7458e998d7a094db67e79",
            "7c2845f6333b4d8aae001307f836fdbe",
            "f7a86ab8186741fa849da96f825a3b98",
            "249a2ecad7ed40e1b18fdfe0c5a5633d",
            "6f5addc46f6d42aaab4751ba502bdffc",
            "3f55a0ebeeb342b8a55f367552b56284",
            "0212ff85da4a44498b674bd2220d8e04"
          ]
        },
        "outputId": "2d400938-eaa3-496c-ca12-2479060e212d"
      },
      "outputs": [
        {
          "output_type": "display_data",
          "data": {
            "text/plain": [
              "interactive(children=(SelectMultiple(description='Symbols', index=(0, 1, 2, 3, 4), options=('MSFT', 'AMZN', 'I…"
            ],
            "application/vnd.jupyter.widget-view+json": {
              "version_major": 2,
              "version_minor": 0,
              "model_id": "d1df799a5aa7458e998d7a094db67e79"
            }
          },
          "metadata": {}
        }
      ],
      "source": [
        "import altair as alt\n",
        "import ipywidgets as widgets\n",
        "from vega_datasets import data\n",
        "\n",
        "source = data.stocks()\n",
        "\n",
        "stock_picker = widgets.SelectMultiple(\n",
        "    options=source.symbol.unique(),\n",
        "    value=list(source.symbol.unique()),\n",
        "    description='Symbols')\n",
        "\n",
        "# The value of symbols will come from the stock_picker.\n",
        "@widgets.interact(symbols=stock_picker)\n",
        "def render(symbols):\n",
        "  selected = source[source.symbol.isin(list(symbols))]\n",
        "\n",
        "  return alt.Chart(selected).mark_line().encode(\n",
        "      x='date',\n",
        "      y='price',\n",
        "      color='symbol',\n",
        "      strokeDash='symbol',\n",
        "  )\n",
        "\n"
      ]
    },
    {
      "cell_type": "code",
      "execution_count": null,
      "metadata": {
        "id": "rg1kD59t-VyE",
        "colab": {
          "base_uri": "https://localhost:8080/",
          "height": 356
        },
        "outputId": "c2649e11-4d30-4ac3-cff7-833061474a8f"
      },
      "outputs": [
        {
          "output_type": "display_data",
          "data": {
            "text/plain": [
              "<IPython.core.display.Javascript object>"
            ],
            "application/javascript": [
              "\n",
              "    async function takePhoto(quality) {\n",
              "      const div = document.createElement('div');\n",
              "      const capture = document.createElement('button');\n",
              "      capture.textContent = 'Capture';\n",
              "      div.appendChild(capture);\n",
              "\n",
              "      const video = document.createElement('video');\n",
              "      video.style.display = 'block';\n",
              "      const stream = await navigator.mediaDevices.getUserMedia({video: true});\n",
              "\n",
              "      document.body.appendChild(div);\n",
              "      div.appendChild(video);\n",
              "      video.srcObject = stream;\n",
              "      await video.play();\n",
              "\n",
              "      // Resize the output to fit the video element.\n",
              "      google.colab.output.setIframeHeight(document.documentElement.scrollHeight, true);\n",
              "\n",
              "      // Wait for Capture to be clicked.\n",
              "      await new Promise((resolve) => capture.onclick = resolve);\n",
              "\n",
              "      const canvas = document.createElement('canvas');\n",
              "      canvas.width = video.videoWidth;\n",
              "      canvas.height = video.videoHeight;\n",
              "      canvas.getContext('2d').drawImage(video, 0, 0);\n",
              "      stream.getVideoTracks()[0].stop();\n",
              "      div.remove();\n",
              "      return canvas.toDataURL('image/jpeg', quality);\n",
              "    }\n",
              "    "
            ]
          },
          "metadata": {}
        },
        {
          "output_type": "error",
          "ename": "KeyboardInterrupt",
          "evalue": "",
          "traceback": [
            "\u001b[0;31m---------------------------------------------------------------------------\u001b[0m",
            "\u001b[0;31mKeyboardInterrupt\u001b[0m                         Traceback (most recent call last)",
            "\u001b[0;32m<ipython-input-13-10e80f601a93>\u001b[0m in \u001b[0;36m<cell line: 0>\u001b[0;34m()\u001b[0m\n\u001b[1;32m     44\u001b[0m \u001b[0;32mfrom\u001b[0m \u001b[0mIPython\u001b[0m\u001b[0;34m.\u001b[0m\u001b[0mdisplay\u001b[0m \u001b[0;32mimport\u001b[0m \u001b[0mImage\u001b[0m\u001b[0;34m\u001b[0m\u001b[0;34m\u001b[0m\u001b[0m\n\u001b[1;32m     45\u001b[0m \u001b[0;32mtry\u001b[0m\u001b[0;34m:\u001b[0m\u001b[0;34m\u001b[0m\u001b[0;34m\u001b[0m\u001b[0m\n\u001b[0;32m---> 46\u001b[0;31m   \u001b[0mfilename\u001b[0m \u001b[0;34m=\u001b[0m \u001b[0mtake_photo\u001b[0m\u001b[0;34m(\u001b[0m\u001b[0;34m)\u001b[0m\u001b[0;34m\u001b[0m\u001b[0;34m\u001b[0m\u001b[0m\n\u001b[0m\u001b[1;32m     47\u001b[0m   \u001b[0mprint\u001b[0m\u001b[0;34m(\u001b[0m\u001b[0;34m'Saved to {}'\u001b[0m\u001b[0;34m.\u001b[0m\u001b[0mformat\u001b[0m\u001b[0;34m(\u001b[0m\u001b[0mfilename\u001b[0m\u001b[0;34m)\u001b[0m\u001b[0;34m)\u001b[0m\u001b[0;34m\u001b[0m\u001b[0;34m\u001b[0m\u001b[0m\n\u001b[1;32m     48\u001b[0m \u001b[0;34m\u001b[0m\u001b[0m\n",
            "\u001b[0;32m<ipython-input-13-10e80f601a93>\u001b[0m in \u001b[0;36mtake_photo\u001b[0;34m(filename, quality)\u001b[0m\n\u001b[1;32m     36\u001b[0m     ''')\n\u001b[1;32m     37\u001b[0m   \u001b[0mdisplay\u001b[0m\u001b[0;34m(\u001b[0m\u001b[0mjs\u001b[0m\u001b[0;34m)\u001b[0m\u001b[0;34m\u001b[0m\u001b[0;34m\u001b[0m\u001b[0m\n\u001b[0;32m---> 38\u001b[0;31m   \u001b[0mdata\u001b[0m \u001b[0;34m=\u001b[0m \u001b[0meval_js\u001b[0m\u001b[0;34m(\u001b[0m\u001b[0;34m'takePhoto({})'\u001b[0m\u001b[0;34m.\u001b[0m\u001b[0mformat\u001b[0m\u001b[0;34m(\u001b[0m\u001b[0mquality\u001b[0m\u001b[0;34m)\u001b[0m\u001b[0;34m)\u001b[0m\u001b[0;34m\u001b[0m\u001b[0;34m\u001b[0m\u001b[0m\n\u001b[0m\u001b[1;32m     39\u001b[0m   \u001b[0mbinary\u001b[0m \u001b[0;34m=\u001b[0m \u001b[0mb64decode\u001b[0m\u001b[0;34m(\u001b[0m\u001b[0mdata\u001b[0m\u001b[0;34m.\u001b[0m\u001b[0msplit\u001b[0m\u001b[0;34m(\u001b[0m\u001b[0;34m','\u001b[0m\u001b[0;34m)\u001b[0m\u001b[0;34m[\u001b[0m\u001b[0;36m1\u001b[0m\u001b[0;34m]\u001b[0m\u001b[0;34m)\u001b[0m\u001b[0;34m\u001b[0m\u001b[0;34m\u001b[0m\u001b[0m\n\u001b[1;32m     40\u001b[0m   \u001b[0;32mwith\u001b[0m \u001b[0mopen\u001b[0m\u001b[0;34m(\u001b[0m\u001b[0mfilename\u001b[0m\u001b[0;34m,\u001b[0m \u001b[0;34m'wb'\u001b[0m\u001b[0;34m)\u001b[0m \u001b[0;32mas\u001b[0m \u001b[0mf\u001b[0m\u001b[0;34m:\u001b[0m\u001b[0;34m\u001b[0m\u001b[0;34m\u001b[0m\u001b[0m\n",
            "\u001b[0;32m/usr/local/lib/python3.11/dist-packages/google/colab/output/_js.py\u001b[0m in \u001b[0;36meval_js\u001b[0;34m(script, ignore_result, timeout_sec)\u001b[0m\n\u001b[1;32m     38\u001b[0m   \u001b[0;32mif\u001b[0m \u001b[0mignore_result\u001b[0m\u001b[0;34m:\u001b[0m\u001b[0;34m\u001b[0m\u001b[0;34m\u001b[0m\u001b[0m\n\u001b[1;32m     39\u001b[0m     \u001b[0;32mreturn\u001b[0m\u001b[0;34m\u001b[0m\u001b[0;34m\u001b[0m\u001b[0m\n\u001b[0;32m---> 40\u001b[0;31m   \u001b[0;32mreturn\u001b[0m \u001b[0m_message\u001b[0m\u001b[0;34m.\u001b[0m\u001b[0mread_reply_from_input\u001b[0m\u001b[0;34m(\u001b[0m\u001b[0mrequest_id\u001b[0m\u001b[0;34m,\u001b[0m \u001b[0mtimeout_sec\u001b[0m\u001b[0;34m)\u001b[0m\u001b[0;34m\u001b[0m\u001b[0;34m\u001b[0m\u001b[0m\n\u001b[0m\u001b[1;32m     41\u001b[0m \u001b[0;34m\u001b[0m\u001b[0m\n\u001b[1;32m     42\u001b[0m \u001b[0;34m\u001b[0m\u001b[0m\n",
            "\u001b[0;32m/usr/local/lib/python3.11/dist-packages/google/colab/_message.py\u001b[0m in \u001b[0;36mread_reply_from_input\u001b[0;34m(message_id, timeout_sec)\u001b[0m\n\u001b[1;32m     94\u001b[0m     \u001b[0mreply\u001b[0m \u001b[0;34m=\u001b[0m \u001b[0m_read_next_input_message\u001b[0m\u001b[0;34m(\u001b[0m\u001b[0;34m)\u001b[0m\u001b[0;34m\u001b[0m\u001b[0;34m\u001b[0m\u001b[0m\n\u001b[1;32m     95\u001b[0m     \u001b[0;32mif\u001b[0m \u001b[0mreply\u001b[0m \u001b[0;34m==\u001b[0m \u001b[0m_NOT_READY\u001b[0m \u001b[0;32mor\u001b[0m \u001b[0;32mnot\u001b[0m \u001b[0misinstance\u001b[0m\u001b[0;34m(\u001b[0m\u001b[0mreply\u001b[0m\u001b[0;34m,\u001b[0m \u001b[0mdict\u001b[0m\u001b[0;34m)\u001b[0m\u001b[0;34m:\u001b[0m\u001b[0;34m\u001b[0m\u001b[0;34m\u001b[0m\u001b[0m\n\u001b[0;32m---> 96\u001b[0;31m       \u001b[0mtime\u001b[0m\u001b[0;34m.\u001b[0m\u001b[0msleep\u001b[0m\u001b[0;34m(\u001b[0m\u001b[0;36m0.025\u001b[0m\u001b[0;34m)\u001b[0m\u001b[0;34m\u001b[0m\u001b[0;34m\u001b[0m\u001b[0m\n\u001b[0m\u001b[1;32m     97\u001b[0m       \u001b[0;32mcontinue\u001b[0m\u001b[0;34m\u001b[0m\u001b[0;34m\u001b[0m\u001b[0m\n\u001b[1;32m     98\u001b[0m     if (\n",
            "\u001b[0;31mKeyboardInterrupt\u001b[0m: "
          ]
        }
      ],
      "source": [
        "from IPython.display import display, Javascript\n",
        "from google.colab.output import eval_js\n",
        "from base64 import b64decode\n",
        "\n",
        "def take_photo(filename='photo.jpg', quality=0.8):\n",
        "  js = Javascript('''\n",
        "    async function takePhoto(quality) {\n",
        "      const div = document.createElement('div');\n",
        "      const capture = document.createElement('button');\n",
        "      capture.textContent = 'Capture';\n",
        "      div.appendChild(capture);\n",
        "\n",
        "      const video = document.createElement('video');\n",
        "      video.style.display = 'block';\n",
        "      const stream = await navigator.mediaDevices.getUserMedia({video: true});\n",
        "\n",
        "      document.body.appendChild(div);\n",
        "      div.appendChild(video);\n",
        "      video.srcObject = stream;\n",
        "      await video.play();\n",
        "\n",
        "      // Resize the output to fit the video element.\n",
        "      google.colab.output.setIframeHeight(document.documentElement.scrollHeight, true);\n",
        "\n",
        "      // Wait for Capture to be clicked.\n",
        "      await new Promise((resolve) => capture.onclick = resolve);\n",
        "\n",
        "      const canvas = document.createElement('canvas');\n",
        "      canvas.width = video.videoWidth;\n",
        "      canvas.height = video.videoHeight;\n",
        "      canvas.getContext('2d').drawImage(video, 0, 0);\n",
        "      stream.getVideoTracks()[0].stop();\n",
        "      div.remove();\n",
        "      return canvas.toDataURL('image/jpeg', quality);\n",
        "    }\n",
        "    ''')\n",
        "  display(js)\n",
        "  data = eval_js('takePhoto({})'.format(quality))\n",
        "  binary = b64decode(data.split(',')[1])\n",
        "  with open(filename, 'wb') as f:\n",
        "    f.write(binary)\n",
        "  return filename\n",
        "\n",
        "from IPython.display import Image\n",
        "try:\n",
        "  filename = take_photo()\n",
        "  print('Saved to {}'.format(filename))\n",
        "\n",
        "  # Show the image which was just taken.\n",
        "  display(Image(filename))\n",
        "except Exception as err:\n",
        "  # Errors will be thrown if the user does not have a webcam or if they do not\n",
        "  # grant the page permission to access it.\n",
        "  print(str(err))\n"
      ]
    },
    {
      "cell_type": "code",
      "execution_count": null,
      "metadata": {
        "colab": {
          "base_uri": "https://localhost:8080/",
          "height": 34
        },
        "id": "KrPE2Z4H1D8T",
        "outputId": "8a6460bb-6480-48d5-bfa6-507cffcc778e"
      },
      "outputs": [
        {
          "output_type": "display_data",
          "data": {
            "text/plain": [
              "<IPython.core.display.Javascript object>"
            ],
            "application/javascript": [
              "\n",
              "document.querySelector(\"#output-area\").appendChild(document.createTextNode(\"hello world!\"));\n"
            ]
          },
          "metadata": {}
        }
      ],
      "source": [
        "import IPython\n",
        "js_code = '''\n",
        "document.querySelector(\"#output-area\").appendChild(document.createTextNode(\"hello world!\"));\n",
        "'''\n",
        "display(IPython.display.Javascript(js_code))\n",
        "\n"
      ]
    },
    {
      "cell_type": "code",
      "execution_count": null,
      "metadata": {
        "colab": {
          "base_uri": "https://localhost:8080/",
          "height": 170
        },
        "id": "RA0RbPSx1KGr",
        "outputId": "5ecc1868-6e4f-4d04-fc9d-c10b7dbcaf0a"
      },
      "outputs": [
        {
          "output_type": "display_data",
          "data": {
            "text/plain": [
              "<IPython.core.display.HTML object>"
            ],
            "text/html": [
              "\n",
              "    The items:\n",
              "    <br><ol id=\"items\"></ol>\n",
              "    <button id='button'>Click to add</button>\n",
              "    <script>\n",
              "      document.querySelector('#button').onclick = () => {\n",
              "        google.colab.kernel.invokeFunction('notebook.AddListItem', [], {});\n",
              "      };\n",
              "    </script>\n",
              "    "
            ]
          },
          "metadata": {}
        },
        {
          "output_type": "display_data",
          "data": {
            "text/plain": [
              "<IPython.core.display.Javascript object>"
            ],
            "application/javascript": [
              "window[\"f82c3206-2022-11f0-abfe-0242ac1c000c\"] = google.colab.output.getActiveOutputArea();\n",
              "//# sourceURL=js_65c7327532"
            ]
          },
          "metadata": {}
        },
        {
          "output_type": "display_data",
          "data": {
            "text/plain": [
              "<IPython.core.display.Javascript object>"
            ],
            "application/javascript": [
              "window[\"f82c907a-2022-11f0-abfe-0242ac1c000c\"] = document.querySelector(\"#items\");\n",
              "//# sourceURL=js_1bff5db365"
            ]
          },
          "metadata": {}
        },
        {
          "output_type": "display_data",
          "data": {
            "text/plain": [
              "<IPython.core.display.Javascript object>"
            ],
            "application/javascript": [
              "window[\"f82cd364-2022-11f0-abfe-0242ac1c000c\"] = google.colab.output.setActiveOutputArea(window[\"f82c907a-2022-11f0-abfe-0242ac1c000c\"]);\n",
              "//# sourceURL=js_3e19cf1be1"
            ]
          },
          "metadata": {}
        },
        {
          "output_type": "display_data",
          "data": {
            "text/plain": [
              "<IPython.core.display.HTML object>"
            ],
            "text/html": [
              "<li> Another item</li>"
            ]
          },
          "metadata": {}
        },
        {
          "output_type": "display_data",
          "data": {
            "text/plain": [
              "<IPython.core.display.Javascript object>"
            ],
            "application/javascript": [
              "window[\"f82d4aba-2022-11f0-abfe-0242ac1c000c\"] = google.colab.output.setActiveOutputArea(window[\"f82c3206-2022-11f0-abfe-0242ac1c000c\"]);\n",
              "//# sourceURL=js_67d62a15b6"
            ]
          },
          "metadata": {}
        },
        {
          "output_type": "display_data",
          "data": {
            "text/plain": [
              "<IPython.core.display.Javascript object>"
            ],
            "application/javascript": [
              "window[\"fe9467a8-2022-11f0-abfe-0242ac1c000c\"] = google.colab.output.getActiveOutputArea();\n",
              "//# sourceURL=js_969774c8cb"
            ]
          },
          "metadata": {}
        },
        {
          "output_type": "display_data",
          "data": {
            "text/plain": [
              "<IPython.core.display.Javascript object>"
            ],
            "application/javascript": [
              "window[\"fe94d97c-2022-11f0-abfe-0242ac1c000c\"] = document.querySelector(\"#items\");\n",
              "//# sourceURL=js_09e275e402"
            ]
          },
          "metadata": {}
        },
        {
          "output_type": "display_data",
          "data": {
            "text/plain": [
              "<IPython.core.display.Javascript object>"
            ],
            "application/javascript": [
              "window[\"fe952274-2022-11f0-abfe-0242ac1c000c\"] = google.colab.output.setActiveOutputArea(window[\"fe94d97c-2022-11f0-abfe-0242ac1c000c\"]);\n",
              "//# sourceURL=js_734bb6ee32"
            ]
          },
          "metadata": {}
        },
        {
          "output_type": "display_data",
          "data": {
            "text/plain": [
              "<IPython.core.display.HTML object>"
            ],
            "text/html": [
              "<li> Another item</li>"
            ]
          },
          "metadata": {}
        },
        {
          "output_type": "display_data",
          "data": {
            "text/plain": [
              "<IPython.core.display.Javascript object>"
            ],
            "application/javascript": [
              "window[\"fe959ca4-2022-11f0-abfe-0242ac1c000c\"] = google.colab.output.setActiveOutputArea(window[\"fe9467a8-2022-11f0-abfe-0242ac1c000c\"]);\n",
              "//# sourceURL=js_780d087b70"
            ]
          },
          "metadata": {}
        },
        {
          "output_type": "display_data",
          "data": {
            "text/plain": [
              "<IPython.core.display.Javascript object>"
            ],
            "application/javascript": [
              "window[\"ff52c720-2022-11f0-abfe-0242ac1c000c\"] = google.colab.output.getActiveOutputArea();\n",
              "//# sourceURL=js_3ce623536d"
            ]
          },
          "metadata": {}
        },
        {
          "output_type": "display_data",
          "data": {
            "text/plain": [
              "<IPython.core.display.Javascript object>"
            ],
            "application/javascript": [
              "window[\"ff53182e-2022-11f0-abfe-0242ac1c000c\"] = document.querySelector(\"#items\");\n",
              "//# sourceURL=js_774d10cb10"
            ]
          },
          "metadata": {}
        },
        {
          "output_type": "display_data",
          "data": {
            "text/plain": [
              "<IPython.core.display.Javascript object>"
            ],
            "application/javascript": [
              "window[\"ff53538e-2022-11f0-abfe-0242ac1c000c\"] = google.colab.output.setActiveOutputArea(window[\"ff53182e-2022-11f0-abfe-0242ac1c000c\"]);\n",
              "//# sourceURL=js_f395b43006"
            ]
          },
          "metadata": {}
        },
        {
          "output_type": "display_data",
          "data": {
            "text/plain": [
              "<IPython.core.display.HTML object>"
            ],
            "text/html": [
              "<li> Another item</li>"
            ]
          },
          "metadata": {}
        },
        {
          "output_type": "display_data",
          "data": {
            "text/plain": [
              "<IPython.core.display.Javascript object>"
            ],
            "application/javascript": [
              "window[\"ff53c378-2022-11f0-abfe-0242ac1c000c\"] = google.colab.output.setActiveOutputArea(window[\"ff52c720-2022-11f0-abfe-0242ac1c000c\"]);\n",
              "//# sourceURL=js_dc17268395"
            ]
          },
          "metadata": {}
        },
        {
          "output_type": "display_data",
          "data": {
            "text/plain": [
              "<IPython.core.display.Javascript object>"
            ],
            "application/javascript": [
              "window[\"ffd7e4be-2022-11f0-abfe-0242ac1c000c\"] = google.colab.output.getActiveOutputArea();\n",
              "//# sourceURL=js_39eb966ddd"
            ]
          },
          "metadata": {}
        },
        {
          "output_type": "display_data",
          "data": {
            "text/plain": [
              "<IPython.core.display.Javascript object>"
            ],
            "application/javascript": [
              "window[\"ffd83ff4-2022-11f0-abfe-0242ac1c000c\"] = document.querySelector(\"#items\");\n",
              "//# sourceURL=js_d79c71c04d"
            ]
          },
          "metadata": {}
        },
        {
          "output_type": "display_data",
          "data": {
            "text/plain": [
              "<IPython.core.display.Javascript object>"
            ],
            "application/javascript": [
              "window[\"ffd88fe0-2022-11f0-abfe-0242ac1c000c\"] = google.colab.output.setActiveOutputArea(window[\"ffd83ff4-2022-11f0-abfe-0242ac1c000c\"]);\n",
              "//# sourceURL=js_8b61c809fe"
            ]
          },
          "metadata": {}
        },
        {
          "output_type": "display_data",
          "data": {
            "text/plain": [
              "<IPython.core.display.HTML object>"
            ],
            "text/html": [
              "<li> Another item</li>"
            ]
          },
          "metadata": {}
        },
        {
          "output_type": "display_data",
          "data": {
            "text/plain": [
              "<IPython.core.display.Javascript object>"
            ],
            "application/javascript": [
              "window[\"ffd929dc-2022-11f0-abfe-0242ac1c000c\"] = google.colab.output.setActiveOutputArea(window[\"ffd7e4be-2022-11f0-abfe-0242ac1c000c\"]);\n",
              "//# sourceURL=js_a0c843b6be"
            ]
          },
          "metadata": {}
        },
        {
          "output_type": "display_data",
          "data": {
            "text/plain": [
              "<IPython.core.display.Javascript object>"
            ],
            "application/javascript": [
              "window[\"0060f556-2023-11f0-abfe-0242ac1c000c\"] = google.colab.output.getActiveOutputArea();\n",
              "//# sourceURL=js_bfded23ac7"
            ]
          },
          "metadata": {}
        },
        {
          "output_type": "display_data",
          "data": {
            "text/plain": [
              "<IPython.core.display.Javascript object>"
            ],
            "application/javascript": [
              "window[\"00614150-2023-11f0-abfe-0242ac1c000c\"] = document.querySelector(\"#items\");\n",
              "//# sourceURL=js_9833dd62ef"
            ]
          },
          "metadata": {}
        },
        {
          "output_type": "display_data",
          "data": {
            "text/plain": [
              "<IPython.core.display.Javascript object>"
            ],
            "application/javascript": [
              "window[\"006185de-2023-11f0-abfe-0242ac1c000c\"] = google.colab.output.setActiveOutputArea(window[\"00614150-2023-11f0-abfe-0242ac1c000c\"]);\n",
              "//# sourceURL=js_3c73b5e5c0"
            ]
          },
          "metadata": {}
        },
        {
          "output_type": "display_data",
          "data": {
            "text/plain": [
              "<IPython.core.display.HTML object>"
            ],
            "text/html": [
              "<li> Another item</li>"
            ]
          },
          "metadata": {}
        },
        {
          "output_type": "display_data",
          "data": {
            "text/plain": [
              "<IPython.core.display.Javascript object>"
            ],
            "application/javascript": [
              "window[\"006205ae-2023-11f0-abfe-0242ac1c000c\"] = google.colab.output.setActiveOutputArea(window[\"0060f556-2023-11f0-abfe-0242ac1c000c\"]);\n",
              "//# sourceURL=js_c8ea17854d"
            ]
          },
          "metadata": {}
        }
      ],
      "source": [
        "import IPython\n",
        "from google.colab import output\n",
        "\n",
        "display(IPython.display.HTML('''\n",
        "    The items:\n",
        "    <br><ol id=\"items\"></ol>\n",
        "    <button id='button'>Click to add</button>\n",
        "    <script>\n",
        "      document.querySelector('#button').onclick = () => {\n",
        "        google.colab.kernel.invokeFunction('notebook.AddListItem', [], {});\n",
        "      };\n",
        "    </script>\n",
        "    '''))\n",
        "\n",
        "def add_list_item():\n",
        "  # Use redirect_to_element to direct the elements which are being written.\n",
        "  with output.redirect_to_element('#items'):\n",
        "    # Use display to add items which will be persisted on notebook reload.\n",
        "    display(IPython.display.HTML('<li> Another item</li>'))\n",
        "\n",
        "output.register_callback('notebook.AddListItem', add_list_item)\n",
        "\n"
      ]
    },
    {
      "cell_type": "code",
      "execution_count": null,
      "metadata": {
        "id": "_ydU9Uet1M8M",
        "colab": {
          "base_uri": "https://localhost:8080/",
          "height": 90
        },
        "outputId": "6de5345a-3410-474d-b0f5-c980bebe1d15"
      },
      "outputs": [
        {
          "output_type": "execute_result",
          "data": {
            "text/plain": [
              "<__main__.InvokeButton at 0x7a85982cd350>"
            ],
            "text/html": [
              "<button id=\"button-f491d8b2-3638-489d-a369-02490b4f35f8\">click me</button>\n",
              "        <script>\n",
              "          document.querySelector(\"#button-f491d8b2-3638-489d-a369-02490b4f35f8\").onclick = (e) => {\n",
              "            google.colab.kernel.invokeFunction('button-f491d8b2-3638-489d-a369-02490b4f35f8', [], {})\n",
              "            e.preventDefault();\n",
              "          };\n",
              "        </script>"
            ]
          },
          "metadata": {},
          "execution_count": 20
        },
        {
          "output_type": "stream",
          "name": "stdout",
          "text": [
            "here\n",
            "here\n",
            "here\n"
          ]
        }
      ],
      "source": [
        "import IPython\n",
        "import uuid\n",
        "from google.colab import output\n",
        "\n",
        "class InvokeButton(object):\n",
        "  def __init__(self, title, callback):\n",
        "    self._title = title\n",
        "    self._callback = callback\n",
        "\n",
        "  def _repr_html_(self):\n",
        "    callback_id = 'button-' + str(uuid.uuid4())\n",
        "    output.register_callback(callback_id, self._callback)\n",
        "\n",
        "    template = \"\"\"<button id=\"{callback_id}\">{title}</button>\n",
        "        <script>\n",
        "          document.querySelector(\"#{callback_id}\").onclick = (e) => {{\n",
        "            google.colab.kernel.invokeFunction('{callback_id}', [], {{}})\n",
        "            e.preventDefault();\n",
        "          }};\n",
        "        </script>\"\"\"\n",
        "    html = template.format(title=self._title, callback_id=callback_id)\n",
        "    return html\n",
        "\n",
        "def do_something():\n",
        "  print('here')\n",
        "\n",
        "InvokeButton('click me', do_something)\n",
        "\n"
      ]
    },
    {
      "cell_type": "code",
      "execution_count": null,
      "metadata": {
        "id": "wSytnHqu1PkU",
        "colab": {
          "base_uri": "https://localhost:8080/",
          "height": 49,
          "referenced_widgets": [
            "77de8a02d9b2449b8fd1455ca228f80e",
            "26b5d429ee2a4bcf84c2a9cfa77e0da3",
            "f5595538d814444987611fbe88d03457"
          ]
        },
        "outputId": "35e81c3b-84bb-42b1-caf0-b82a049f1560"
      },
      "outputs": [
        {
          "output_type": "display_data",
          "data": {
            "text/plain": [
              "IntSlider(value=20)"
            ],
            "application/vnd.jupyter.widget-view+json": {
              "version_major": 2,
              "version_minor": 0,
              "model_id": "77de8a02d9b2449b8fd1455ca228f80e"
            }
          },
          "metadata": {}
        }
      ],
      "source": [
        "import ipywidgets as widgets\n",
        "\n",
        "slider = widgets.IntSlider(20, min=0, max=100)\n",
        "slider\n",
        "\n"
      ]
    }
  ],
  "metadata": {
    "colab": {
      "provenance": [],
      "include_colab_link": true
    },
    "kernelspec": {
      "display_name": "Python 3",
      "name": "python3"
    },
    "language_info": {
      "name": "python"
    },
    "widgets": {
      "application/vnd.jupyter.widget-state+json": {
        "d1df799a5aa7458e998d7a094db67e79": {
          "model_module": "@jupyter-widgets/controls",
          "model_name": "VBoxModel",
          "model_module_version": "1.5.0",
          "state": {
            "_dom_classes": [
              "widget-interact"
            ],
            "_model_module": "@jupyter-widgets/controls",
            "_model_module_version": "1.5.0",
            "_model_name": "VBoxModel",
            "_view_count": null,
            "_view_module": "@jupyter-widgets/controls",
            "_view_module_version": "1.5.0",
            "_view_name": "VBoxView",
            "box_style": "",
            "children": [
              "IPY_MODEL_7c2845f6333b4d8aae001307f836fdbe",
              "IPY_MODEL_f7a86ab8186741fa849da96f825a3b98"
            ],
            "layout": "IPY_MODEL_249a2ecad7ed40e1b18fdfe0c5a5633d"
          }
        },
        "7c2845f6333b4d8aae001307f836fdbe": {
          "model_module": "@jupyter-widgets/controls",
          "model_name": "SelectMultipleModel",
          "model_module_version": "1.5.0",
          "state": {
            "_dom_classes": [],
            "_model_module": "@jupyter-widgets/controls",
            "_model_module_version": "1.5.0",
            "_model_name": "SelectMultipleModel",
            "_options_labels": [
              "MSFT",
              "AMZN",
              "IBM",
              "GOOG",
              "AAPL"
            ],
            "_view_count": null,
            "_view_module": "@jupyter-widgets/controls",
            "_view_module_version": "1.5.0",
            "_view_name": "SelectMultipleView",
            "description": "Symbols",
            "description_tooltip": null,
            "disabled": false,
            "index": [
              0,
              1,
              2,
              3,
              4
            ],
            "layout": "IPY_MODEL_6f5addc46f6d42aaab4751ba502bdffc",
            "rows": 5,
            "style": "IPY_MODEL_3f55a0ebeeb342b8a55f367552b56284"
          }
        },
        "f7a86ab8186741fa849da96f825a3b98": {
          "model_module": "@jupyter-widgets/output",
          "model_name": "OutputModel",
          "model_module_version": "1.0.0",
          "state": {
            "_dom_classes": [],
            "_model_module": "@jupyter-widgets/output",
            "_model_module_version": "1.0.0",
            "_model_name": "OutputModel",
            "_view_count": null,
            "_view_module": "@jupyter-widgets/output",
            "_view_module_version": "1.0.0",
            "_view_name": "OutputView",
            "layout": "IPY_MODEL_0212ff85da4a44498b674bd2220d8e04",
            "msg_id": "",
            "outputs": [
              {
                "output_type": "display_data",
                "data": {
                  "text/html": "\n<style>\n  #altair-viz-924d424eb62a4919b42f117833b9955e.vega-embed {\n    width: 100%;\n    display: flex;\n  }\n\n  #altair-viz-924d424eb62a4919b42f117833b9955e.vega-embed details,\n  #altair-viz-924d424eb62a4919b42f117833b9955e.vega-embed details summary {\n    position: relative;\n  }\n</style>\n<div id=\"altair-viz-924d424eb62a4919b42f117833b9955e\"></div>\n<script type=\"text/javascript\">\n  var VEGA_DEBUG = (typeof VEGA_DEBUG == \"undefined\") ? {} : VEGA_DEBUG;\n  (function(spec, embedOpt){\n    let outputDiv = document.currentScript.previousElementSibling;\n    if (outputDiv.id !== \"altair-viz-924d424eb62a4919b42f117833b9955e\") {\n      outputDiv = document.getElementById(\"altair-viz-924d424eb62a4919b42f117833b9955e\");\n    }\n\n    const paths = {\n      \"vega\": \"https://cdn.jsdelivr.net/npm/vega@5?noext\",\n      \"vega-lib\": \"https://cdn.jsdelivr.net/npm/vega-lib?noext\",\n      \"vega-lite\": \"https://cdn.jsdelivr.net/npm/vega-lite@5.20.1?noext\",\n      \"vega-embed\": \"https://cdn.jsdelivr.net/npm/vega-embed@6?noext\",\n    };\n\n    function maybeLoadScript(lib, version) {\n      var key = `${lib.replace(\"-\", \"\")}_version`;\n      return (VEGA_DEBUG[key] == version) ?\n        Promise.resolve(paths[lib]) :\n        new Promise(function(resolve, reject) {\n          var s = document.createElement('script');\n          document.getElementsByTagName(\"head\")[0].appendChild(s);\n          s.async = true;\n          s.onload = () => {\n            VEGA_DEBUG[key] = version;\n            return resolve(paths[lib]);\n          };\n          s.onerror = () => reject(`Error loading script: ${paths[lib]}`);\n          s.src = paths[lib];\n        });\n    }\n\n    function showError(err) {\n      outputDiv.innerHTML = `<div class=\"error\" style=\"color:red;\">${err}</div>`;\n      throw err;\n    }\n\n    function displayChart(vegaEmbed) {\n      vegaEmbed(outputDiv, spec, embedOpt)\n        .catch(err => showError(`Javascript Error: ${err.message}<br>This usually means there's a typo in your chart specification. See the javascript console for the full traceback.`));\n    }\n\n    if(typeof define === \"function\" && define.amd) {\n      requirejs.config({paths});\n      let deps = [\"vega-embed\"];\n      require(deps, displayChart, err => showError(`Error loading script: ${err.message}`));\n    } else {\n      maybeLoadScript(\"vega\", \"5\")\n        .then(() => maybeLoadScript(\"vega-lite\", \"5.20.1\"))\n        .then(() => maybeLoadScript(\"vega-embed\", \"6\"))\n        .catch(showError)\n        .then(() => displayChart(vegaEmbed));\n    }\n  })({\"config\": {\"view\": {\"continuousWidth\": 300, \"continuousHeight\": 300}}, \"data\": {\"name\": \"data-b0fe595546d47c5085f225c35730172c\"}, \"mark\": {\"type\": \"line\"}, \"encoding\": {\"color\": {\"field\": \"symbol\", \"type\": \"nominal\"}, \"strokeDash\": {\"field\": \"symbol\", \"type\": \"nominal\"}, \"x\": {\"field\": \"date\", \"type\": \"temporal\"}, \"y\": {\"field\": \"price\", \"type\": \"quantitative\"}}, \"$schema\": \"https://vega.github.io/schema/vega-lite/v5.20.1.json\", \"datasets\": {\"data-b0fe595546d47c5085f225c35730172c\": [{\"symbol\": \"MSFT\", \"date\": \"2000-01-01T00:00:00\", \"price\": 39.81}, {\"symbol\": \"MSFT\", \"date\": \"2000-02-01T00:00:00\", \"price\": 36.35}, {\"symbol\": \"MSFT\", \"date\": \"2000-03-01T00:00:00\", \"price\": 43.22}, {\"symbol\": \"MSFT\", \"date\": \"2000-04-01T00:00:00\", \"price\": 28.37}, {\"symbol\": \"MSFT\", \"date\": \"2000-05-01T00:00:00\", \"price\": 25.45}, {\"symbol\": \"MSFT\", \"date\": \"2000-06-01T00:00:00\", \"price\": 32.54}, {\"symbol\": \"MSFT\", \"date\": \"2000-07-01T00:00:00\", \"price\": 28.4}, {\"symbol\": \"MSFT\", \"date\": \"2000-08-01T00:00:00\", \"price\": 28.4}, {\"symbol\": \"MSFT\", \"date\": \"2000-09-01T00:00:00\", \"price\": 24.53}, {\"symbol\": \"MSFT\", \"date\": \"2000-10-01T00:00:00\", \"price\": 28.02}, {\"symbol\": \"MSFT\", \"date\": \"2000-11-01T00:00:00\", \"price\": 23.34}, {\"symbol\": \"MSFT\", \"date\": \"2000-12-01T00:00:00\", \"price\": 17.65}, {\"symbol\": \"MSFT\", \"date\": \"2001-01-01T00:00:00\", \"price\": 24.84}, {\"symbol\": \"MSFT\", \"date\": \"2001-02-01T00:00:00\", \"price\": 24.0}, {\"symbol\": \"MSFT\", \"date\": \"2001-03-01T00:00:00\", \"price\": 22.25}, {\"symbol\": \"MSFT\", \"date\": \"2001-04-01T00:00:00\", \"price\": 27.56}, {\"symbol\": \"MSFT\", \"date\": \"2001-05-01T00:00:00\", \"price\": 28.14}, {\"symbol\": \"MSFT\", \"date\": \"2001-06-01T00:00:00\", \"price\": 29.7}, {\"symbol\": \"MSFT\", \"date\": \"2001-07-01T00:00:00\", \"price\": 26.93}, {\"symbol\": \"MSFT\", \"date\": \"2001-08-01T00:00:00\", \"price\": 23.21}, {\"symbol\": \"MSFT\", \"date\": \"2001-09-01T00:00:00\", \"price\": 20.82}, {\"symbol\": \"MSFT\", \"date\": \"2001-10-01T00:00:00\", \"price\": 23.65}, {\"symbol\": \"MSFT\", \"date\": \"2001-11-01T00:00:00\", \"price\": 26.12}, {\"symbol\": \"MSFT\", \"date\": \"2001-12-01T00:00:00\", \"price\": 26.95}, {\"symbol\": \"MSFT\", \"date\": \"2002-01-01T00:00:00\", \"price\": 25.92}, {\"symbol\": \"MSFT\", \"date\": \"2002-02-01T00:00:00\", \"price\": 23.73}, {\"symbol\": \"MSFT\", \"date\": \"2002-03-01T00:00:00\", \"price\": 24.53}, {\"symbol\": \"MSFT\", \"date\": \"2002-04-01T00:00:00\", \"price\": 21.26}, {\"symbol\": \"MSFT\", \"date\": \"2002-05-01T00:00:00\", \"price\": 20.71}, {\"symbol\": \"MSFT\", \"date\": \"2002-06-01T00:00:00\", \"price\": 22.25}, {\"symbol\": \"MSFT\", \"date\": \"2002-07-01T00:00:00\", \"price\": 19.52}, {\"symbol\": \"MSFT\", \"date\": \"2002-08-01T00:00:00\", \"price\": 19.97}, {\"symbol\": \"MSFT\", \"date\": \"2002-09-01T00:00:00\", \"price\": 17.79}, {\"symbol\": \"MSFT\", \"date\": \"2002-10-01T00:00:00\", \"price\": 21.75}, {\"symbol\": \"MSFT\", \"date\": \"2002-11-01T00:00:00\", \"price\": 23.46}, {\"symbol\": \"MSFT\", \"date\": \"2002-12-01T00:00:00\", \"price\": 21.03}, {\"symbol\": \"MSFT\", \"date\": \"2003-01-01T00:00:00\", \"price\": 19.31}, {\"symbol\": \"MSFT\", \"date\": \"2003-02-01T00:00:00\", \"price\": 19.34}, {\"symbol\": \"MSFT\", \"date\": \"2003-03-01T00:00:00\", \"price\": 19.76}, {\"symbol\": \"MSFT\", \"date\": \"2003-04-01T00:00:00\", \"price\": 20.87}, {\"symbol\": \"MSFT\", \"date\": \"2003-05-01T00:00:00\", \"price\": 20.09}, {\"symbol\": \"MSFT\", \"date\": \"2003-06-01T00:00:00\", \"price\": 20.93}, {\"symbol\": \"MSFT\", \"date\": \"2003-07-01T00:00:00\", \"price\": 21.56}, {\"symbol\": \"MSFT\", \"date\": \"2003-08-01T00:00:00\", \"price\": 21.65}, {\"symbol\": \"MSFT\", \"date\": \"2003-09-01T00:00:00\", \"price\": 22.69}, {\"symbol\": \"MSFT\", \"date\": \"2003-10-01T00:00:00\", \"price\": 21.45}, {\"symbol\": \"MSFT\", \"date\": \"2003-11-01T00:00:00\", \"price\": 21.1}, {\"symbol\": \"MSFT\", \"date\": \"2003-12-01T00:00:00\", \"price\": 22.46}, {\"symbol\": \"MSFT\", \"date\": \"2004-01-01T00:00:00\", \"price\": 22.69}, {\"symbol\": \"MSFT\", \"date\": \"2004-02-01T00:00:00\", \"price\": 21.77}, {\"symbol\": \"MSFT\", \"date\": \"2004-03-01T00:00:00\", \"price\": 20.46}, {\"symbol\": \"MSFT\", \"date\": \"2004-04-01T00:00:00\", \"price\": 21.45}, {\"symbol\": \"MSFT\", \"date\": \"2004-05-01T00:00:00\", \"price\": 21.53}, {\"symbol\": \"MSFT\", \"date\": \"2004-06-01T00:00:00\", \"price\": 23.44}, {\"symbol\": \"MSFT\", \"date\": \"2004-07-01T00:00:00\", \"price\": 23.38}, {\"symbol\": \"MSFT\", \"date\": \"2004-08-01T00:00:00\", \"price\": 22.47}, {\"symbol\": \"MSFT\", \"date\": \"2004-09-01T00:00:00\", \"price\": 22.76}, {\"symbol\": \"MSFT\", \"date\": \"2004-10-01T00:00:00\", \"price\": 23.02}, {\"symbol\": \"MSFT\", \"date\": \"2004-11-01T00:00:00\", \"price\": 24.6}, {\"symbol\": \"MSFT\", \"date\": \"2004-12-01T00:00:00\", \"price\": 24.52}, {\"symbol\": \"MSFT\", \"date\": \"2005-01-01T00:00:00\", \"price\": 24.11}, {\"symbol\": \"MSFT\", \"date\": \"2005-02-01T00:00:00\", \"price\": 23.15}, {\"symbol\": \"MSFT\", \"date\": \"2005-03-01T00:00:00\", \"price\": 22.24}, {\"symbol\": \"MSFT\", \"date\": \"2005-04-01T00:00:00\", \"price\": 23.28}, {\"symbol\": \"MSFT\", \"date\": \"2005-05-01T00:00:00\", \"price\": 23.82}, {\"symbol\": \"MSFT\", \"date\": \"2005-06-01T00:00:00\", \"price\": 22.93}, {\"symbol\": \"MSFT\", \"date\": \"2005-07-01T00:00:00\", \"price\": 23.64}, {\"symbol\": \"MSFT\", \"date\": \"2005-08-01T00:00:00\", \"price\": 25.35}, {\"symbol\": \"MSFT\", \"date\": \"2005-09-01T00:00:00\", \"price\": 23.83}, {\"symbol\": \"MSFT\", \"date\": \"2005-10-01T00:00:00\", \"price\": 23.8}, {\"symbol\": \"MSFT\", \"date\": \"2005-11-01T00:00:00\", \"price\": 25.71}, {\"symbol\": \"MSFT\", \"date\": \"2005-12-01T00:00:00\", \"price\": 24.29}, {\"symbol\": \"MSFT\", \"date\": \"2006-01-01T00:00:00\", \"price\": 26.14}, {\"symbol\": \"MSFT\", \"date\": \"2006-02-01T00:00:00\", \"price\": 25.04}, {\"symbol\": \"MSFT\", \"date\": \"2006-03-01T00:00:00\", \"price\": 25.36}, {\"symbol\": \"MSFT\", \"date\": \"2006-04-01T00:00:00\", \"price\": 22.5}, {\"symbol\": \"MSFT\", \"date\": \"2006-05-01T00:00:00\", \"price\": 21.19}, {\"symbol\": \"MSFT\", \"date\": \"2006-06-01T00:00:00\", \"price\": 21.8}, {\"symbol\": \"MSFT\", \"date\": \"2006-07-01T00:00:00\", \"price\": 22.51}, {\"symbol\": \"MSFT\", \"date\": \"2006-08-01T00:00:00\", \"price\": 24.13}, {\"symbol\": \"MSFT\", \"date\": \"2006-09-01T00:00:00\", \"price\": 25.68}, {\"symbol\": \"MSFT\", \"date\": \"2006-10-01T00:00:00\", \"price\": 26.96}, {\"symbol\": \"MSFT\", \"date\": \"2006-11-01T00:00:00\", \"price\": 27.66}, {\"symbol\": \"MSFT\", \"date\": \"2006-12-01T00:00:00\", \"price\": 28.13}, {\"symbol\": \"MSFT\", \"date\": \"2007-01-01T00:00:00\", \"price\": 29.07}, {\"symbol\": \"MSFT\", \"date\": \"2007-02-01T00:00:00\", \"price\": 26.63}, {\"symbol\": \"MSFT\", \"date\": \"2007-03-01T00:00:00\", \"price\": 26.35}, {\"symbol\": \"MSFT\", \"date\": \"2007-04-01T00:00:00\", \"price\": 28.3}, {\"symbol\": \"MSFT\", \"date\": \"2007-05-01T00:00:00\", \"price\": 29.11}, {\"symbol\": \"MSFT\", \"date\": \"2007-06-01T00:00:00\", \"price\": 27.95}, {\"symbol\": \"MSFT\", \"date\": \"2007-07-01T00:00:00\", \"price\": 27.5}, {\"symbol\": \"MSFT\", \"date\": \"2007-08-01T00:00:00\", \"price\": 27.34}, {\"symbol\": \"MSFT\", \"date\": \"2007-09-01T00:00:00\", \"price\": 28.04}, {\"symbol\": \"MSFT\", \"date\": \"2007-10-01T00:00:00\", \"price\": 35.03}, {\"symbol\": \"MSFT\", \"date\": \"2007-11-01T00:00:00\", \"price\": 32.09}, {\"symbol\": \"MSFT\", \"date\": \"2007-12-01T00:00:00\", \"price\": 34.0}, {\"symbol\": \"MSFT\", \"date\": \"2008-01-01T00:00:00\", \"price\": 31.13}, {\"symbol\": \"MSFT\", \"date\": \"2008-02-01T00:00:00\", \"price\": 26.07}, {\"symbol\": \"MSFT\", \"date\": \"2008-03-01T00:00:00\", \"price\": 27.21}, {\"symbol\": \"MSFT\", \"date\": \"2008-04-01T00:00:00\", \"price\": 27.34}, {\"symbol\": \"MSFT\", \"date\": \"2008-05-01T00:00:00\", \"price\": 27.25}, {\"symbol\": \"MSFT\", \"date\": \"2008-06-01T00:00:00\", \"price\": 26.47}, {\"symbol\": \"MSFT\", \"date\": \"2008-07-01T00:00:00\", \"price\": 24.75}, {\"symbol\": \"MSFT\", \"date\": \"2008-08-01T00:00:00\", \"price\": 26.36}, {\"symbol\": \"MSFT\", \"date\": \"2008-09-01T00:00:00\", \"price\": 25.78}, {\"symbol\": \"MSFT\", \"date\": \"2008-10-01T00:00:00\", \"price\": 21.57}, {\"symbol\": \"MSFT\", \"date\": \"2008-11-01T00:00:00\", \"price\": 19.66}, {\"symbol\": \"MSFT\", \"date\": \"2008-12-01T00:00:00\", \"price\": 18.91}, {\"symbol\": \"MSFT\", \"date\": \"2009-01-01T00:00:00\", \"price\": 16.63}, {\"symbol\": \"MSFT\", \"date\": \"2009-02-01T00:00:00\", \"price\": 15.81}, {\"symbol\": \"MSFT\", \"date\": \"2009-03-01T00:00:00\", \"price\": 17.99}, {\"symbol\": \"MSFT\", \"date\": \"2009-04-01T00:00:00\", \"price\": 19.84}, {\"symbol\": \"MSFT\", \"date\": \"2009-05-01T00:00:00\", \"price\": 20.59}, {\"symbol\": \"MSFT\", \"date\": \"2009-06-01T00:00:00\", \"price\": 23.42}, {\"symbol\": \"MSFT\", \"date\": \"2009-07-01T00:00:00\", \"price\": 23.18}, {\"symbol\": \"MSFT\", \"date\": \"2009-08-01T00:00:00\", \"price\": 24.43}, {\"symbol\": \"MSFT\", \"date\": \"2009-09-01T00:00:00\", \"price\": 25.49}, {\"symbol\": \"MSFT\", \"date\": \"2009-10-01T00:00:00\", \"price\": 27.48}, {\"symbol\": \"MSFT\", \"date\": \"2009-11-01T00:00:00\", \"price\": 29.27}, {\"symbol\": \"MSFT\", \"date\": \"2009-12-01T00:00:00\", \"price\": 30.34}, {\"symbol\": \"MSFT\", \"date\": \"2010-01-01T00:00:00\", \"price\": 28.05}, {\"symbol\": \"MSFT\", \"date\": \"2010-02-01T00:00:00\", \"price\": 28.67}, {\"symbol\": \"MSFT\", \"date\": \"2010-03-01T00:00:00\", \"price\": 28.8}, {\"symbol\": \"AMZN\", \"date\": \"2000-01-01T00:00:00\", \"price\": 64.56}, {\"symbol\": \"AMZN\", \"date\": \"2000-02-01T00:00:00\", \"price\": 68.87}, {\"symbol\": \"AMZN\", \"date\": \"2000-03-01T00:00:00\", \"price\": 67.0}, {\"symbol\": \"AMZN\", \"date\": \"2000-04-01T00:00:00\", \"price\": 55.19}, {\"symbol\": \"AMZN\", \"date\": \"2000-05-01T00:00:00\", \"price\": 48.31}, {\"symbol\": \"AMZN\", \"date\": \"2000-06-01T00:00:00\", \"price\": 36.31}, {\"symbol\": \"AMZN\", \"date\": \"2000-07-01T00:00:00\", \"price\": 30.12}, {\"symbol\": \"AMZN\", \"date\": \"2000-08-01T00:00:00\", \"price\": 41.5}, {\"symbol\": \"AMZN\", \"date\": \"2000-09-01T00:00:00\", \"price\": 38.44}, {\"symbol\": \"AMZN\", \"date\": \"2000-10-01T00:00:00\", \"price\": 36.62}, {\"symbol\": \"AMZN\", \"date\": \"2000-11-01T00:00:00\", \"price\": 24.69}, {\"symbol\": \"AMZN\", \"date\": \"2000-12-01T00:00:00\", \"price\": 15.56}, {\"symbol\": \"AMZN\", \"date\": \"2001-01-01T00:00:00\", \"price\": 17.31}, {\"symbol\": \"AMZN\", \"date\": \"2001-02-01T00:00:00\", \"price\": 10.19}, {\"symbol\": \"AMZN\", \"date\": \"2001-03-01T00:00:00\", \"price\": 10.23}, {\"symbol\": \"AMZN\", \"date\": \"2001-04-01T00:00:00\", \"price\": 15.78}, {\"symbol\": \"AMZN\", \"date\": \"2001-05-01T00:00:00\", \"price\": 16.69}, {\"symbol\": \"AMZN\", \"date\": \"2001-06-01T00:00:00\", \"price\": 14.15}, {\"symbol\": \"AMZN\", \"date\": \"2001-07-01T00:00:00\", \"price\": 12.49}, {\"symbol\": \"AMZN\", \"date\": \"2001-08-01T00:00:00\", \"price\": 8.94}, {\"symbol\": \"AMZN\", \"date\": \"2001-09-01T00:00:00\", \"price\": 5.97}, {\"symbol\": \"AMZN\", \"date\": \"2001-10-01T00:00:00\", \"price\": 6.98}, {\"symbol\": \"AMZN\", \"date\": \"2001-11-01T00:00:00\", \"price\": 11.32}, {\"symbol\": \"AMZN\", \"date\": \"2001-12-01T00:00:00\", \"price\": 10.82}, {\"symbol\": \"AMZN\", \"date\": \"2002-01-01T00:00:00\", \"price\": 14.19}, {\"symbol\": \"AMZN\", \"date\": \"2002-02-01T00:00:00\", \"price\": 14.1}, {\"symbol\": \"AMZN\", \"date\": \"2002-03-01T00:00:00\", \"price\": 14.3}, {\"symbol\": \"AMZN\", \"date\": \"2002-04-01T00:00:00\", \"price\": 16.69}, {\"symbol\": \"AMZN\", \"date\": \"2002-05-01T00:00:00\", \"price\": 18.23}, {\"symbol\": \"AMZN\", \"date\": \"2002-06-01T00:00:00\", \"price\": 16.25}, {\"symbol\": \"AMZN\", \"date\": \"2002-07-01T00:00:00\", \"price\": 14.45}, {\"symbol\": \"AMZN\", \"date\": \"2002-08-01T00:00:00\", \"price\": 14.94}, {\"symbol\": \"AMZN\", \"date\": \"2002-09-01T00:00:00\", \"price\": 15.93}, {\"symbol\": \"AMZN\", \"date\": \"2002-10-01T00:00:00\", \"price\": 19.36}, {\"symbol\": \"AMZN\", \"date\": \"2002-11-01T00:00:00\", \"price\": 23.35}, {\"symbol\": \"AMZN\", \"date\": \"2002-12-01T00:00:00\", \"price\": 18.89}, {\"symbol\": \"AMZN\", \"date\": \"2003-01-01T00:00:00\", \"price\": 21.85}, {\"symbol\": \"AMZN\", \"date\": \"2003-02-01T00:00:00\", \"price\": 22.01}, {\"symbol\": \"AMZN\", \"date\": \"2003-03-01T00:00:00\", \"price\": 26.03}, {\"symbol\": \"AMZN\", \"date\": \"2003-04-01T00:00:00\", \"price\": 28.69}, {\"symbol\": \"AMZN\", \"date\": \"2003-05-01T00:00:00\", \"price\": 35.89}, {\"symbol\": \"AMZN\", \"date\": \"2003-06-01T00:00:00\", \"price\": 36.32}, {\"symbol\": \"AMZN\", \"date\": \"2003-07-01T00:00:00\", \"price\": 41.64}, {\"symbol\": \"AMZN\", \"date\": \"2003-08-01T00:00:00\", \"price\": 46.32}, {\"symbol\": \"AMZN\", \"date\": \"2003-09-01T00:00:00\", \"price\": 48.43}, {\"symbol\": \"AMZN\", \"date\": \"2003-10-01T00:00:00\", \"price\": 54.43}, {\"symbol\": \"AMZN\", \"date\": \"2003-11-01T00:00:00\", \"price\": 53.97}, {\"symbol\": \"AMZN\", \"date\": \"2003-12-01T00:00:00\", \"price\": 52.62}, {\"symbol\": \"AMZN\", \"date\": \"2004-01-01T00:00:00\", \"price\": 50.4}, {\"symbol\": \"AMZN\", \"date\": \"2004-02-01T00:00:00\", \"price\": 43.01}, {\"symbol\": \"AMZN\", \"date\": \"2004-03-01T00:00:00\", \"price\": 43.28}, {\"symbol\": \"AMZN\", \"date\": \"2004-04-01T00:00:00\", \"price\": 43.6}, {\"symbol\": \"AMZN\", \"date\": \"2004-05-01T00:00:00\", \"price\": 48.5}, {\"symbol\": \"AMZN\", \"date\": \"2004-06-01T00:00:00\", \"price\": 54.4}, {\"symbol\": \"AMZN\", \"date\": \"2004-07-01T00:00:00\", \"price\": 38.92}, {\"symbol\": \"AMZN\", \"date\": \"2004-08-01T00:00:00\", \"price\": 38.14}, {\"symbol\": \"AMZN\", \"date\": \"2004-09-01T00:00:00\", \"price\": 40.86}, {\"symbol\": \"AMZN\", \"date\": \"2004-10-01T00:00:00\", \"price\": 34.13}, {\"symbol\": \"AMZN\", \"date\": \"2004-11-01T00:00:00\", \"price\": 39.68}, {\"symbol\": \"AMZN\", \"date\": \"2004-12-01T00:00:00\", \"price\": 44.29}, {\"symbol\": \"AMZN\", \"date\": \"2005-01-01T00:00:00\", \"price\": 43.22}, {\"symbol\": \"AMZN\", \"date\": \"2005-02-01T00:00:00\", \"price\": 35.18}, {\"symbol\": \"AMZN\", \"date\": \"2005-03-01T00:00:00\", \"price\": 34.27}, {\"symbol\": \"AMZN\", \"date\": \"2005-04-01T00:00:00\", \"price\": 32.36}, {\"symbol\": \"AMZN\", \"date\": \"2005-05-01T00:00:00\", \"price\": 35.51}, {\"symbol\": \"AMZN\", \"date\": \"2005-06-01T00:00:00\", \"price\": 33.09}, {\"symbol\": \"AMZN\", \"date\": \"2005-07-01T00:00:00\", \"price\": 45.15}, {\"symbol\": \"AMZN\", \"date\": \"2005-08-01T00:00:00\", \"price\": 42.7}, {\"symbol\": \"AMZN\", \"date\": \"2005-09-01T00:00:00\", \"price\": 45.3}, {\"symbol\": \"AMZN\", \"date\": \"2005-10-01T00:00:00\", \"price\": 39.86}, {\"symbol\": \"AMZN\", \"date\": \"2005-11-01T00:00:00\", \"price\": 48.46}, {\"symbol\": \"AMZN\", \"date\": \"2005-12-01T00:00:00\", \"price\": 47.15}, {\"symbol\": \"AMZN\", \"date\": \"2006-01-01T00:00:00\", \"price\": 44.82}, {\"symbol\": \"AMZN\", \"date\": \"2006-02-01T00:00:00\", \"price\": 37.44}, {\"symbol\": \"AMZN\", \"date\": \"2006-03-01T00:00:00\", \"price\": 36.53}, {\"symbol\": \"AMZN\", \"date\": \"2006-04-01T00:00:00\", \"price\": 35.21}, {\"symbol\": \"AMZN\", \"date\": \"2006-05-01T00:00:00\", \"price\": 34.61}, {\"symbol\": \"AMZN\", \"date\": \"2006-06-01T00:00:00\", \"price\": 38.68}, {\"symbol\": \"AMZN\", \"date\": \"2006-07-01T00:00:00\", \"price\": 26.89}, {\"symbol\": \"AMZN\", \"date\": \"2006-08-01T00:00:00\", \"price\": 30.83}, {\"symbol\": \"AMZN\", \"date\": \"2006-09-01T00:00:00\", \"price\": 32.12}, {\"symbol\": \"AMZN\", \"date\": \"2006-10-01T00:00:00\", \"price\": 38.09}, {\"symbol\": \"AMZN\", \"date\": \"2006-11-01T00:00:00\", \"price\": 40.34}, {\"symbol\": \"AMZN\", \"date\": \"2006-12-01T00:00:00\", \"price\": 39.46}, {\"symbol\": \"AMZN\", \"date\": \"2007-01-01T00:00:00\", \"price\": 37.67}, {\"symbol\": \"AMZN\", \"date\": \"2007-02-01T00:00:00\", \"price\": 39.14}, {\"symbol\": \"AMZN\", \"date\": \"2007-03-01T00:00:00\", \"price\": 39.79}, {\"symbol\": \"AMZN\", \"date\": \"2007-04-01T00:00:00\", \"price\": 61.33}, {\"symbol\": \"AMZN\", \"date\": \"2007-05-01T00:00:00\", \"price\": 69.14}, {\"symbol\": \"AMZN\", \"date\": \"2007-06-01T00:00:00\", \"price\": 68.41}, {\"symbol\": \"AMZN\", \"date\": \"2007-07-01T00:00:00\", \"price\": 78.54}, {\"symbol\": \"AMZN\", \"date\": \"2007-08-01T00:00:00\", \"price\": 79.91}, {\"symbol\": \"AMZN\", \"date\": \"2007-09-01T00:00:00\", \"price\": 93.15}, {\"symbol\": \"AMZN\", \"date\": \"2007-10-01T00:00:00\", \"price\": 89.15}, {\"symbol\": \"AMZN\", \"date\": \"2007-11-01T00:00:00\", \"price\": 90.56}, {\"symbol\": \"AMZN\", \"date\": \"2007-12-01T00:00:00\", \"price\": 92.64}, {\"symbol\": \"AMZN\", \"date\": \"2008-01-01T00:00:00\", \"price\": 77.7}, {\"symbol\": \"AMZN\", \"date\": \"2008-02-01T00:00:00\", \"price\": 64.47}, {\"symbol\": \"AMZN\", \"date\": \"2008-03-01T00:00:00\", \"price\": 71.3}, {\"symbol\": \"AMZN\", \"date\": \"2008-04-01T00:00:00\", \"price\": 78.63}, {\"symbol\": \"AMZN\", \"date\": \"2008-05-01T00:00:00\", \"price\": 81.62}, {\"symbol\": \"AMZN\", \"date\": \"2008-06-01T00:00:00\", \"price\": 73.33}, {\"symbol\": \"AMZN\", \"date\": \"2008-07-01T00:00:00\", \"price\": 76.34}, {\"symbol\": \"AMZN\", \"date\": \"2008-08-01T00:00:00\", \"price\": 80.81}, {\"symbol\": \"AMZN\", \"date\": \"2008-09-01T00:00:00\", \"price\": 72.76}, {\"symbol\": \"AMZN\", \"date\": \"2008-10-01T00:00:00\", \"price\": 57.24}, {\"symbol\": \"AMZN\", \"date\": \"2008-11-01T00:00:00\", \"price\": 42.7}, {\"symbol\": \"AMZN\", \"date\": \"2008-12-01T00:00:00\", \"price\": 51.28}, {\"symbol\": \"AMZN\", \"date\": \"2009-01-01T00:00:00\", \"price\": 58.82}, {\"symbol\": \"AMZN\", \"date\": \"2009-02-01T00:00:00\", \"price\": 64.79}, {\"symbol\": \"AMZN\", \"date\": \"2009-03-01T00:00:00\", \"price\": 73.44}, {\"symbol\": \"AMZN\", \"date\": \"2009-04-01T00:00:00\", \"price\": 80.52}, {\"symbol\": \"AMZN\", \"date\": \"2009-05-01T00:00:00\", \"price\": 77.99}, {\"symbol\": \"AMZN\", \"date\": \"2009-06-01T00:00:00\", \"price\": 83.66}, {\"symbol\": \"AMZN\", \"date\": \"2009-07-01T00:00:00\", \"price\": 85.76}, {\"symbol\": \"AMZN\", \"date\": \"2009-08-01T00:00:00\", \"price\": 81.19}, {\"symbol\": \"AMZN\", \"date\": \"2009-09-01T00:00:00\", \"price\": 93.36}, {\"symbol\": \"AMZN\", \"date\": \"2009-10-01T00:00:00\", \"price\": 118.81}, {\"symbol\": \"AMZN\", \"date\": \"2009-11-01T00:00:00\", \"price\": 135.91}, {\"symbol\": \"AMZN\", \"date\": \"2009-12-01T00:00:00\", \"price\": 134.52}, {\"symbol\": \"AMZN\", \"date\": \"2010-01-01T00:00:00\", \"price\": 125.41}, {\"symbol\": \"AMZN\", \"date\": \"2010-02-01T00:00:00\", \"price\": 118.4}, {\"symbol\": \"AMZN\", \"date\": \"2010-03-01T00:00:00\", \"price\": 128.82}, {\"symbol\": \"IBM\", \"date\": \"2000-01-01T00:00:00\", \"price\": 100.52}, {\"symbol\": \"IBM\", \"date\": \"2000-02-01T00:00:00\", \"price\": 92.11}, {\"symbol\": \"IBM\", \"date\": \"2000-03-01T00:00:00\", \"price\": 106.11}, {\"symbol\": \"IBM\", \"date\": \"2000-04-01T00:00:00\", \"price\": 99.95}, {\"symbol\": \"IBM\", \"date\": \"2000-05-01T00:00:00\", \"price\": 96.31}, {\"symbol\": \"IBM\", \"date\": \"2000-06-01T00:00:00\", \"price\": 98.33}, {\"symbol\": \"IBM\", \"date\": \"2000-07-01T00:00:00\", \"price\": 100.74}, {\"symbol\": \"IBM\", \"date\": \"2000-08-01T00:00:00\", \"price\": 118.62}, {\"symbol\": \"IBM\", \"date\": \"2000-09-01T00:00:00\", \"price\": 101.19}, {\"symbol\": \"IBM\", \"date\": \"2000-10-01T00:00:00\", \"price\": 88.5}, {\"symbol\": \"IBM\", \"date\": \"2000-11-01T00:00:00\", \"price\": 84.12}, {\"symbol\": \"IBM\", \"date\": \"2000-12-01T00:00:00\", \"price\": 76.47}, {\"symbol\": \"IBM\", \"date\": \"2001-01-01T00:00:00\", \"price\": 100.76}, {\"symbol\": \"IBM\", \"date\": \"2001-02-01T00:00:00\", \"price\": 89.98}, {\"symbol\": \"IBM\", \"date\": \"2001-03-01T00:00:00\", \"price\": 86.63}, {\"symbol\": \"IBM\", \"date\": \"2001-04-01T00:00:00\", \"price\": 103.7}, {\"symbol\": \"IBM\", \"date\": \"2001-05-01T00:00:00\", \"price\": 100.82}, {\"symbol\": \"IBM\", \"date\": \"2001-06-01T00:00:00\", \"price\": 102.35}, {\"symbol\": \"IBM\", \"date\": \"2001-07-01T00:00:00\", \"price\": 94.87}, {\"symbol\": \"IBM\", \"date\": \"2001-08-01T00:00:00\", \"price\": 90.25}, {\"symbol\": \"IBM\", \"date\": \"2001-09-01T00:00:00\", \"price\": 82.82}, {\"symbol\": \"IBM\", \"date\": \"2001-10-01T00:00:00\", \"price\": 97.58}, {\"symbol\": \"IBM\", \"date\": \"2001-11-01T00:00:00\", \"price\": 104.5}, {\"symbol\": \"IBM\", \"date\": \"2001-12-01T00:00:00\", \"price\": 109.36}, {\"symbol\": \"IBM\", \"date\": \"2002-01-01T00:00:00\", \"price\": 97.54}, {\"symbol\": \"IBM\", \"date\": \"2002-02-01T00:00:00\", \"price\": 88.82}, {\"symbol\": \"IBM\", \"date\": \"2002-03-01T00:00:00\", \"price\": 94.15}, {\"symbol\": \"IBM\", \"date\": \"2002-04-01T00:00:00\", \"price\": 75.82}, {\"symbol\": \"IBM\", \"date\": \"2002-05-01T00:00:00\", \"price\": 72.97}, {\"symbol\": \"IBM\", \"date\": \"2002-06-01T00:00:00\", \"price\": 65.31}, {\"symbol\": \"IBM\", \"date\": \"2002-07-01T00:00:00\", \"price\": 63.86}, {\"symbol\": \"IBM\", \"date\": \"2002-08-01T00:00:00\", \"price\": 68.52}, {\"symbol\": \"IBM\", \"date\": \"2002-09-01T00:00:00\", \"price\": 53.01}, {\"symbol\": \"IBM\", \"date\": \"2002-10-01T00:00:00\", \"price\": 71.76}, {\"symbol\": \"IBM\", \"date\": \"2002-11-01T00:00:00\", \"price\": 79.16}, {\"symbol\": \"IBM\", \"date\": \"2002-12-01T00:00:00\", \"price\": 70.58}, {\"symbol\": \"IBM\", \"date\": \"2003-01-01T00:00:00\", \"price\": 71.22}, {\"symbol\": \"IBM\", \"date\": \"2003-02-01T00:00:00\", \"price\": 71.13}, {\"symbol\": \"IBM\", \"date\": \"2003-03-01T00:00:00\", \"price\": 71.57}, {\"symbol\": \"IBM\", \"date\": \"2003-04-01T00:00:00\", \"price\": 77.47}, {\"symbol\": \"IBM\", \"date\": \"2003-05-01T00:00:00\", \"price\": 80.48}, {\"symbol\": \"IBM\", \"date\": \"2003-06-01T00:00:00\", \"price\": 75.42}, {\"symbol\": \"IBM\", \"date\": \"2003-07-01T00:00:00\", \"price\": 74.28}, {\"symbol\": \"IBM\", \"date\": \"2003-08-01T00:00:00\", \"price\": 75.12}, {\"symbol\": \"IBM\", \"date\": \"2003-09-01T00:00:00\", \"price\": 80.91}, {\"symbol\": \"IBM\", \"date\": \"2003-10-01T00:00:00\", \"price\": 81.96}, {\"symbol\": \"IBM\", \"date\": \"2003-11-01T00:00:00\", \"price\": 83.08}, {\"symbol\": \"IBM\", \"date\": \"2003-12-01T00:00:00\", \"price\": 85.05}, {\"symbol\": \"IBM\", \"date\": \"2004-01-01T00:00:00\", \"price\": 91.06}, {\"symbol\": \"IBM\", \"date\": \"2004-02-01T00:00:00\", \"price\": 88.7}, {\"symbol\": \"IBM\", \"date\": \"2004-03-01T00:00:00\", \"price\": 84.41}, {\"symbol\": \"IBM\", \"date\": \"2004-04-01T00:00:00\", \"price\": 81.04}, {\"symbol\": \"IBM\", \"date\": \"2004-05-01T00:00:00\", \"price\": 81.59}, {\"symbol\": \"IBM\", \"date\": \"2004-06-01T00:00:00\", \"price\": 81.19}, {\"symbol\": \"IBM\", \"date\": \"2004-07-01T00:00:00\", \"price\": 80.19}, {\"symbol\": \"IBM\", \"date\": \"2004-08-01T00:00:00\", \"price\": 78.17}, {\"symbol\": \"IBM\", \"date\": \"2004-09-01T00:00:00\", \"price\": 79.13}, {\"symbol\": \"IBM\", \"date\": \"2004-10-01T00:00:00\", \"price\": 82.84}, {\"symbol\": \"IBM\", \"date\": \"2004-11-01T00:00:00\", \"price\": 87.15}, {\"symbol\": \"IBM\", \"date\": \"2004-12-01T00:00:00\", \"price\": 91.16}, {\"symbol\": \"IBM\", \"date\": \"2005-01-01T00:00:00\", \"price\": 86.39}, {\"symbol\": \"IBM\", \"date\": \"2005-02-01T00:00:00\", \"price\": 85.78}, {\"symbol\": \"IBM\", \"date\": \"2005-03-01T00:00:00\", \"price\": 84.66}, {\"symbol\": \"IBM\", \"date\": \"2005-04-01T00:00:00\", \"price\": 70.77}, {\"symbol\": \"IBM\", \"date\": \"2005-05-01T00:00:00\", \"price\": 70.18}, {\"symbol\": \"IBM\", \"date\": \"2005-06-01T00:00:00\", \"price\": 68.93}, {\"symbol\": \"IBM\", \"date\": \"2005-07-01T00:00:00\", \"price\": 77.53}, {\"symbol\": \"IBM\", \"date\": \"2005-08-01T00:00:00\", \"price\": 75.07}, {\"symbol\": \"IBM\", \"date\": \"2005-09-01T00:00:00\", \"price\": 74.7}, {\"symbol\": \"IBM\", \"date\": \"2005-10-01T00:00:00\", \"price\": 76.25}, {\"symbol\": \"IBM\", \"date\": \"2005-11-01T00:00:00\", \"price\": 82.98}, {\"symbol\": \"IBM\", \"date\": \"2005-12-01T00:00:00\", \"price\": 76.73}, {\"symbol\": \"IBM\", \"date\": \"2006-01-01T00:00:00\", \"price\": 75.89}, {\"symbol\": \"IBM\", \"date\": \"2006-02-01T00:00:00\", \"price\": 75.09}, {\"symbol\": \"IBM\", \"date\": \"2006-03-01T00:00:00\", \"price\": 77.17}, {\"symbol\": \"IBM\", \"date\": \"2006-04-01T00:00:00\", \"price\": 77.05}, {\"symbol\": \"IBM\", \"date\": \"2006-05-01T00:00:00\", \"price\": 75.04}, {\"symbol\": \"IBM\", \"date\": \"2006-06-01T00:00:00\", \"price\": 72.15}, {\"symbol\": \"IBM\", \"date\": \"2006-07-01T00:00:00\", \"price\": 72.7}, {\"symbol\": \"IBM\", \"date\": \"2006-08-01T00:00:00\", \"price\": 76.35}, {\"symbol\": \"IBM\", \"date\": \"2006-09-01T00:00:00\", \"price\": 77.26}, {\"symbol\": \"IBM\", \"date\": \"2006-10-01T00:00:00\", \"price\": 87.06}, {\"symbol\": \"IBM\", \"date\": \"2006-11-01T00:00:00\", \"price\": 86.95}, {\"symbol\": \"IBM\", \"date\": \"2006-12-01T00:00:00\", \"price\": 91.9}, {\"symbol\": \"IBM\", \"date\": \"2007-01-01T00:00:00\", \"price\": 93.79}, {\"symbol\": \"IBM\", \"date\": \"2007-02-01T00:00:00\", \"price\": 88.18}, {\"symbol\": \"IBM\", \"date\": \"2007-03-01T00:00:00\", \"price\": 89.44}, {\"symbol\": \"IBM\", \"date\": \"2007-04-01T00:00:00\", \"price\": 96.98}, {\"symbol\": \"IBM\", \"date\": \"2007-05-01T00:00:00\", \"price\": 101.54}, {\"symbol\": \"IBM\", \"date\": \"2007-06-01T00:00:00\", \"price\": 100.25}, {\"symbol\": \"IBM\", \"date\": \"2007-07-01T00:00:00\", \"price\": 105.4}, {\"symbol\": \"IBM\", \"date\": \"2007-08-01T00:00:00\", \"price\": 111.54}, {\"symbol\": \"IBM\", \"date\": \"2007-09-01T00:00:00\", \"price\": 112.6}, {\"symbol\": \"IBM\", \"date\": \"2007-10-01T00:00:00\", \"price\": 111.0}, {\"symbol\": \"IBM\", \"date\": \"2007-11-01T00:00:00\", \"price\": 100.9}, {\"symbol\": \"IBM\", \"date\": \"2007-12-01T00:00:00\", \"price\": 103.7}, {\"symbol\": \"IBM\", \"date\": \"2008-01-01T00:00:00\", \"price\": 102.75}, {\"symbol\": \"IBM\", \"date\": \"2008-02-01T00:00:00\", \"price\": 109.64}, {\"symbol\": \"IBM\", \"date\": \"2008-03-01T00:00:00\", \"price\": 110.87}, {\"symbol\": \"IBM\", \"date\": \"2008-04-01T00:00:00\", \"price\": 116.23}, {\"symbol\": \"IBM\", \"date\": \"2008-05-01T00:00:00\", \"price\": 125.14}, {\"symbol\": \"IBM\", \"date\": \"2008-06-01T00:00:00\", \"price\": 114.6}, {\"symbol\": \"IBM\", \"date\": \"2008-07-01T00:00:00\", \"price\": 123.74}, {\"symbol\": \"IBM\", \"date\": \"2008-08-01T00:00:00\", \"price\": 118.16}, {\"symbol\": \"IBM\", \"date\": \"2008-09-01T00:00:00\", \"price\": 113.53}, {\"symbol\": \"IBM\", \"date\": \"2008-10-01T00:00:00\", \"price\": 90.24}, {\"symbol\": \"IBM\", \"date\": \"2008-11-01T00:00:00\", \"price\": 79.65}, {\"symbol\": \"IBM\", \"date\": \"2008-12-01T00:00:00\", \"price\": 82.15}, {\"symbol\": \"IBM\", \"date\": \"2009-01-01T00:00:00\", \"price\": 89.46}, {\"symbol\": \"IBM\", \"date\": \"2009-02-01T00:00:00\", \"price\": 90.32}, {\"symbol\": \"IBM\", \"date\": \"2009-03-01T00:00:00\", \"price\": 95.09}, {\"symbol\": \"IBM\", \"date\": \"2009-04-01T00:00:00\", \"price\": 101.29}, {\"symbol\": \"IBM\", \"date\": \"2009-05-01T00:00:00\", \"price\": 104.85}, {\"symbol\": \"IBM\", \"date\": \"2009-06-01T00:00:00\", \"price\": 103.01}, {\"symbol\": \"IBM\", \"date\": \"2009-07-01T00:00:00\", \"price\": 116.34}, {\"symbol\": \"IBM\", \"date\": \"2009-08-01T00:00:00\", \"price\": 117.0}, {\"symbol\": \"IBM\", \"date\": \"2009-09-01T00:00:00\", \"price\": 118.55}, {\"symbol\": \"IBM\", \"date\": \"2009-10-01T00:00:00\", \"price\": 119.54}, {\"symbol\": \"IBM\", \"date\": \"2009-11-01T00:00:00\", \"price\": 125.79}, {\"symbol\": \"IBM\", \"date\": \"2009-12-01T00:00:00\", \"price\": 130.32}, {\"symbol\": \"IBM\", \"date\": \"2010-01-01T00:00:00\", \"price\": 121.85}, {\"symbol\": \"IBM\", \"date\": \"2010-02-01T00:00:00\", \"price\": 127.16}, {\"symbol\": \"IBM\", \"date\": \"2010-03-01T00:00:00\", \"price\": 125.55}, {\"symbol\": \"GOOG\", \"date\": \"2004-08-01T00:00:00\", \"price\": 102.37}, {\"symbol\": \"GOOG\", \"date\": \"2004-09-01T00:00:00\", \"price\": 129.6}, {\"symbol\": \"GOOG\", \"date\": \"2004-10-01T00:00:00\", \"price\": 190.64}, {\"symbol\": \"GOOG\", \"date\": \"2004-11-01T00:00:00\", \"price\": 181.98}, {\"symbol\": \"GOOG\", \"date\": \"2004-12-01T00:00:00\", \"price\": 192.79}, {\"symbol\": \"GOOG\", \"date\": \"2005-01-01T00:00:00\", \"price\": 195.62}, {\"symbol\": \"GOOG\", \"date\": \"2005-02-01T00:00:00\", \"price\": 187.99}, {\"symbol\": \"GOOG\", \"date\": \"2005-03-01T00:00:00\", \"price\": 180.51}, {\"symbol\": \"GOOG\", \"date\": \"2005-04-01T00:00:00\", \"price\": 220.0}, {\"symbol\": \"GOOG\", \"date\": \"2005-05-01T00:00:00\", \"price\": 277.27}, {\"symbol\": \"GOOG\", \"date\": \"2005-06-01T00:00:00\", \"price\": 294.15}, {\"symbol\": \"GOOG\", \"date\": \"2005-07-01T00:00:00\", \"price\": 287.76}, {\"symbol\": \"GOOG\", \"date\": \"2005-08-01T00:00:00\", \"price\": 286.0}, {\"symbol\": \"GOOG\", \"date\": \"2005-09-01T00:00:00\", \"price\": 316.46}, {\"symbol\": \"GOOG\", \"date\": \"2005-10-01T00:00:00\", \"price\": 372.14}, {\"symbol\": \"GOOG\", \"date\": \"2005-11-01T00:00:00\", \"price\": 404.91}, {\"symbol\": \"GOOG\", \"date\": \"2005-12-01T00:00:00\", \"price\": 414.86}, {\"symbol\": \"GOOG\", \"date\": \"2006-01-01T00:00:00\", \"price\": 432.66}, {\"symbol\": \"GOOG\", \"date\": \"2006-02-01T00:00:00\", \"price\": 362.62}, {\"symbol\": \"GOOG\", \"date\": \"2006-03-01T00:00:00\", \"price\": 390.0}, {\"symbol\": \"GOOG\", \"date\": \"2006-04-01T00:00:00\", \"price\": 417.94}, {\"symbol\": \"GOOG\", \"date\": \"2006-05-01T00:00:00\", \"price\": 371.82}, {\"symbol\": \"GOOG\", \"date\": \"2006-06-01T00:00:00\", \"price\": 419.33}, {\"symbol\": \"GOOG\", \"date\": \"2006-07-01T00:00:00\", \"price\": 386.6}, {\"symbol\": \"GOOG\", \"date\": \"2006-08-01T00:00:00\", \"price\": 378.53}, {\"symbol\": \"GOOG\", \"date\": \"2006-09-01T00:00:00\", \"price\": 401.9}, {\"symbol\": \"GOOG\", \"date\": \"2006-10-01T00:00:00\", \"price\": 476.39}, {\"symbol\": \"GOOG\", \"date\": \"2006-11-01T00:00:00\", \"price\": 484.81}, {\"symbol\": \"GOOG\", \"date\": \"2006-12-01T00:00:00\", \"price\": 460.48}, {\"symbol\": \"GOOG\", \"date\": \"2007-01-01T00:00:00\", \"price\": 501.5}, {\"symbol\": \"GOOG\", \"date\": \"2007-02-01T00:00:00\", \"price\": 449.45}, {\"symbol\": \"GOOG\", \"date\": \"2007-03-01T00:00:00\", \"price\": 458.16}, {\"symbol\": \"GOOG\", \"date\": \"2007-04-01T00:00:00\", \"price\": 471.38}, {\"symbol\": \"GOOG\", \"date\": \"2007-05-01T00:00:00\", \"price\": 497.91}, {\"symbol\": \"GOOG\", \"date\": \"2007-06-01T00:00:00\", \"price\": 522.7}, {\"symbol\": \"GOOG\", \"date\": \"2007-07-01T00:00:00\", \"price\": 510.0}, {\"symbol\": \"GOOG\", \"date\": \"2007-08-01T00:00:00\", \"price\": 515.25}, {\"symbol\": \"GOOG\", \"date\": \"2007-09-01T00:00:00\", \"price\": 567.27}, {\"symbol\": \"GOOG\", \"date\": \"2007-10-01T00:00:00\", \"price\": 707.0}, {\"symbol\": \"GOOG\", \"date\": \"2007-11-01T00:00:00\", \"price\": 693.0}, {\"symbol\": \"GOOG\", \"date\": \"2007-12-01T00:00:00\", \"price\": 691.48}, {\"symbol\": \"GOOG\", \"date\": \"2008-01-01T00:00:00\", \"price\": 564.3}, {\"symbol\": \"GOOG\", \"date\": \"2008-02-01T00:00:00\", \"price\": 471.18}, {\"symbol\": \"GOOG\", \"date\": \"2008-03-01T00:00:00\", \"price\": 440.47}, {\"symbol\": \"GOOG\", \"date\": \"2008-04-01T00:00:00\", \"price\": 574.29}, {\"symbol\": \"GOOG\", \"date\": \"2008-05-01T00:00:00\", \"price\": 585.8}, {\"symbol\": \"GOOG\", \"date\": \"2008-06-01T00:00:00\", \"price\": 526.42}, {\"symbol\": \"GOOG\", \"date\": \"2008-07-01T00:00:00\", \"price\": 473.75}, {\"symbol\": \"GOOG\", \"date\": \"2008-08-01T00:00:00\", \"price\": 463.29}, {\"symbol\": \"GOOG\", \"date\": \"2008-09-01T00:00:00\", \"price\": 400.52}, {\"symbol\": \"GOOG\", \"date\": \"2008-10-01T00:00:00\", \"price\": 359.36}, {\"symbol\": \"GOOG\", \"date\": \"2008-11-01T00:00:00\", \"price\": 292.96}, {\"symbol\": \"GOOG\", \"date\": \"2008-12-01T00:00:00\", \"price\": 307.65}, {\"symbol\": \"GOOG\", \"date\": \"2009-01-01T00:00:00\", \"price\": 338.53}, {\"symbol\": \"GOOG\", \"date\": \"2009-02-01T00:00:00\", \"price\": 337.99}, {\"symbol\": \"GOOG\", \"date\": \"2009-03-01T00:00:00\", \"price\": 348.06}, {\"symbol\": \"GOOG\", \"date\": \"2009-04-01T00:00:00\", \"price\": 395.97}, {\"symbol\": \"GOOG\", \"date\": \"2009-05-01T00:00:00\", \"price\": 417.23}, {\"symbol\": \"GOOG\", \"date\": \"2009-06-01T00:00:00\", \"price\": 421.59}, {\"symbol\": \"GOOG\", \"date\": \"2009-07-01T00:00:00\", \"price\": 443.05}, {\"symbol\": \"GOOG\", \"date\": \"2009-08-01T00:00:00\", \"price\": 461.67}, {\"symbol\": \"GOOG\", \"date\": \"2009-09-01T00:00:00\", \"price\": 495.85}, {\"symbol\": \"GOOG\", \"date\": \"2009-10-01T00:00:00\", \"price\": 536.12}, {\"symbol\": \"GOOG\", \"date\": \"2009-11-01T00:00:00\", \"price\": 583.0}, {\"symbol\": \"GOOG\", \"date\": \"2009-12-01T00:00:00\", \"price\": 619.98}, {\"symbol\": \"GOOG\", \"date\": \"2010-01-01T00:00:00\", \"price\": 529.94}, {\"symbol\": \"GOOG\", \"date\": \"2010-02-01T00:00:00\", \"price\": 526.8}, {\"symbol\": \"GOOG\", \"date\": \"2010-03-01T00:00:00\", \"price\": 560.19}, {\"symbol\": \"AAPL\", \"date\": \"2000-01-01T00:00:00\", \"price\": 25.94}, {\"symbol\": \"AAPL\", \"date\": \"2000-02-01T00:00:00\", \"price\": 28.66}, {\"symbol\": \"AAPL\", \"date\": \"2000-03-01T00:00:00\", \"price\": 33.95}, {\"symbol\": \"AAPL\", \"date\": \"2000-04-01T00:00:00\", \"price\": 31.01}, {\"symbol\": \"AAPL\", \"date\": \"2000-05-01T00:00:00\", \"price\": 21.0}, {\"symbol\": \"AAPL\", \"date\": \"2000-06-01T00:00:00\", \"price\": 26.19}, {\"symbol\": \"AAPL\", \"date\": \"2000-07-01T00:00:00\", \"price\": 25.41}, {\"symbol\": \"AAPL\", \"date\": \"2000-08-01T00:00:00\", \"price\": 30.47}, {\"symbol\": \"AAPL\", \"date\": \"2000-09-01T00:00:00\", \"price\": 12.88}, {\"symbol\": \"AAPL\", \"date\": \"2000-10-01T00:00:00\", \"price\": 9.78}, {\"symbol\": \"AAPL\", \"date\": \"2000-11-01T00:00:00\", \"price\": 8.25}, {\"symbol\": \"AAPL\", \"date\": \"2000-12-01T00:00:00\", \"price\": 7.44}, {\"symbol\": \"AAPL\", \"date\": \"2001-01-01T00:00:00\", \"price\": 10.81}, {\"symbol\": \"AAPL\", \"date\": \"2001-02-01T00:00:00\", \"price\": 9.12}, {\"symbol\": \"AAPL\", \"date\": \"2001-03-01T00:00:00\", \"price\": 11.03}, {\"symbol\": \"AAPL\", \"date\": \"2001-04-01T00:00:00\", \"price\": 12.74}, {\"symbol\": \"AAPL\", \"date\": \"2001-05-01T00:00:00\", \"price\": 9.98}, {\"symbol\": \"AAPL\", \"date\": \"2001-06-01T00:00:00\", \"price\": 11.62}, {\"symbol\": \"AAPL\", \"date\": \"2001-07-01T00:00:00\", \"price\": 9.4}, {\"symbol\": \"AAPL\", \"date\": \"2001-08-01T00:00:00\", \"price\": 9.27}, {\"symbol\": \"AAPL\", \"date\": \"2001-09-01T00:00:00\", \"price\": 7.76}, {\"symbol\": \"AAPL\", \"date\": \"2001-10-01T00:00:00\", \"price\": 8.78}, {\"symbol\": \"AAPL\", \"date\": \"2001-11-01T00:00:00\", \"price\": 10.65}, {\"symbol\": \"AAPL\", \"date\": \"2001-12-01T00:00:00\", \"price\": 10.95}, {\"symbol\": \"AAPL\", \"date\": \"2002-01-01T00:00:00\", \"price\": 12.36}, {\"symbol\": \"AAPL\", \"date\": \"2002-02-01T00:00:00\", \"price\": 10.85}, {\"symbol\": \"AAPL\", \"date\": \"2002-03-01T00:00:00\", \"price\": 11.84}, {\"symbol\": \"AAPL\", \"date\": \"2002-04-01T00:00:00\", \"price\": 12.14}, {\"symbol\": \"AAPL\", \"date\": \"2002-05-01T00:00:00\", \"price\": 11.65}, {\"symbol\": \"AAPL\", \"date\": \"2002-06-01T00:00:00\", \"price\": 8.86}, {\"symbol\": \"AAPL\", \"date\": \"2002-07-01T00:00:00\", \"price\": 7.63}, {\"symbol\": \"AAPL\", \"date\": \"2002-08-01T00:00:00\", \"price\": 7.38}, {\"symbol\": \"AAPL\", \"date\": \"2002-09-01T00:00:00\", \"price\": 7.25}, {\"symbol\": \"AAPL\", \"date\": \"2002-10-01T00:00:00\", \"price\": 8.03}, {\"symbol\": \"AAPL\", \"date\": \"2002-11-01T00:00:00\", \"price\": 7.75}, {\"symbol\": \"AAPL\", \"date\": \"2002-12-01T00:00:00\", \"price\": 7.16}, {\"symbol\": \"AAPL\", \"date\": \"2003-01-01T00:00:00\", \"price\": 7.18}, {\"symbol\": \"AAPL\", \"date\": \"2003-02-01T00:00:00\", \"price\": 7.51}, {\"symbol\": \"AAPL\", \"date\": \"2003-03-01T00:00:00\", \"price\": 7.07}, {\"symbol\": \"AAPL\", \"date\": \"2003-04-01T00:00:00\", \"price\": 7.11}, {\"symbol\": \"AAPL\", \"date\": \"2003-05-01T00:00:00\", \"price\": 8.98}, {\"symbol\": \"AAPL\", \"date\": \"2003-06-01T00:00:00\", \"price\": 9.53}, {\"symbol\": \"AAPL\", \"date\": \"2003-07-01T00:00:00\", \"price\": 10.54}, {\"symbol\": \"AAPL\", \"date\": \"2003-08-01T00:00:00\", \"price\": 11.31}, {\"symbol\": \"AAPL\", \"date\": \"2003-09-01T00:00:00\", \"price\": 10.36}, {\"symbol\": \"AAPL\", \"date\": \"2003-10-01T00:00:00\", \"price\": 11.44}, {\"symbol\": \"AAPL\", \"date\": \"2003-11-01T00:00:00\", \"price\": 10.45}, {\"symbol\": \"AAPL\", \"date\": \"2003-12-01T00:00:00\", \"price\": 10.69}, {\"symbol\": \"AAPL\", \"date\": \"2004-01-01T00:00:00\", \"price\": 11.28}, {\"symbol\": \"AAPL\", \"date\": \"2004-02-01T00:00:00\", \"price\": 11.96}, {\"symbol\": \"AAPL\", \"date\": \"2004-03-01T00:00:00\", \"price\": 13.52}, {\"symbol\": \"AAPL\", \"date\": \"2004-04-01T00:00:00\", \"price\": 12.89}, {\"symbol\": \"AAPL\", \"date\": \"2004-05-01T00:00:00\", \"price\": 14.03}, {\"symbol\": \"AAPL\", \"date\": \"2004-06-01T00:00:00\", \"price\": 16.27}, {\"symbol\": \"AAPL\", \"date\": \"2004-07-01T00:00:00\", \"price\": 16.17}, {\"symbol\": \"AAPL\", \"date\": \"2004-08-01T00:00:00\", \"price\": 17.25}, {\"symbol\": \"AAPL\", \"date\": \"2004-09-01T00:00:00\", \"price\": 19.38}, {\"symbol\": \"AAPL\", \"date\": \"2004-10-01T00:00:00\", \"price\": 26.2}, {\"symbol\": \"AAPL\", \"date\": \"2004-11-01T00:00:00\", \"price\": 33.53}, {\"symbol\": \"AAPL\", \"date\": \"2004-12-01T00:00:00\", \"price\": 32.2}, {\"symbol\": \"AAPL\", \"date\": \"2005-01-01T00:00:00\", \"price\": 38.45}, {\"symbol\": \"AAPL\", \"date\": \"2005-02-01T00:00:00\", \"price\": 44.86}, {\"symbol\": \"AAPL\", \"date\": \"2005-03-01T00:00:00\", \"price\": 41.67}, {\"symbol\": \"AAPL\", \"date\": \"2005-04-01T00:00:00\", \"price\": 36.06}, {\"symbol\": \"AAPL\", \"date\": \"2005-05-01T00:00:00\", \"price\": 39.76}, {\"symbol\": \"AAPL\", \"date\": \"2005-06-01T00:00:00\", \"price\": 36.81}, {\"symbol\": \"AAPL\", \"date\": \"2005-07-01T00:00:00\", \"price\": 42.65}, {\"symbol\": \"AAPL\", \"date\": \"2005-08-01T00:00:00\", \"price\": 46.89}, {\"symbol\": \"AAPL\", \"date\": \"2005-09-01T00:00:00\", \"price\": 53.61}, {\"symbol\": \"AAPL\", \"date\": \"2005-10-01T00:00:00\", \"price\": 57.59}, {\"symbol\": \"AAPL\", \"date\": \"2005-11-01T00:00:00\", \"price\": 67.82}, {\"symbol\": \"AAPL\", \"date\": \"2005-12-01T00:00:00\", \"price\": 71.89}, {\"symbol\": \"AAPL\", \"date\": \"2006-01-01T00:00:00\", \"price\": 75.51}, {\"symbol\": \"AAPL\", \"date\": \"2006-02-01T00:00:00\", \"price\": 68.49}, {\"symbol\": \"AAPL\", \"date\": \"2006-03-01T00:00:00\", \"price\": 62.72}, {\"symbol\": \"AAPL\", \"date\": \"2006-04-01T00:00:00\", \"price\": 70.39}, {\"symbol\": \"AAPL\", \"date\": \"2006-05-01T00:00:00\", \"price\": 59.77}, {\"symbol\": \"AAPL\", \"date\": \"2006-06-01T00:00:00\", \"price\": 57.27}, {\"symbol\": \"AAPL\", \"date\": \"2006-07-01T00:00:00\", \"price\": 67.96}, {\"symbol\": \"AAPL\", \"date\": \"2006-08-01T00:00:00\", \"price\": 67.85}, {\"symbol\": \"AAPL\", \"date\": \"2006-09-01T00:00:00\", \"price\": 76.98}, {\"symbol\": \"AAPL\", \"date\": \"2006-10-01T00:00:00\", \"price\": 81.08}, {\"symbol\": \"AAPL\", \"date\": \"2006-11-01T00:00:00\", \"price\": 91.66}, {\"symbol\": \"AAPL\", \"date\": \"2006-12-01T00:00:00\", \"price\": 84.84}, {\"symbol\": \"AAPL\", \"date\": \"2007-01-01T00:00:00\", \"price\": 85.73}, {\"symbol\": \"AAPL\", \"date\": \"2007-02-01T00:00:00\", \"price\": 84.61}, {\"symbol\": \"AAPL\", \"date\": \"2007-03-01T00:00:00\", \"price\": 92.91}, {\"symbol\": \"AAPL\", \"date\": \"2007-04-01T00:00:00\", \"price\": 99.8}, {\"symbol\": \"AAPL\", \"date\": \"2007-05-01T00:00:00\", \"price\": 121.19}, {\"symbol\": \"AAPL\", \"date\": \"2007-06-01T00:00:00\", \"price\": 122.04}, {\"symbol\": \"AAPL\", \"date\": \"2007-07-01T00:00:00\", \"price\": 131.76}, {\"symbol\": \"AAPL\", \"date\": \"2007-08-01T00:00:00\", \"price\": 138.48}, {\"symbol\": \"AAPL\", \"date\": \"2007-09-01T00:00:00\", \"price\": 153.47}, {\"symbol\": \"AAPL\", \"date\": \"2007-10-01T00:00:00\", \"price\": 189.95}, {\"symbol\": \"AAPL\", \"date\": \"2007-11-01T00:00:00\", \"price\": 182.22}, {\"symbol\": \"AAPL\", \"date\": \"2007-12-01T00:00:00\", \"price\": 198.08}, {\"symbol\": \"AAPL\", \"date\": \"2008-01-01T00:00:00\", \"price\": 135.36}, {\"symbol\": \"AAPL\", \"date\": \"2008-02-01T00:00:00\", \"price\": 125.02}, {\"symbol\": \"AAPL\", \"date\": \"2008-03-01T00:00:00\", \"price\": 143.5}, {\"symbol\": \"AAPL\", \"date\": \"2008-04-01T00:00:00\", \"price\": 173.95}, {\"symbol\": \"AAPL\", \"date\": \"2008-05-01T00:00:00\", \"price\": 188.75}, {\"symbol\": \"AAPL\", \"date\": \"2008-06-01T00:00:00\", \"price\": 167.44}, {\"symbol\": \"AAPL\", \"date\": \"2008-07-01T00:00:00\", \"price\": 158.95}, {\"symbol\": \"AAPL\", \"date\": \"2008-08-01T00:00:00\", \"price\": 169.53}, {\"symbol\": \"AAPL\", \"date\": \"2008-09-01T00:00:00\", \"price\": 113.66}, {\"symbol\": \"AAPL\", \"date\": \"2008-10-01T00:00:00\", \"price\": 107.59}, {\"symbol\": \"AAPL\", \"date\": \"2008-11-01T00:00:00\", \"price\": 92.67}, {\"symbol\": \"AAPL\", \"date\": \"2008-12-01T00:00:00\", \"price\": 85.35}, {\"symbol\": \"AAPL\", \"date\": \"2009-01-01T00:00:00\", \"price\": 90.13}, {\"symbol\": \"AAPL\", \"date\": \"2009-02-01T00:00:00\", \"price\": 89.31}, {\"symbol\": \"AAPL\", \"date\": \"2009-03-01T00:00:00\", \"price\": 105.12}, {\"symbol\": \"AAPL\", \"date\": \"2009-04-01T00:00:00\", \"price\": 125.83}, {\"symbol\": \"AAPL\", \"date\": \"2009-05-01T00:00:00\", \"price\": 135.81}, {\"symbol\": \"AAPL\", \"date\": \"2009-06-01T00:00:00\", \"price\": 142.43}, {\"symbol\": \"AAPL\", \"date\": \"2009-07-01T00:00:00\", \"price\": 163.39}, {\"symbol\": \"AAPL\", \"date\": \"2009-08-01T00:00:00\", \"price\": 168.21}, {\"symbol\": \"AAPL\", \"date\": \"2009-09-01T00:00:00\", \"price\": 185.35}, {\"symbol\": \"AAPL\", \"date\": \"2009-10-01T00:00:00\", \"price\": 188.5}, {\"symbol\": \"AAPL\", \"date\": \"2009-11-01T00:00:00\", \"price\": 199.91}, {\"symbol\": \"AAPL\", \"date\": \"2009-12-01T00:00:00\", \"price\": 210.73}, {\"symbol\": \"AAPL\", \"date\": \"2010-01-01T00:00:00\", \"price\": 192.06}, {\"symbol\": \"AAPL\", \"date\": \"2010-02-01T00:00:00\", \"price\": 204.62}, {\"symbol\": \"AAPL\", \"date\": \"2010-03-01T00:00:00\", \"price\": 223.02}]}}, {\"mode\": \"vega-lite\"});\n</script>",
                  "text/plain": "alt.Chart(...)"
                },
                "metadata": {}
              }
            ]
          }
        },
        "249a2ecad7ed40e1b18fdfe0c5a5633d": {
          "model_module": "@jupyter-widgets/base",
          "model_name": "LayoutModel",
          "model_module_version": "1.2.0",
          "state": {
            "_model_module": "@jupyter-widgets/base",
            "_model_module_version": "1.2.0",
            "_model_name": "LayoutModel",
            "_view_count": null,
            "_view_module": "@jupyter-widgets/base",
            "_view_module_version": "1.2.0",
            "_view_name": "LayoutView",
            "align_content": null,
            "align_items": null,
            "align_self": null,
            "border": null,
            "bottom": null,
            "display": null,
            "flex": null,
            "flex_flow": null,
            "grid_area": null,
            "grid_auto_columns": null,
            "grid_auto_flow": null,
            "grid_auto_rows": null,
            "grid_column": null,
            "grid_gap": null,
            "grid_row": null,
            "grid_template_areas": null,
            "grid_template_columns": null,
            "grid_template_rows": null,
            "height": null,
            "justify_content": null,
            "justify_items": null,
            "left": null,
            "margin": null,
            "max_height": null,
            "max_width": null,
            "min_height": null,
            "min_width": null,
            "object_fit": null,
            "object_position": null,
            "order": null,
            "overflow": null,
            "overflow_x": null,
            "overflow_y": null,
            "padding": null,
            "right": null,
            "top": null,
            "visibility": null,
            "width": null
          }
        },
        "6f5addc46f6d42aaab4751ba502bdffc": {
          "model_module": "@jupyter-widgets/base",
          "model_name": "LayoutModel",
          "model_module_version": "1.2.0",
          "state": {
            "_model_module": "@jupyter-widgets/base",
            "_model_module_version": "1.2.0",
            "_model_name": "LayoutModel",
            "_view_count": null,
            "_view_module": "@jupyter-widgets/base",
            "_view_module_version": "1.2.0",
            "_view_name": "LayoutView",
            "align_content": null,
            "align_items": null,
            "align_self": null,
            "border": null,
            "bottom": null,
            "display": null,
            "flex": null,
            "flex_flow": null,
            "grid_area": null,
            "grid_auto_columns": null,
            "grid_auto_flow": null,
            "grid_auto_rows": null,
            "grid_column": null,
            "grid_gap": null,
            "grid_row": null,
            "grid_template_areas": null,
            "grid_template_columns": null,
            "grid_template_rows": null,
            "height": null,
            "justify_content": null,
            "justify_items": null,
            "left": null,
            "margin": null,
            "max_height": null,
            "max_width": null,
            "min_height": null,
            "min_width": null,
            "object_fit": null,
            "object_position": null,
            "order": null,
            "overflow": null,
            "overflow_x": null,
            "overflow_y": null,
            "padding": null,
            "right": null,
            "top": null,
            "visibility": null,
            "width": null
          }
        },
        "3f55a0ebeeb342b8a55f367552b56284": {
          "model_module": "@jupyter-widgets/controls",
          "model_name": "DescriptionStyleModel",
          "model_module_version": "1.5.0",
          "state": {
            "_model_module": "@jupyter-widgets/controls",
            "_model_module_version": "1.5.0",
            "_model_name": "DescriptionStyleModel",
            "_view_count": null,
            "_view_module": "@jupyter-widgets/base",
            "_view_module_version": "1.2.0",
            "_view_name": "StyleView",
            "description_width": ""
          }
        },
        "0212ff85da4a44498b674bd2220d8e04": {
          "model_module": "@jupyter-widgets/base",
          "model_name": "LayoutModel",
          "model_module_version": "1.2.0",
          "state": {
            "_model_module": "@jupyter-widgets/base",
            "_model_module_version": "1.2.0",
            "_model_name": "LayoutModel",
            "_view_count": null,
            "_view_module": "@jupyter-widgets/base",
            "_view_module_version": "1.2.0",
            "_view_name": "LayoutView",
            "align_content": null,
            "align_items": null,
            "align_self": null,
            "border": null,
            "bottom": null,
            "display": null,
            "flex": null,
            "flex_flow": null,
            "grid_area": null,
            "grid_auto_columns": null,
            "grid_auto_flow": null,
            "grid_auto_rows": null,
            "grid_column": null,
            "grid_gap": null,
            "grid_row": null,
            "grid_template_areas": null,
            "grid_template_columns": null,
            "grid_template_rows": null,
            "height": null,
            "justify_content": null,
            "justify_items": null,
            "left": null,
            "margin": null,
            "max_height": null,
            "max_width": null,
            "min_height": null,
            "min_width": null,
            "object_fit": null,
            "object_position": null,
            "order": null,
            "overflow": null,
            "overflow_x": null,
            "overflow_y": null,
            "padding": null,
            "right": null,
            "top": null,
            "visibility": null,
            "width": null
          }
        },
        "77de8a02d9b2449b8fd1455ca228f80e": {
          "model_module": "@jupyter-widgets/controls",
          "model_name": "IntSliderModel",
          "model_module_version": "1.5.0",
          "state": {
            "_dom_classes": [],
            "_model_module": "@jupyter-widgets/controls",
            "_model_module_version": "1.5.0",
            "_model_name": "IntSliderModel",
            "_view_count": null,
            "_view_module": "@jupyter-widgets/controls",
            "_view_module_version": "1.5.0",
            "_view_name": "IntSliderView",
            "continuous_update": true,
            "description": "",
            "description_tooltip": null,
            "disabled": false,
            "layout": "IPY_MODEL_26b5d429ee2a4bcf84c2a9cfa77e0da3",
            "max": 100,
            "min": 0,
            "orientation": "horizontal",
            "readout": true,
            "readout_format": "d",
            "step": 1,
            "style": "IPY_MODEL_f5595538d814444987611fbe88d03457",
            "value": 67
          }
        },
        "26b5d429ee2a4bcf84c2a9cfa77e0da3": {
          "model_module": "@jupyter-widgets/base",
          "model_name": "LayoutModel",
          "model_module_version": "1.2.0",
          "state": {
            "_model_module": "@jupyter-widgets/base",
            "_model_module_version": "1.2.0",
            "_model_name": "LayoutModel",
            "_view_count": null,
            "_view_module": "@jupyter-widgets/base",
            "_view_module_version": "1.2.0",
            "_view_name": "LayoutView",
            "align_content": null,
            "align_items": null,
            "align_self": null,
            "border": null,
            "bottom": null,
            "display": null,
            "flex": null,
            "flex_flow": null,
            "grid_area": null,
            "grid_auto_columns": null,
            "grid_auto_flow": null,
            "grid_auto_rows": null,
            "grid_column": null,
            "grid_gap": null,
            "grid_row": null,
            "grid_template_areas": null,
            "grid_template_columns": null,
            "grid_template_rows": null,
            "height": null,
            "justify_content": null,
            "justify_items": null,
            "left": null,
            "margin": null,
            "max_height": null,
            "max_width": null,
            "min_height": null,
            "min_width": null,
            "object_fit": null,
            "object_position": null,
            "order": null,
            "overflow": null,
            "overflow_x": null,
            "overflow_y": null,
            "padding": null,
            "right": null,
            "top": null,
            "visibility": null,
            "width": null
          }
        },
        "f5595538d814444987611fbe88d03457": {
          "model_module": "@jupyter-widgets/controls",
          "model_name": "SliderStyleModel",
          "model_module_version": "1.5.0",
          "state": {
            "_model_module": "@jupyter-widgets/controls",
            "_model_module_version": "1.5.0",
            "_model_name": "SliderStyleModel",
            "_view_count": null,
            "_view_module": "@jupyter-widgets/base",
            "_view_module_version": "1.2.0",
            "_view_name": "StyleView",
            "description_width": "",
            "handle_color": null
          }
        }
      }
    }
  },
  "nbformat": 4,
  "nbformat_minor": 0
}