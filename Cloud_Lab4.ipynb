{
  "nbformat": 4,
  "nbformat_minor": 0,
  "metadata": {
    "colab": {
      "provenance": []
    },
    "kernelspec": {
      "name": "python3",
      "display_name": "Python 3"
    },
    "language_info": {
      "name": "python"
    },
    "widgets": {
      "application/vnd.jupyter.widget-state+json": {
        "e82a6f1ef5884f18857ff6bf8d9f32fb": {
          "model_module": "@jupyter-widgets/controls",
          "model_name": "TabModel",
          "model_module_version": "1.5.0",
          "state": {
            "_dom_classes": [],
            "_model_module": "@jupyter-widgets/controls",
            "_model_module_version": "1.5.0",
            "_model_name": "TabModel",
            "_titles": {
              "0": "Tab 1: Data Overview",
              "1": "Tab 2: Raw Data",
              "2": "Tab 3: Year Count"
            },
            "_view_count": null,
            "_view_module": "@jupyter-widgets/controls",
            "_view_module_version": "1.5.0",
            "_view_name": "TabView",
            "box_style": "",
            "children": [
              "IPY_MODEL_693d329db7254ea5b21523d9c070f935",
              "IPY_MODEL_d21d582c197040e4ad0b237b1bcd247c",
              "IPY_MODEL_20c98fb049bc49d289f9de6ba4827442"
            ],
            "layout": "IPY_MODEL_a6cc3169158f47d5aedea5bf3de84c89",
            "selected_index": 2
          }
        },
        "693d329db7254ea5b21523d9c070f935": {
          "model_module": "@jupyter-widgets/output",
          "model_name": "OutputModel",
          "model_module_version": "1.0.0",
          "state": {
            "_dom_classes": [],
            "_model_module": "@jupyter-widgets/output",
            "_model_module_version": "1.0.0",
            "_model_name": "OutputModel",
            "_view_count": null,
            "_view_module": "@jupyter-widgets/output",
            "_view_module_version": "1.0.0",
            "_view_name": "OutputView",
            "layout": "IPY_MODEL_ca9cf3fa13544609b5a0404ab7df37ff",
            "msg_id": "",
            "outputs": [
              {
                "output_type": "stream",
                "name": "stdout",
                "text": [
                  "Data Overview:\n"
                ]
              },
              {
                "output_type": "display_data",
                "data": {
                  "text/plain": "                _id  mispar_rechev    tozeret_cd      degem_cd  \\\ncount  32000.000000   3.200000e+04  32000.000000  32000.000000   \nmean   16000.500000   1.314576e+07    596.867031    475.701875   \nstd     9237.748643   1.856323e+07    259.427908    597.210795   \nmin        1.000000   1.000263e+06     19.000000      1.000000   \n25%     8000.750000   4.183946e+06    413.000000     75.000000   \n50%    16000.500000   6.806477e+06    588.000000    292.000000   \n75%    24000.250000   9.111006e+06    731.000000    651.000000   \nmax    32000.000000   9.255030e+07   1629.000000   8710.000000   \n\n       ramat_eivzur_betihuty  kvutzat_zihum  shnat_yitzur      tzeva_cd  \\\ncount            6090.000000   22692.000000  32000.000000  32000.000000   \nmean                3.929228      13.462322   2011.471937     43.422625   \nstd                 2.210714       3.562736      6.755698     27.556634   \nmin                 1.000000       1.000000   1996.000000      0.000000   \n25%                 2.000000      15.000000   2008.000000     25.000000   \n50%                 4.000000      15.000000   2009.000000     29.000000   \n75%                 6.000000      15.000000   2012.000000     80.000000   \nmax                 8.000000      15.000000   2025.000000     99.000000   \n\n       horaat_rishum  \ncount    7775.000000  \nmean   211421.831768  \nstd     39850.910749  \nmin     11095.000000  \n25%    200330.000000  \n50%    220223.000000  \n75%    240215.500000  \nmax    999998.000000  ",
                  "text/html": "\n  <div id=\"df-c463d03d-1e89-4d70-87ad-771eb4a1bfd2\" class=\"colab-df-container\">\n    <div>\n<style scoped>\n    .dataframe tbody tr th:only-of-type {\n        vertical-align: middle;\n    }\n\n    .dataframe tbody tr th {\n        vertical-align: top;\n    }\n\n    .dataframe thead th {\n        text-align: right;\n    }\n</style>\n<table border=\"1\" class=\"dataframe\">\n  <thead>\n    <tr style=\"text-align: right;\">\n      <th></th>\n      <th>_id</th>\n      <th>mispar_rechev</th>\n      <th>tozeret_cd</th>\n      <th>degem_cd</th>\n      <th>ramat_eivzur_betihuty</th>\n      <th>kvutzat_zihum</th>\n      <th>shnat_yitzur</th>\n      <th>tzeva_cd</th>\n      <th>horaat_rishum</th>\n    </tr>\n  </thead>\n  <tbody>\n    <tr>\n      <th>count</th>\n      <td>32000.000000</td>\n      <td>3.200000e+04</td>\n      <td>32000.000000</td>\n      <td>32000.000000</td>\n      <td>6090.000000</td>\n      <td>22692.000000</td>\n      <td>32000.000000</td>\n      <td>32000.000000</td>\n      <td>7775.000000</td>\n    </tr>\n    <tr>\n      <th>mean</th>\n      <td>16000.500000</td>\n      <td>1.314576e+07</td>\n      <td>596.867031</td>\n      <td>475.701875</td>\n      <td>3.929228</td>\n      <td>13.462322</td>\n      <td>2011.471937</td>\n      <td>43.422625</td>\n      <td>211421.831768</td>\n    </tr>\n    <tr>\n      <th>std</th>\n      <td>9237.748643</td>\n      <td>1.856323e+07</td>\n      <td>259.427908</td>\n      <td>597.210795</td>\n      <td>2.210714</td>\n      <td>3.562736</td>\n      <td>6.755698</td>\n      <td>27.556634</td>\n      <td>39850.910749</td>\n    </tr>\n    <tr>\n      <th>min</th>\n      <td>1.000000</td>\n      <td>1.000263e+06</td>\n      <td>19.000000</td>\n      <td>1.000000</td>\n      <td>1.000000</td>\n      <td>1.000000</td>\n      <td>1996.000000</td>\n      <td>0.000000</td>\n      <td>11095.000000</td>\n    </tr>\n    <tr>\n      <th>25%</th>\n      <td>8000.750000</td>\n      <td>4.183946e+06</td>\n      <td>413.000000</td>\n      <td>75.000000</td>\n      <td>2.000000</td>\n      <td>15.000000</td>\n      <td>2008.000000</td>\n      <td>25.000000</td>\n      <td>200330.000000</td>\n    </tr>\n    <tr>\n      <th>50%</th>\n      <td>16000.500000</td>\n      <td>6.806477e+06</td>\n      <td>588.000000</td>\n      <td>292.000000</td>\n      <td>4.000000</td>\n      <td>15.000000</td>\n      <td>2009.000000</td>\n      <td>29.000000</td>\n      <td>220223.000000</td>\n    </tr>\n    <tr>\n      <th>75%</th>\n      <td>24000.250000</td>\n      <td>9.111006e+06</td>\n      <td>731.000000</td>\n      <td>651.000000</td>\n      <td>6.000000</td>\n      <td>15.000000</td>\n      <td>2012.000000</td>\n      <td>80.000000</td>\n      <td>240215.500000</td>\n    </tr>\n    <tr>\n      <th>max</th>\n      <td>32000.000000</td>\n      <td>9.255030e+07</td>\n      <td>1629.000000</td>\n      <td>8710.000000</td>\n      <td>8.000000</td>\n      <td>15.000000</td>\n      <td>2025.000000</td>\n      <td>99.000000</td>\n      <td>999998.000000</td>\n    </tr>\n  </tbody>\n</table>\n</div>\n    <div class=\"colab-df-buttons\">\n\n  <div class=\"colab-df-container\">\n    <button class=\"colab-df-convert\" onclick=\"convertToInteractive('df-c463d03d-1e89-4d70-87ad-771eb4a1bfd2')\"\n            title=\"Convert this dataframe to an interactive table.\"\n            style=\"display:none;\">\n\n  <svg xmlns=\"http://www.w3.org/2000/svg\" height=\"24px\" viewBox=\"0 -960 960 960\">\n    <path d=\"M120-120v-720h720v720H120Zm60-500h600v-160H180v160Zm220 220h160v-160H400v160Zm0 220h160v-160H400v160ZM180-400h160v-160H180v160Zm440 0h160v-160H620v160ZM180-180h160v-160H180v160Zm440 0h160v-160H620v160Z\"/>\n  </svg>\n    </button>\n\n  <style>\n    .colab-df-container {\n      display:flex;\n      gap: 12px;\n    }\n\n    .colab-df-convert {\n      background-color: #E8F0FE;\n      border: none;\n      border-radius: 50%;\n      cursor: pointer;\n      display: none;\n      fill: #1967D2;\n      height: 32px;\n      padding: 0 0 0 0;\n      width: 32px;\n    }\n\n    .colab-df-convert:hover {\n      background-color: #E2EBFA;\n      box-shadow: 0px 1px 2px rgba(60, 64, 67, 0.3), 0px 1px 3px 1px rgba(60, 64, 67, 0.15);\n      fill: #174EA6;\n    }\n\n    .colab-df-buttons div {\n      margin-bottom: 4px;\n    }\n\n    [theme=dark] .colab-df-convert {\n      background-color: #3B4455;\n      fill: #D2E3FC;\n    }\n\n    [theme=dark] .colab-df-convert:hover {\n      background-color: #434B5C;\n      box-shadow: 0px 1px 3px 1px rgba(0, 0, 0, 0.15);\n      filter: drop-shadow(0px 1px 2px rgba(0, 0, 0, 0.3));\n      fill: #FFFFFF;\n    }\n  </style>\n\n    <script>\n      const buttonEl =\n        document.querySelector('#df-c463d03d-1e89-4d70-87ad-771eb4a1bfd2 button.colab-df-convert');\n      buttonEl.style.display =\n        google.colab.kernel.accessAllowed ? 'block' : 'none';\n\n      async function convertToInteractive(key) {\n        const element = document.querySelector('#df-c463d03d-1e89-4d70-87ad-771eb4a1bfd2');\n        const dataTable =\n          await google.colab.kernel.invokeFunction('convertToInteractive',\n                                                    [key], {});\n        if (!dataTable) return;\n\n        const docLinkHtml = 'Like what you see? Visit the ' +\n          '<a target=\"_blank\" href=https://colab.research.google.com/notebooks/data_table.ipynb>data table notebook</a>'\n          + ' to learn more about interactive tables.';\n        element.innerHTML = '';\n        dataTable['output_type'] = 'display_data';\n        await google.colab.output.renderOutput(dataTable, element);\n        const docLink = document.createElement('div');\n        docLink.innerHTML = docLinkHtml;\n        element.appendChild(docLink);\n      }\n    </script>\n  </div>\n\n\n<div id=\"df-08c011bf-49d3-46a9-9010-6d5877ccc844\">\n  <button class=\"colab-df-quickchart\" onclick=\"quickchart('df-08c011bf-49d3-46a9-9010-6d5877ccc844')\"\n            title=\"Suggest charts\"\n            style=\"display:none;\">\n\n<svg xmlns=\"http://www.w3.org/2000/svg\" height=\"24px\"viewBox=\"0 0 24 24\"\n     width=\"24px\">\n    <g>\n        <path d=\"M19 3H5c-1.1 0-2 .9-2 2v14c0 1.1.9 2 2 2h14c1.1 0 2-.9 2-2V5c0-1.1-.9-2-2-2zM9 17H7v-7h2v7zm4 0h-2V7h2v10zm4 0h-2v-4h2v4z\"/>\n    </g>\n</svg>\n  </button>\n\n<style>\n  .colab-df-quickchart {\n      --bg-color: #E8F0FE;\n      --fill-color: #1967D2;\n      --hover-bg-color: #E2EBFA;\n      --hover-fill-color: #174EA6;\n      --disabled-fill-color: #AAA;\n      --disabled-bg-color: #DDD;\n  }\n\n  [theme=dark] .colab-df-quickchart {\n      --bg-color: #3B4455;\n      --fill-color: #D2E3FC;\n      --hover-bg-color: #434B5C;\n      --hover-fill-color: #FFFFFF;\n      --disabled-bg-color: #3B4455;\n      --disabled-fill-color: #666;\n  }\n\n  .colab-df-quickchart {\n    background-color: var(--bg-color);\n    border: none;\n    border-radius: 50%;\n    cursor: pointer;\n    display: none;\n    fill: var(--fill-color);\n    height: 32px;\n    padding: 0;\n    width: 32px;\n  }\n\n  .colab-df-quickchart:hover {\n    background-color: var(--hover-bg-color);\n    box-shadow: 0 1px 2px rgba(60, 64, 67, 0.3), 0 1px 3px 1px rgba(60, 64, 67, 0.15);\n    fill: var(--button-hover-fill-color);\n  }\n\n  .colab-df-quickchart-complete:disabled,\n  .colab-df-quickchart-complete:disabled:hover {\n    background-color: var(--disabled-bg-color);\n    fill: var(--disabled-fill-color);\n    box-shadow: none;\n  }\n\n  .colab-df-spinner {\n    border: 2px solid var(--fill-color);\n    border-color: transparent;\n    border-bottom-color: var(--fill-color);\n    animation:\n      spin 1s steps(1) infinite;\n  }\n\n  @keyframes spin {\n    0% {\n      border-color: transparent;\n      border-bottom-color: var(--fill-color);\n      border-left-color: var(--fill-color);\n    }\n    20% {\n      border-color: transparent;\n      border-left-color: var(--fill-color);\n      border-top-color: var(--fill-color);\n    }\n    30% {\n      border-color: transparent;\n      border-left-color: var(--fill-color);\n      border-top-color: var(--fill-color);\n      border-right-color: var(--fill-color);\n    }\n    40% {\n      border-color: transparent;\n      border-right-color: var(--fill-color);\n      border-top-color: var(--fill-color);\n    }\n    60% {\n      border-color: transparent;\n      border-right-color: var(--fill-color);\n    }\n    80% {\n      border-color: transparent;\n      border-right-color: var(--fill-color);\n      border-bottom-color: var(--fill-color);\n    }\n    90% {\n      border-color: transparent;\n      border-bottom-color: var(--fill-color);\n    }\n  }\n</style>\n\n  <script>\n    async function quickchart(key) {\n      const quickchartButtonEl =\n        document.querySelector('#' + key + ' button');\n      quickchartButtonEl.disabled = true;  // To prevent multiple clicks.\n      quickchartButtonEl.classList.add('colab-df-spinner');\n      try {\n        const charts = await google.colab.kernel.invokeFunction(\n            'suggestCharts', [key], {});\n      } catch (error) {\n        console.error('Error during call to suggestCharts:', error);\n      }\n      quickchartButtonEl.classList.remove('colab-df-spinner');\n      quickchartButtonEl.classList.add('colab-df-quickchart-complete');\n    }\n    (() => {\n      let quickchartButtonEl =\n        document.querySelector('#df-08c011bf-49d3-46a9-9010-6d5877ccc844 button');\n      quickchartButtonEl.style.display =\n        google.colab.kernel.accessAllowed ? 'block' : 'none';\n    })();\n  </script>\n</div>\n\n    </div>\n  </div>\n",
                  "application/vnd.google.colaboratory.intrinsic+json": {
                    "type": "dataframe",
                    "summary": "{\n  \"name\": \"display(tabs)\",\n  \"rows\": 8,\n  \"fields\": [\n    {\n      \"column\": \"_id\",\n      \"properties\": {\n        \"dtype\": \"number\",\n        \"std\": 11532.650024401897,\n        \"min\": 1.0,\n        \"max\": 32000.0,\n        \"num_unique_values\": 6,\n        \"samples\": [\n          32000.0,\n          16000.5,\n          24000.25\n        ],\n        \"semantic_type\": \"\",\n        \"description\": \"\"\n      }\n    },\n    {\n      \"column\": \"mispar_rechev\",\n      \"properties\": {\n        \"dtype\": \"number\",\n        \"std\": 30679025.653498575,\n        \"min\": 32000.0,\n        \"max\": 92550301.0,\n        \"num_unique_values\": 8,\n        \"samples\": [\n          13145761.71009375,\n          6806477.0,\n          32000.0\n        ],\n        \"semantic_type\": \"\",\n        \"description\": \"\"\n      }\n    },\n    {\n      \"column\": \"tozeret_cd\",\n      \"properties\": {\n        \"dtype\": \"number\",\n        \"std\": 11109.806448249426,\n        \"min\": 19.0,\n        \"max\": 32000.0,\n        \"num_unique_values\": 8,\n        \"samples\": [\n          596.86703125,\n          588.0,\n          32000.0\n        ],\n        \"semantic_type\": \"\",\n        \"description\": \"\"\n      }\n    },\n    {\n      \"column\": \"degem_cd\",\n      \"properties\": {\n        \"dtype\": \"number\",\n        \"std\": 11160.909320227707,\n        \"min\": 1.0,\n        \"max\": 32000.0,\n        \"num_unique_values\": 8,\n        \"samples\": [\n          475.701875,\n          292.0,\n          32000.0\n        ],\n        \"semantic_type\": \"\",\n        \"description\": \"\"\n      }\n    },\n    {\n      \"column\": \"ramat_eivzur_betihuty\",\n      \"properties\": {\n        \"dtype\": \"number\",\n        \"std\": 2151.7705730182875,\n        \"min\": 1.0,\n        \"max\": 6090.0,\n        \"num_unique_values\": 8,\n        \"samples\": [\n          3.9292282430213463,\n          4.0,\n          6090.0\n        ],\n        \"semantic_type\": \"\",\n        \"description\": \"\"\n      }\n    },\n    {\n      \"column\": \"kvutzat_zihum\",\n      \"properties\": {\n        \"dtype\": \"number\",\n        \"std\": 8018.894685051581,\n        \"min\": 1.0,\n        \"max\": 22692.0,\n        \"num_unique_values\": 5,\n        \"samples\": [\n          13.462321523003702,\n          15.0,\n          3.5627355639836513\n        ],\n        \"semantic_type\": \"\",\n        \"description\": \"\"\n      }\n    },\n    {\n      \"column\": \"shnat_yitzur\",\n      \"properties\": {\n        \"dtype\": \"number\",\n        \"std\": 10727.107912277172,\n        \"min\": 6.7556976863199685,\n        \"max\": 32000.0,\n        \"num_unique_values\": 8,\n        \"samples\": [\n          2011.4719375,\n          2009.0,\n          32000.0\n        ],\n        \"semantic_type\": \"\",\n        \"description\": \"\"\n      }\n    },\n    {\n      \"column\": \"tzeva_cd\",\n      \"properties\": {\n        \"dtype\": \"number\",\n        \"std\": 11298.400186371759,\n        \"min\": 0.0,\n        \"max\": 32000.0,\n        \"num_unique_values\": 8,\n        \"samples\": [\n          43.422625,\n          29.0,\n          32000.0\n        ],\n        \"semantic_type\": \"\",\n        \"description\": \"\"\n      }\n    },\n    {\n      \"column\": \"horaat_rishum\",\n      \"properties\": {\n        \"dtype\": \"number\",\n        \"std\": 322213.16987896117,\n        \"min\": 7775.0,\n        \"max\": 999998.0,\n        \"num_unique_values\": 8,\n        \"samples\": [\n          211421.83176848874,\n          220223.0,\n          7775.0\n        ],\n        \"semantic_type\": \"\",\n        \"description\": \"\"\n      }\n    }\n  ]\n}"
                  }
                },
                "metadata": {}
              }
            ]
          }
        },
        "d21d582c197040e4ad0b237b1bcd247c": {
          "model_module": "@jupyter-widgets/output",
          "model_name": "OutputModel",
          "model_module_version": "1.0.0",
          "state": {
            "_dom_classes": [],
            "_model_module": "@jupyter-widgets/output",
            "_model_module_version": "1.0.0",
            "_model_name": "OutputModel",
            "_view_count": null,
            "_view_module": "@jupyter-widgets/output",
            "_view_module_version": "1.0.0",
            "_view_name": "OutputView",
            "layout": "IPY_MODEL_f07cb6ee819d4f3489d2964669273256",
            "msg_id": "",
            "outputs": [
              {
                "output_type": "stream",
                "name": "stdout",
                "text": [
                  "Raw Data:\n"
                ]
              },
              {
                "output_type": "display_data",
                "data": {
                  "text/plain": "         _id  mispar_rechev  tozeret_cd sug_degem     tozeret_nm  degem_cd  \\\n0          1        2759880         676         P    סקודה צ'כיה       548   \n1          2       66226201         676         P    סקודה צ'כיה       908   \n2          3        2489538         676         P    סקודה צ'כיה       516   \n3          4       50272902         885         P     קיה קוריאה       514   \n4          5       50685801         845         P  יונדאי טורקיה        56   \n...      ...            ...         ...       ...            ...       ...   \n31995  31996        4971475         730         P    פורד גרמניה         6   \n31996  31997        6443770         312         P      הונדה-יפן       871   \n31997  31998        1979764         588         P       מזדה יפן       282   \n31998  31999        6230316         143         P  ב מ וו גרמניה      1061   \n31999  32000        7161558         650         P     סובארו יפן       181   \n\n      degem_nm ramat_gimur  ramat_eivzur_betihuty  kvutzat_zihum  \\\n0       NH33RD    AMBITION                    NaN           14.0   \n1       5E33ND    AMBITION                    NaN           14.0   \n2       5E33FD    AMBITION                    NaN           14.0   \n3       CB81CG       URBAN                    2.0            4.0   \n4        A751C       PRIME                    NaN           14.0   \n...        ...         ...                    ...            ...   \n31995      DYB       TREND                    NaN           15.0   \n31996     ZE28    ELEGANCE                    NaN            7.0   \n31997    CR19F           S                    NaN            NaN   \n31998     NU91                                NaN           15.0   \n31999  GD9EL5R          GX                    NaN            NaN   \n\n       shnat_yitzur degem_manoa mivchan_acharon_dt    tokef_dt baalut  \\\n0              2017         CZC         2024-05-28  2025-02-18   פרטי   \n1              2019         DAD         2024-03-03  2025-02-18   פרטי   \n2              2016         CYV         2024-02-25  2025-02-24   פרטי   \n3              2021        G4LE         2025-04-12  2026-04-17   פרטי   \n4              2018        G4LA         2025-04-11  2026-04-14   פרטי   \n...             ...         ...                ...         ...    ...   \n31995          2012        PNDA         2025-03-14  2026-03-20   פרטי   \n31996          2010        LDA3         2024-08-11  2025-07-04   פרטי   \n31997          2008          LF         2024-12-08  2025-10-08   פרטי   \n31998          2010    N52B30AF         2024-01-11  2025-01-04   פרטי   \n31999          2006       EJ 20         2023-08-26  2024-06-21   פרטי   \n\n                  misgeret  tzeva_cd   tzeva_rechev  zmig_kidmi  zmig_ahori  \\\n0        TMBAT6NH8G4029567        29       כסף מטלי  185/60 R15  185/60 R15   \n1        TMBAR7NE7K0127449        29       כסף מטלי  R16 205/55  R16 205/55   \n2        TMBAB7NE2G0167997        29       כסף מטלי  205/55 R16  205/55 R16   \n3        KNACB81CGM5444575        50           אדום   205/60R16   205/60R16   \n4        NLHA751CBJZ429963        80       שנהב לבן   175/65R14   175/65R14   \n...                    ...       ...            ...         ...         ...   \n31995    WF0MXXGCBMBM09560        80       שנהב לבן   205/55R16   205/55R16   \n31996    JHMZE2870AS216412        11      שחור מטלי   185/55R16   185/55R16   \n31997   JMZCR19F5-80217656        26         פלטינה   205/55R16   205/55R16   \n31998  WBANU9107A  CT29434         6  אפור כהה מטלי   225/50R17   225/50R17   \n31999    JF1GD9LR56G451487        32      כחול בהיר  215/45/R17   215/45R17   \n\n      sug_delek_nm  horaat_rishum moed_aliya_lakvish   kinuy_mishari  \n0            בנזין       160117.0             2017-2           RAPID  \n1            בנזין       180301.0             2019-2         OCTAVIA  \n2            בנזין       160116.0             2016-2         OCTAVIA  \n3            בנזין       200153.0             2021-4            NIRO  \n4            בנזין       170001.0             2018-4             I10  \n...            ...            ...                ...             ...  \n31995        בנזין            NaN             2012-3           FOCUS  \n31996        בנזין            NaN             2010-7  INSIGHT HYBRID  \n31997        בנזין            NaN               None         MAZDA 5  \n31998        בנזין            NaN             2010-1            530I  \n31999        בנזין            NaN               None         IMPREZA  \n\n[32000 rows x 24 columns]",
                  "text/html": "\n  <div id=\"df-f7317497-9c2e-4ac3-9996-8bedd3661eda\" class=\"colab-df-container\">\n    <div>\n<style scoped>\n    .dataframe tbody tr th:only-of-type {\n        vertical-align: middle;\n    }\n\n    .dataframe tbody tr th {\n        vertical-align: top;\n    }\n\n    .dataframe thead th {\n        text-align: right;\n    }\n</style>\n<table border=\"1\" class=\"dataframe\">\n  <thead>\n    <tr style=\"text-align: right;\">\n      <th></th>\n      <th>_id</th>\n      <th>mispar_rechev</th>\n      <th>tozeret_cd</th>\n      <th>sug_degem</th>\n      <th>tozeret_nm</th>\n      <th>degem_cd</th>\n      <th>degem_nm</th>\n      <th>ramat_gimur</th>\n      <th>ramat_eivzur_betihuty</th>\n      <th>kvutzat_zihum</th>\n      <th>shnat_yitzur</th>\n      <th>degem_manoa</th>\n      <th>mivchan_acharon_dt</th>\n      <th>tokef_dt</th>\n      <th>baalut</th>\n      <th>misgeret</th>\n      <th>tzeva_cd</th>\n      <th>tzeva_rechev</th>\n      <th>zmig_kidmi</th>\n      <th>zmig_ahori</th>\n      <th>sug_delek_nm</th>\n      <th>horaat_rishum</th>\n      <th>moed_aliya_lakvish</th>\n      <th>kinuy_mishari</th>\n    </tr>\n  </thead>\n  <tbody>\n    <tr>\n      <th>0</th>\n      <td>1</td>\n      <td>2759880</td>\n      <td>676</td>\n      <td>P</td>\n      <td>סקודה צ'כיה</td>\n      <td>548</td>\n      <td>NH33RD</td>\n      <td>AMBITION</td>\n      <td>NaN</td>\n      <td>14.0</td>\n      <td>2017</td>\n      <td>CZC</td>\n      <td>2024-05-28</td>\n      <td>2025-02-18</td>\n      <td>פרטי</td>\n      <td>TMBAT6NH8G4029567</td>\n      <td>29</td>\n      <td>כסף מטלי</td>\n      <td>185/60 R15</td>\n      <td>185/60 R15</td>\n      <td>בנזין</td>\n      <td>160117.0</td>\n      <td>2017-2</td>\n      <td>RAPID</td>\n    </tr>\n    <tr>\n      <th>1</th>\n      <td>2</td>\n      <td>66226201</td>\n      <td>676</td>\n      <td>P</td>\n      <td>סקודה צ'כיה</td>\n      <td>908</td>\n      <td>5E33ND</td>\n      <td>AMBITION</td>\n      <td>NaN</td>\n      <td>14.0</td>\n      <td>2019</td>\n      <td>DAD</td>\n      <td>2024-03-03</td>\n      <td>2025-02-18</td>\n      <td>פרטי</td>\n      <td>TMBAR7NE7K0127449</td>\n      <td>29</td>\n      <td>כסף מטלי</td>\n      <td>R16 205/55</td>\n      <td>R16 205/55</td>\n      <td>בנזין</td>\n      <td>180301.0</td>\n      <td>2019-2</td>\n      <td>OCTAVIA</td>\n    </tr>\n    <tr>\n      <th>2</th>\n      <td>3</td>\n      <td>2489538</td>\n      <td>676</td>\n      <td>P</td>\n      <td>סקודה צ'כיה</td>\n      <td>516</td>\n      <td>5E33FD</td>\n      <td>AMBITION</td>\n      <td>NaN</td>\n      <td>14.0</td>\n      <td>2016</td>\n      <td>CYV</td>\n      <td>2024-02-25</td>\n      <td>2025-02-24</td>\n      <td>פרטי</td>\n      <td>TMBAB7NE2G0167997</td>\n      <td>29</td>\n      <td>כסף מטלי</td>\n      <td>205/55 R16</td>\n      <td>205/55 R16</td>\n      <td>בנזין</td>\n      <td>160116.0</td>\n      <td>2016-2</td>\n      <td>OCTAVIA</td>\n    </tr>\n    <tr>\n      <th>3</th>\n      <td>4</td>\n      <td>50272902</td>\n      <td>885</td>\n      <td>P</td>\n      <td>קיה קוריאה</td>\n      <td>514</td>\n      <td>CB81CG</td>\n      <td>URBAN</td>\n      <td>2.0</td>\n      <td>4.0</td>\n      <td>2021</td>\n      <td>G4LE</td>\n      <td>2025-04-12</td>\n      <td>2026-04-17</td>\n      <td>פרטי</td>\n      <td>KNACB81CGM5444575</td>\n      <td>50</td>\n      <td>אדום</td>\n      <td>205/60R16</td>\n      <td>205/60R16</td>\n      <td>בנזין</td>\n      <td>200153.0</td>\n      <td>2021-4</td>\n      <td>NIRO</td>\n    </tr>\n    <tr>\n      <th>4</th>\n      <td>5</td>\n      <td>50685801</td>\n      <td>845</td>\n      <td>P</td>\n      <td>יונדאי טורקיה</td>\n      <td>56</td>\n      <td>A751C</td>\n      <td>PRIME</td>\n      <td>NaN</td>\n      <td>14.0</td>\n      <td>2018</td>\n      <td>G4LA</td>\n      <td>2025-04-11</td>\n      <td>2026-04-14</td>\n      <td>פרטי</td>\n      <td>NLHA751CBJZ429963</td>\n      <td>80</td>\n      <td>שנהב לבן</td>\n      <td>175/65R14</td>\n      <td>175/65R14</td>\n      <td>בנזין</td>\n      <td>170001.0</td>\n      <td>2018-4</td>\n      <td>I10</td>\n    </tr>\n    <tr>\n      <th>...</th>\n      <td>...</td>\n      <td>...</td>\n      <td>...</td>\n      <td>...</td>\n      <td>...</td>\n      <td>...</td>\n      <td>...</td>\n      <td>...</td>\n      <td>...</td>\n      <td>...</td>\n      <td>...</td>\n      <td>...</td>\n      <td>...</td>\n      <td>...</td>\n      <td>...</td>\n      <td>...</td>\n      <td>...</td>\n      <td>...</td>\n      <td>...</td>\n      <td>...</td>\n      <td>...</td>\n      <td>...</td>\n      <td>...</td>\n      <td>...</td>\n    </tr>\n    <tr>\n      <th>31995</th>\n      <td>31996</td>\n      <td>4971475</td>\n      <td>730</td>\n      <td>P</td>\n      <td>פורד גרמניה</td>\n      <td>6</td>\n      <td>DYB</td>\n      <td>TREND</td>\n      <td>NaN</td>\n      <td>15.0</td>\n      <td>2012</td>\n      <td>PNDA</td>\n      <td>2025-03-14</td>\n      <td>2026-03-20</td>\n      <td>פרטי</td>\n      <td>WF0MXXGCBMBM09560</td>\n      <td>80</td>\n      <td>שנהב לבן</td>\n      <td>205/55R16</td>\n      <td>205/55R16</td>\n      <td>בנזין</td>\n      <td>NaN</td>\n      <td>2012-3</td>\n      <td>FOCUS</td>\n    </tr>\n    <tr>\n      <th>31996</th>\n      <td>31997</td>\n      <td>6443770</td>\n      <td>312</td>\n      <td>P</td>\n      <td>הונדה-יפן</td>\n      <td>871</td>\n      <td>ZE28</td>\n      <td>ELEGANCE</td>\n      <td>NaN</td>\n      <td>7.0</td>\n      <td>2010</td>\n      <td>LDA3</td>\n      <td>2024-08-11</td>\n      <td>2025-07-04</td>\n      <td>פרטי</td>\n      <td>JHMZE2870AS216412</td>\n      <td>11</td>\n      <td>שחור מטלי</td>\n      <td>185/55R16</td>\n      <td>185/55R16</td>\n      <td>בנזין</td>\n      <td>NaN</td>\n      <td>2010-7</td>\n      <td>INSIGHT HYBRID</td>\n    </tr>\n    <tr>\n      <th>31997</th>\n      <td>31998</td>\n      <td>1979764</td>\n      <td>588</td>\n      <td>P</td>\n      <td>מזדה יפן</td>\n      <td>282</td>\n      <td>CR19F</td>\n      <td>S</td>\n      <td>NaN</td>\n      <td>NaN</td>\n      <td>2008</td>\n      <td>LF</td>\n      <td>2024-12-08</td>\n      <td>2025-10-08</td>\n      <td>פרטי</td>\n      <td>JMZCR19F5-80217656</td>\n      <td>26</td>\n      <td>פלטינה</td>\n      <td>205/55R16</td>\n      <td>205/55R16</td>\n      <td>בנזין</td>\n      <td>NaN</td>\n      <td>None</td>\n      <td>MAZDA 5</td>\n    </tr>\n    <tr>\n      <th>31998</th>\n      <td>31999</td>\n      <td>6230316</td>\n      <td>143</td>\n      <td>P</td>\n      <td>ב מ וו גרמניה</td>\n      <td>1061</td>\n      <td>NU91</td>\n      <td></td>\n      <td>NaN</td>\n      <td>15.0</td>\n      <td>2010</td>\n      <td>N52B30AF</td>\n      <td>2024-01-11</td>\n      <td>2025-01-04</td>\n      <td>פרטי</td>\n      <td>WBANU9107A  CT29434</td>\n      <td>6</td>\n      <td>אפור כהה מטלי</td>\n      <td>225/50R17</td>\n      <td>225/50R17</td>\n      <td>בנזין</td>\n      <td>NaN</td>\n      <td>2010-1</td>\n      <td>530I</td>\n    </tr>\n    <tr>\n      <th>31999</th>\n      <td>32000</td>\n      <td>7161558</td>\n      <td>650</td>\n      <td>P</td>\n      <td>סובארו יפן</td>\n      <td>181</td>\n      <td>GD9EL5R</td>\n      <td>GX</td>\n      <td>NaN</td>\n      <td>NaN</td>\n      <td>2006</td>\n      <td>EJ 20</td>\n      <td>2023-08-26</td>\n      <td>2024-06-21</td>\n      <td>פרטי</td>\n      <td>JF1GD9LR56G451487</td>\n      <td>32</td>\n      <td>כחול בהיר</td>\n      <td>215/45/R17</td>\n      <td>215/45R17</td>\n      <td>בנזין</td>\n      <td>NaN</td>\n      <td>None</td>\n      <td>IMPREZA</td>\n    </tr>\n  </tbody>\n</table>\n<p>32000 rows × 24 columns</p>\n</div>\n    <div class=\"colab-df-buttons\">\n\n  <div class=\"colab-df-container\">\n    <button class=\"colab-df-convert\" onclick=\"convertToInteractive('df-f7317497-9c2e-4ac3-9996-8bedd3661eda')\"\n            title=\"Convert this dataframe to an interactive table.\"\n            style=\"display:none;\">\n\n  <svg xmlns=\"http://www.w3.org/2000/svg\" height=\"24px\" viewBox=\"0 -960 960 960\">\n    <path d=\"M120-120v-720h720v720H120Zm60-500h600v-160H180v160Zm220 220h160v-160H400v160Zm0 220h160v-160H400v160ZM180-400h160v-160H180v160Zm440 0h160v-160H620v160ZM180-180h160v-160H180v160Zm440 0h160v-160H620v160Z\"/>\n  </svg>\n    </button>\n\n  <style>\n    .colab-df-container {\n      display:flex;\n      gap: 12px;\n    }\n\n    .colab-df-convert {\n      background-color: #E8F0FE;\n      border: none;\n      border-radius: 50%;\n      cursor: pointer;\n      display: none;\n      fill: #1967D2;\n      height: 32px;\n      padding: 0 0 0 0;\n      width: 32px;\n    }\n\n    .colab-df-convert:hover {\n      background-color: #E2EBFA;\n      box-shadow: 0px 1px 2px rgba(60, 64, 67, 0.3), 0px 1px 3px 1px rgba(60, 64, 67, 0.15);\n      fill: #174EA6;\n    }\n\n    .colab-df-buttons div {\n      margin-bottom: 4px;\n    }\n\n    [theme=dark] .colab-df-convert {\n      background-color: #3B4455;\n      fill: #D2E3FC;\n    }\n\n    [theme=dark] .colab-df-convert:hover {\n      background-color: #434B5C;\n      box-shadow: 0px 1px 3px 1px rgba(0, 0, 0, 0.15);\n      filter: drop-shadow(0px 1px 2px rgba(0, 0, 0, 0.3));\n      fill: #FFFFFF;\n    }\n  </style>\n\n    <script>\n      const buttonEl =\n        document.querySelector('#df-f7317497-9c2e-4ac3-9996-8bedd3661eda button.colab-df-convert');\n      buttonEl.style.display =\n        google.colab.kernel.accessAllowed ? 'block' : 'none';\n\n      async function convertToInteractive(key) {\n        const element = document.querySelector('#df-f7317497-9c2e-4ac3-9996-8bedd3661eda');\n        const dataTable =\n          await google.colab.kernel.invokeFunction('convertToInteractive',\n                                                    [key], {});\n        if (!dataTable) return;\n\n        const docLinkHtml = 'Like what you see? Visit the ' +\n          '<a target=\"_blank\" href=https://colab.research.google.com/notebooks/data_table.ipynb>data table notebook</a>'\n          + ' to learn more about interactive tables.';\n        element.innerHTML = '';\n        dataTable['output_type'] = 'display_data';\n        await google.colab.output.renderOutput(dataTable, element);\n        const docLink = document.createElement('div');\n        docLink.innerHTML = docLinkHtml;\n        element.appendChild(docLink);\n      }\n    </script>\n  </div>\n\n\n<div id=\"df-f17318de-0946-4ea8-a294-1afaae75a660\">\n  <button class=\"colab-df-quickchart\" onclick=\"quickchart('df-f17318de-0946-4ea8-a294-1afaae75a660')\"\n            title=\"Suggest charts\"\n            style=\"display:none;\">\n\n<svg xmlns=\"http://www.w3.org/2000/svg\" height=\"24px\"viewBox=\"0 0 24 24\"\n     width=\"24px\">\n    <g>\n        <path d=\"M19 3H5c-1.1 0-2 .9-2 2v14c0 1.1.9 2 2 2h14c1.1 0 2-.9 2-2V5c0-1.1-.9-2-2-2zM9 17H7v-7h2v7zm4 0h-2V7h2v10zm4 0h-2v-4h2v4z\"/>\n    </g>\n</svg>\n  </button>\n\n<style>\n  .colab-df-quickchart {\n      --bg-color: #E8F0FE;\n      --fill-color: #1967D2;\n      --hover-bg-color: #E2EBFA;\n      --hover-fill-color: #174EA6;\n      --disabled-fill-color: #AAA;\n      --disabled-bg-color: #DDD;\n  }\n\n  [theme=dark] .colab-df-quickchart {\n      --bg-color: #3B4455;\n      --fill-color: #D2E3FC;\n      --hover-bg-color: #434B5C;\n      --hover-fill-color: #FFFFFF;\n      --disabled-bg-color: #3B4455;\n      --disabled-fill-color: #666;\n  }\n\n  .colab-df-quickchart {\n    background-color: var(--bg-color);\n    border: none;\n    border-radius: 50%;\n    cursor: pointer;\n    display: none;\n    fill: var(--fill-color);\n    height: 32px;\n    padding: 0;\n    width: 32px;\n  }\n\n  .colab-df-quickchart:hover {\n    background-color: var(--hover-bg-color);\n    box-shadow: 0 1px 2px rgba(60, 64, 67, 0.3), 0 1px 3px 1px rgba(60, 64, 67, 0.15);\n    fill: var(--button-hover-fill-color);\n  }\n\n  .colab-df-quickchart-complete:disabled,\n  .colab-df-quickchart-complete:disabled:hover {\n    background-color: var(--disabled-bg-color);\n    fill: var(--disabled-fill-color);\n    box-shadow: none;\n  }\n\n  .colab-df-spinner {\n    border: 2px solid var(--fill-color);\n    border-color: transparent;\n    border-bottom-color: var(--fill-color);\n    animation:\n      spin 1s steps(1) infinite;\n  }\n\n  @keyframes spin {\n    0% {\n      border-color: transparent;\n      border-bottom-color: var(--fill-color);\n      border-left-color: var(--fill-color);\n    }\n    20% {\n      border-color: transparent;\n      border-left-color: var(--fill-color);\n      border-top-color: var(--fill-color);\n    }\n    30% {\n      border-color: transparent;\n      border-left-color: var(--fill-color);\n      border-top-color: var(--fill-color);\n      border-right-color: var(--fill-color);\n    }\n    40% {\n      border-color: transparent;\n      border-right-color: var(--fill-color);\n      border-top-color: var(--fill-color);\n    }\n    60% {\n      border-color: transparent;\n      border-right-color: var(--fill-color);\n    }\n    80% {\n      border-color: transparent;\n      border-right-color: var(--fill-color);\n      border-bottom-color: var(--fill-color);\n    }\n    90% {\n      border-color: transparent;\n      border-bottom-color: var(--fill-color);\n    }\n  }\n</style>\n\n  <script>\n    async function quickchart(key) {\n      const quickchartButtonEl =\n        document.querySelector('#' + key + ' button');\n      quickchartButtonEl.disabled = true;  // To prevent multiple clicks.\n      quickchartButtonEl.classList.add('colab-df-spinner');\n      try {\n        const charts = await google.colab.kernel.invokeFunction(\n            'suggestCharts', [key], {});\n      } catch (error) {\n        console.error('Error during call to suggestCharts:', error);\n      }\n      quickchartButtonEl.classList.remove('colab-df-spinner');\n      quickchartButtonEl.classList.add('colab-df-quickchart-complete');\n    }\n    (() => {\n      let quickchartButtonEl =\n        document.querySelector('#df-f17318de-0946-4ea8-a294-1afaae75a660 button');\n      quickchartButtonEl.style.display =\n        google.colab.kernel.accessAllowed ? 'block' : 'none';\n    })();\n  </script>\n</div>\n\n  <div id=\"id_03dfc78a-3576-421b-a223-c52ef2b32fe4\">\n    <style>\n      .colab-df-generate {\n        background-color: #E8F0FE;\n        border: none;\n        border-radius: 50%;\n        cursor: pointer;\n        display: none;\n        fill: #1967D2;\n        height: 32px;\n        padding: 0 0 0 0;\n        width: 32px;\n      }\n\n      .colab-df-generate:hover {\n        background-color: #E2EBFA;\n        box-shadow: 0px 1px 2px rgba(60, 64, 67, 0.3), 0px 1px 3px 1px rgba(60, 64, 67, 0.15);\n        fill: #174EA6;\n      }\n\n      [theme=dark] .colab-df-generate {\n        background-color: #3B4455;\n        fill: #D2E3FC;\n      }\n\n      [theme=dark] .colab-df-generate:hover {\n        background-color: #434B5C;\n        box-shadow: 0px 1px 3px 1px rgba(0, 0, 0, 0.15);\n        filter: drop-shadow(0px 1px 2px rgba(0, 0, 0, 0.3));\n        fill: #FFFFFF;\n      }\n    </style>\n    <button class=\"colab-df-generate\" onclick=\"generateWithVariable('df')\"\n            title=\"Generate code using this dataframe.\"\n            style=\"display:none;\">\n\n  <svg xmlns=\"http://www.w3.org/2000/svg\" height=\"24px\"viewBox=\"0 0 24 24\"\n       width=\"24px\">\n    <path d=\"M7,19H8.4L18.45,9,17,7.55,7,17.6ZM5,21V16.75L18.45,3.32a2,2,0,0,1,2.83,0l1.4,1.43a1.91,1.91,0,0,1,.58,1.4,1.91,1.91,0,0,1-.58,1.4L9.25,21ZM18.45,9,17,7.55Zm-12,3A5.31,5.31,0,0,0,4.9,8.1,5.31,5.31,0,0,0,1,6.5,5.31,5.31,0,0,0,4.9,4.9,5.31,5.31,0,0,0,6.5,1,5.31,5.31,0,0,0,8.1,4.9,5.31,5.31,0,0,0,12,6.5,5.46,5.46,0,0,0,6.5,12Z\"/>\n  </svg>\n    </button>\n    <script>\n      (() => {\n      const buttonEl =\n        document.querySelector('#id_03dfc78a-3576-421b-a223-c52ef2b32fe4 button.colab-df-generate');\n      buttonEl.style.display =\n        google.colab.kernel.accessAllowed ? 'block' : 'none';\n\n      buttonEl.onclick = () => {\n        google.colab.notebook.generateWithVariable('df');\n      }\n      })();\n    </script>\n  </div>\n\n    </div>\n  </div>\n",
                  "application/vnd.google.colaboratory.intrinsic+json": {
                    "type": "dataframe",
                    "variable_name": "df"
                  }
                },
                "metadata": {}
              }
            ]
          }
        },
        "20c98fb049bc49d289f9de6ba4827442": {
          "model_module": "@jupyter-widgets/output",
          "model_name": "OutputModel",
          "model_module_version": "1.0.0",
          "state": {
            "_dom_classes": [],
            "_model_module": "@jupyter-widgets/output",
            "_model_module_version": "1.0.0",
            "_model_name": "OutputModel",
            "_view_count": null,
            "_view_module": "@jupyter-widgets/output",
            "_view_module_version": "1.0.0",
            "_view_name": "OutputView",
            "layout": "IPY_MODEL_11935a252cd4448188713c4d909fd50f",
            "msg_id": "",
            "outputs": [
              {
                "output_type": "stream",
                "name": "stdout",
                "text": [
                  "Charts:\n"
                ]
              },
              {
                "output_type": "display_data",
                "data": {
                  "text/plain": "<Figure size 640x480 with 0 Axes>"
                },
                "metadata": {}
              },
              {
                "output_type": "display_data",
                "data": {
                  "text/plain": "<Figure size 1000x800 with 0 Axes>"
                },
                "metadata": {}
              },
              {
                "output_type": "display_data",
                "data": {
                  "text/plain": "<Figure size 1000x600 with 1 Axes>",
                  "image/png": "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\n"
                },
                "metadata": {}
              }
            ]
          }
        },
        "a6cc3169158f47d5aedea5bf3de84c89": {
          "model_module": "@jupyter-widgets/base",
          "model_name": "LayoutModel",
          "model_module_version": "1.2.0",
          "state": {
            "_model_module": "@jupyter-widgets/base",
            "_model_module_version": "1.2.0",
            "_model_name": "LayoutModel",
            "_view_count": null,
            "_view_module": "@jupyter-widgets/base",
            "_view_module_version": "1.2.0",
            "_view_name": "LayoutView",
            "align_content": null,
            "align_items": null,
            "align_self": null,
            "border": null,
            "bottom": null,
            "display": null,
            "flex": null,
            "flex_flow": null,
            "grid_area": null,
            "grid_auto_columns": null,
            "grid_auto_flow": null,
            "grid_auto_rows": null,
            "grid_column": null,
            "grid_gap": null,
            "grid_row": null,
            "grid_template_areas": null,
            "grid_template_columns": null,
            "grid_template_rows": null,
            "height": null,
            "justify_content": null,
            "justify_items": null,
            "left": null,
            "margin": null,
            "max_height": null,
            "max_width": null,
            "min_height": null,
            "min_width": null,
            "object_fit": null,
            "object_position": null,
            "order": null,
            "overflow": null,
            "overflow_x": null,
            "overflow_y": null,
            "padding": null,
            "right": null,
            "top": null,
            "visibility": null,
            "width": null
          }
        },
        "ca9cf3fa13544609b5a0404ab7df37ff": {
          "model_module": "@jupyter-widgets/base",
          "model_name": "LayoutModel",
          "model_module_version": "1.2.0",
          "state": {
            "_model_module": "@jupyter-widgets/base",
            "_model_module_version": "1.2.0",
            "_model_name": "LayoutModel",
            "_view_count": null,
            "_view_module": "@jupyter-widgets/base",
            "_view_module_version": "1.2.0",
            "_view_name": "LayoutView",
            "align_content": null,
            "align_items": null,
            "align_self": null,
            "border": null,
            "bottom": null,
            "display": null,
            "flex": null,
            "flex_flow": null,
            "grid_area": null,
            "grid_auto_columns": null,
            "grid_auto_flow": null,
            "grid_auto_rows": null,
            "grid_column": null,
            "grid_gap": null,
            "grid_row": null,
            "grid_template_areas": null,
            "grid_template_columns": null,
            "grid_template_rows": null,
            "height": null,
            "justify_content": null,
            "justify_items": null,
            "left": null,
            "margin": null,
            "max_height": null,
            "max_width": null,
            "min_height": null,
            "min_width": null,
            "object_fit": null,
            "object_position": null,
            "order": null,
            "overflow": null,
            "overflow_x": null,
            "overflow_y": null,
            "padding": null,
            "right": null,
            "top": null,
            "visibility": null,
            "width": null
          }
        },
        "f07cb6ee819d4f3489d2964669273256": {
          "model_module": "@jupyter-widgets/base",
          "model_name": "LayoutModel",
          "model_module_version": "1.2.0",
          "state": {
            "_model_module": "@jupyter-widgets/base",
            "_model_module_version": "1.2.0",
            "_model_name": "LayoutModel",
            "_view_count": null,
            "_view_module": "@jupyter-widgets/base",
            "_view_module_version": "1.2.0",
            "_view_name": "LayoutView",
            "align_content": null,
            "align_items": null,
            "align_self": null,
            "border": null,
            "bottom": null,
            "display": null,
            "flex": null,
            "flex_flow": null,
            "grid_area": null,
            "grid_auto_columns": null,
            "grid_auto_flow": null,
            "grid_auto_rows": null,
            "grid_column": null,
            "grid_gap": null,
            "grid_row": null,
            "grid_template_areas": null,
            "grid_template_columns": null,
            "grid_template_rows": null,
            "height": null,
            "justify_content": null,
            "justify_items": null,
            "left": null,
            "margin": null,
            "max_height": null,
            "max_width": null,
            "min_height": null,
            "min_width": null,
            "object_fit": null,
            "object_position": null,
            "order": null,
            "overflow": null,
            "overflow_x": null,
            "overflow_y": null,
            "padding": null,
            "right": null,
            "top": null,
            "visibility": null,
            "width": null
          }
        },
        "11935a252cd4448188713c4d909fd50f": {
          "model_module": "@jupyter-widgets/base",
          "model_name": "LayoutModel",
          "model_module_version": "1.2.0",
          "state": {
            "_model_module": "@jupyter-widgets/base",
            "_model_module_version": "1.2.0",
            "_model_name": "LayoutModel",
            "_view_count": null,
            "_view_module": "@jupyter-widgets/base",
            "_view_module_version": "1.2.0",
            "_view_name": "LayoutView",
            "align_content": null,
            "align_items": null,
            "align_self": null,
            "border": null,
            "bottom": null,
            "display": null,
            "flex": null,
            "flex_flow": null,
            "grid_area": null,
            "grid_auto_columns": null,
            "grid_auto_flow": null,
            "grid_auto_rows": null,
            "grid_column": null,
            "grid_gap": null,
            "grid_row": null,
            "grid_template_areas": null,
            "grid_template_columns": null,
            "grid_template_rows": null,
            "height": null,
            "justify_content": null,
            "justify_items": null,
            "left": null,
            "margin": null,
            "max_height": null,
            "max_width": null,
            "min_height": null,
            "min_width": null,
            "object_fit": null,
            "object_position": null,
            "order": null,
            "overflow": null,
            "overflow_x": null,
            "overflow_y": null,
            "padding": null,
            "right": null,
            "top": null,
            "visibility": null,
            "width": null
          }
        }
      }
    }
  },
  "cells": [
    {
      "cell_type": "code",
      "execution_count": 15,
      "metadata": {
        "colab": {
          "base_uri": "https://localhost:8080/",
          "height": 649,
          "referenced_widgets": [
            "e82a6f1ef5884f18857ff6bf8d9f32fb",
            "693d329db7254ea5b21523d9c070f935",
            "d21d582c197040e4ad0b237b1bcd247c",
            "20c98fb049bc49d289f9de6ba4827442",
            "a6cc3169158f47d5aedea5bf3de84c89",
            "ca9cf3fa13544609b5a0404ab7df37ff",
            "f07cb6ee819d4f3489d2964669273256",
            "11935a252cd4448188713c4d909fd50f"
          ]
        },
        "id": "o8p3RmCf-eUA",
        "outputId": "529c4ce9-f3fb-4bda-bf29-ea6d3de2fb4a"
      },
      "outputs": [
        {
          "output_type": "display_data",
          "data": {
            "text/plain": [
              "Tab(children=(Output(), Output(), Output()), _titles={'0': 'Tab 1: Data Overview', '1': 'Tab 2: Raw Data', '2'…"
            ],
            "application/vnd.jupyter.widget-view+json": {
              "version_major": 2,
              "version_minor": 0,
              "model_id": "e82a6f1ef5884f18857ff6bf8d9f32fb"
            }
          },
          "metadata": {}
        }
      ],
      "source": [
        "url = 'https://data.gov.il/api/3/action/datastore_search?resource_id=053cea08-09bc-40ec-8f7a-156f0677aff3'\n",
        "import requests\n",
        "import pandas as pd\n",
        "import ipywidgets as widgets\n",
        "from IPython.display import display\n",
        "from plotly.offline import iplot\n",
        "import plotly.graph_objs as go\n",
        "import matplotlib.pyplot as plt\n",
        "import numpy as np\n",
        "import seaborn as sns\n",
        "import plotly.express as px\n",
        "\n",
        "# Create a simple DataFrame\n",
        "pd.set_option(\"display.max_columns\", None)\n",
        "response = requests.get(url)\n",
        "data = response.json()['result']['records']\n",
        "df = pd.DataFrame(data)\n",
        "\n",
        "# Tab 1: Data Overview\n",
        "tab1_content = widgets.Output()\n",
        "with tab1_content:\n",
        "    print(\"Data Overview:\")\n",
        "    display(df.describe())  # Summary statistics\n",
        "\n",
        "# Tab 2: Raw Data\n",
        "tab2_content = widgets.Output()\n",
        "with tab2_content:\n",
        "    print(\"Raw Data:\")\n",
        "    display(df)  # Full DataFrame\n",
        "\n",
        "# Tab 3: Charts\n",
        "tab3_content = widgets.Output()\n",
        "with tab3_content:\n",
        "    print(\"Charts:\")\n",
        "    plt.clf()  # Clear the current figure\n",
        "    plt.figure(figsize=(10, 8))  # Increased figure size to accommodate labels\n",
        "    side_length = 10\n",
        "    data = 5 + np.random.randn(side_length, side_length)\n",
        "    data += np.arange(side_length)\n",
        "    data += np.reshape(np.arange(side_length), (side_length, 1))\n",
        "\n",
        "    # Create bat chart\n",
        "    # year = data = response.json()['result']['records']['shnat_yitzur']\n",
        "    # plt.bar(years, amount)\n",
        "\n",
        "\n",
        "    ######\n",
        "    # Group data by year and count occurrences\n",
        "    year_counts = df['shnat_yitzur'].value_counts().sort_index()\n",
        "\n",
        "    # Extract years and counts\n",
        "    years = year_counts.index\n",
        "    amount = year_counts.values\n",
        "\n",
        "    # Create bar chart\n",
        "    plt.figure(figsize=(10, 6))  # Adjust figure size as needed\n",
        "    plt.bar(years, amount)\n",
        "    plt.xlabel(\"Year\")\n",
        "    plt.ylabel(\"Number of Cars\")\n",
        "    plt.title(\"Number of Cars per Year\")\n",
        "    plt.xticks(rotation=45, ha='right')  # Rotate x-axis labels for better readability\n",
        "    plt.tight_layout()  # Adjust layout to prevent labels from overlapping\n",
        "    plt.show()\n",
        "\n",
        "    ####\n",
        "\n",
        "\n",
        "\n",
        "    # Create heatmap with labels\n",
        "    # heatmap = sns.heatmap(data,\n",
        "    #                      cmap='viridis',\n",
        "    #                      annot=True,\n",
        "    #                      fmt='.1f',\n",
        "    #                      cbar_kws={'label': 'Value Intensity'})\n",
        "    # plt.title('Enhanced Heatmap with Labels')\n",
        "    # plt.xlabel('X Axis Position')\n",
        "    # plt.ylabel('Y Axis Position')\n",
        "    # plt.show()  # Add this to display the plot\n",
        "    # plt.close()  # Close the figure to free memory\n",
        "\n",
        "\n",
        "# Create Tabs\n",
        "tabs = widgets.Tab(children=[tab1_content, tab2_content,tab3_content])\n",
        "tabs.set_title(0, 'Tab 1: Data Overview')\n",
        "tabs.set_title(1, 'Tab 2: Raw Data')\n",
        "tabs.set_title(2, 'Tab 3: Year Count')\n",
        "\n",
        "\n",
        "\n",
        "# Display Tabs\n",
        "display(tabs)"
      ]
    }
  ]
}