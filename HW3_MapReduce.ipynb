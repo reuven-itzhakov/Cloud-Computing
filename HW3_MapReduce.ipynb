{
  "nbformat": 4,
  "nbformat_minor": 0,
  "metadata": {
    "colab": {
      "provenance": [],
      "include_colab_link": true
    },
    "kernelspec": {
      "name": "python3",
      "display_name": "Python 3"
    },
    "language_info": {
      "name": "python"
    }
  },
  "cells": [
    {
      "cell_type": "markdown",
      "metadata": {
        "id": "view-in-github",
        "colab_type": "text"
      },
      "source": [
        "<a href=\"https://colab.research.google.com/github/reuven-itzhakov/Cloud-Computing/blob/main/HW3_MapReduce.ipynb\" target=\"_parent\"><img src=\"https://colab.research.google.com/assets/colab-badge.svg\" alt=\"Open In Colab\"/></a>"
      ]
    },
    {
      "cell_type": "code",
      "execution_count": null,
      "metadata": {
        "id": "Nop2BWRQrBdl"
      },
      "outputs": [],
      "source": [
        "!pip install firebase"
      ]
    },
    {
      "cell_type": "code",
      "source": [
        "from firebase import firebase\n",
        "\n",
        "import pandas as pd\n",
        "import matplotlib.pyplot as plt\n",
        "import numpy as np\n",
        "import seaborn as sns\n",
        "from collections import Counter\n",
        "\n",
        "import time\n",
        "import random\n",
        "from datetime import datetime\n",
        "\n",
        "import json"
      ],
      "metadata": {
        "id": "p0fmPsvqrIQb"
      },
      "execution_count": null,
      "outputs": []
    },
    {
      "cell_type": "code",
      "source": [
        "FBconn = firebase.FirebaseApplication('https://cloud-comp-sloth-default-rtdb.europe-west1.firebasedatabase.app/', None)"
      ],
      "metadata": {
        "id": "385hjLEMrVW3"
      },
      "execution_count": null,
      "outputs": []
    },
    {
      "cell_type": "code",
      "source": [
        "sensors = [\n",
        "    \"Humidity(Outdoor)\",\n",
        "    \"Humidity(Indoor)\",\n",
        "    \"Pressure(Outdoor)\",\n",
        "    \"Pressure(Indoor)\",\n",
        "    \"Temperature(Outdoor)\",\n",
        "    \"Temperature(Indoor)\",\n",
        "    \"Dlight(Outdoor)\",\n",
        "    \"Distance(Indoor)\"\n",
        "]"
      ],
      "metadata": {
        "id": "sSJoL-X9sB9C"
      },
      "execution_count": null,
      "outputs": []
    },
    {
      "cell_type": "code",
      "source": [
        "# Retrieve sensor data from Firebase and format it\n",
        "def map_sensor(sensor_name):\n",
        "    # Get data for the sensor from Firebase\n",
        "    data = FBconn.get(f'/sensors/{sensor_name}', None)\n",
        "\n",
        "    # Initialize a list to store the processed data\n",
        "    grouped = []\n",
        "\n",
        "    # Iterate through the data and format it as (rounded_value, timestamp) tuples\n",
        "    for timestamp, value in data.items():\n",
        "        grouped.append((float(np.round(value,2)), timestamp))\n",
        "    return grouped"
      ],
      "metadata": {
        "id": "Yt-IXck6vmYp"
      },
      "execution_count": null,
      "outputs": []
    },
    {
      "cell_type": "code",
      "source": [
        "def reduce_sensor(grouped):\n",
        "    \"\"\"\n",
        "    Groups timestamps by sensor value.\n",
        "    Args:\n",
        "        grouped: A list of (value, timestamp) tuples.\n",
        "    Returns:\n",
        "        A dictionary where keys are sensor values and values are lists of timestamps.\n",
        "    \"\"\"\n",
        "    mapped = {}\n",
        "    for value, timestamp in grouped:\n",
        "        if value not in mapped:\n",
        "            mapped[value] = []\n",
        "        mapped[value].append(timestamp)\n",
        "    return mapped\n"
      ],
      "metadata": {
        "id": "AaSRP7e5x018"
      },
      "execution_count": null,
      "outputs": []
    },
    {
      "cell_type": "code",
      "source": [
        "# Initialize an empty dictionary to store the map-reduced sensor data.\n",
        "mapreduced_sensors = {}\n",
        "\n",
        "# Apply map and reduce functions to each sensor and store the results.\n",
        "for sensor in sensors:\n",
        "    mapped_sensor = map_sensor(sensor)\n",
        "    reduced_sensor = reduce_sensor(mapped_sensor)\n",
        "    mapreduced_sensors[sensor] = reduced_sensor"
      ],
      "metadata": {
        "id": "Zj51nXdiyYSt"
      },
      "execution_count": null,
      "outputs": []
    },
    {
      "cell_type": "code",
      "source": [
        "sensor_data = mapreduced_sensors # Preprocessed sensor data\n",
        "\n",
        "# Function to calculate sensor summary\n",
        "def calculate_sensor_summary(sensor_data, sensors):\n",
        "    summary_rows = []\n",
        "    for sensor in sensors:\n",
        "        value_dict = sensor_data[sensor]\n",
        "        all_values = []\n",
        "        value_counter = Counter()\n",
        "        for val, timestamps in value_dict.items():\n",
        "            count = len(timestamps)\n",
        "            all_values.extend([val] * count)\n",
        "            value_counter[val] += count\n",
        "\n",
        "        min_val = min(all_values)\n",
        "        max_val = max(all_values)\n",
        "        avg_val = sum(all_values) / len(all_values)\n",
        "        most_common_val, _ = value_counter.most_common(1)[0]\n",
        "\n",
        "        summary_rows.append({\n",
        "            \"sensor\": sensor,\n",
        "            \"min_value\": min_val,\n",
        "            \"max_value\": max_val,\n",
        "            \"avg_value\": round(avg_val, 2),\n",
        "            \"1_most_common_value\": most_common_val\n",
        "        })\n",
        "\n",
        "    return pd.DataFrame(summary_rows)\n",
        "\n",
        "# Generate summary table for Humidity sensors\n",
        "for i in range(0, len(sensors), 2):\n",
        "    humidity_summary_df = calculate_sensor_summary(sensor_data, [sensors[i], sensors[i+1]])\n",
        "    display(humidity_summary_df)"
      ],
      "metadata": {
        "id": "n46ZvvPG7DPM"
      },
      "execution_count": null,
      "outputs": []
    },
    {
      "cell_type": "code",
      "source": [
        "# Flatten the data for DataFrame construction\n",
        "records = []\n",
        "sensor_data = mapreduced_sensors\n",
        "for sensor, values in sensor_data.items():\n",
        "    for value, timestamps in values.items():\n",
        "        for ts in timestamps:\n",
        "            records.append({\n",
        "                \"Sensor\": sensor,\n",
        "                \"Value\": value,\n",
        "                \"Timestamp\": int(ts)\n",
        "            })\n",
        "\n",
        "df = pd.DataFrame(records) # Create DataFrame\n",
        "\n",
        "# Histogram - Distribution of Values per Sensor\n",
        "plt.figure(figsize=(10, 6))\n",
        "sns.histplot(data=df, x=\"Value\", hue=\"Sensor\", kde=False, bins=10, multiple=\"stack\")\n",
        "plt.title(\"Histogram: Distribution of Sensor Values\")\n",
        "plt.tight_layout()\n",
        "plt.show()"
      ],
      "metadata": {
        "id": "PsXmxsG82suq"
      },
      "execution_count": null,
      "outputs": []
    }
  ]
}